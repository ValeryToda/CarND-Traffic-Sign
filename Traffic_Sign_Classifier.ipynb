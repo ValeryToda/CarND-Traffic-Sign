{
 "cells": [
  {
   "cell_type": "markdown",
   "metadata": {},
   "source": [
    "# Self-Driving Car Engineer Nanodegree\n",
    "\n",
    "## Deep Learning\n",
    "\n",
    "## Project: Build a Traffic Sign Recognition Classifier\n",
    "\n",
    "In this notebook, a template is provided for you to implement your functionality in stages, which is required to successfully complete this project. If additional code is required that cannot be included in the notebook, be sure that the Python code is successfully imported and included in your submission if necessary. \n",
    "\n",
    "> **Note**: Once you have completed all of the code implementations, you need to finalize your work by exporting the iPython Notebook as an HTML document. Before exporting the notebook to html, all of the code cells need to have been run so that reviewers can see the final implementation and output. You can then export the notebook by using the menu above and navigating to  \\n\",\n",
    "    \"**File -> Download as -> HTML (.html)**. Include the finished document along with this notebook as your submission. \n",
    "\n",
    "In addition to implementing code, there is a writeup to complete. The writeup should be completed in a separate file, which can be either a markdown file or a pdf document. There is a [write up template](https://github.com/udacity/CarND-Traffic-Sign-Classifier-Project/blob/master/writeup_template.md) that can be used to guide the writing process. Completing the code template and writeup template will cover all of the [rubric points](https://review.udacity.com/#!/rubrics/481/view) for this project.\n",
    "\n",
    "The [rubric](https://review.udacity.com/#!/rubrics/481/view) contains \"Stand Out Suggestions\" for enhancing the project beyond the minimum requirements. The stand out suggestions are optional. If you decide to pursue the \"stand out suggestions\", you can include the code in this Ipython notebook and also discuss the results in the writeup file.\n",
    "\n",
    "\n",
    ">**Note:** Code and Markdown cells can be executed using the **Shift + Enter** keyboard shortcut. In addition, Markdown cells can be edited by typically double-clicking the cell to enter edit mode."
   ]
  },
  {
   "cell_type": "markdown",
   "metadata": {},
   "source": [
    "---\n",
    "## Imports"
   ]
  },
  {
   "cell_type": "code",
   "execution_count": 1,
   "metadata": {
    "ExecuteTime": {
     "end_time": "2017-07-02T11:39:42.588718Z",
     "start_time": "2017-07-02T11:39:39.741613Z"
    }
   },
   "outputs": [
    {
     "name": "stderr",
     "output_type": "stream",
     "text": [
      "Using TensorFlow backend.\n"
     ]
    }
   ],
   "source": [
    "from IPython import get_ipython\n",
    "get_ipython().magic('reset -sf')\n",
    "\n",
    "import tensorflow as tf\n",
    "from keras.models import Sequential\n",
    "from keras.layers import Dense, Conv2D, Conv1D, Conv3D, MaxPool2D, Flatten, Dropout\n",
    "import keras.backend as K\n",
    "from keras import optimizers\n",
    "from keras import initializers\n",
    "from keras import regularizers\n",
    "from keras.preprocessing.image import ImageDataGenerator\n",
    "from keras.models import load_model\n",
    "from keras.models import model_from_json\n",
    "from sklearn.metrics import classification_report, confusion_matrix\n",
    "from keras.callbacks import EarlyStopping\n",
    "from keras.callbacks import ModelCheckpoint\n",
    "from keras.callbacks import LearningRateScheduler\n",
    "from sklearn.metrics import confusion_matrix\n",
    "from keras import metrics\n",
    "from keras.layers import BatchNormalization\n",
    "from sklearn.utils import shuffle\n",
    "from matplotlib import colors\n",
    "from ipywidgets import widgets\n",
    "import traitlets\n",
    "from IPython.display import display\n",
    "import matplotlib.gridspec as gridspec\n",
    "from skimage.transform import warp, warp_coords\n",
    "from scipy.ndimage.interpolation import map_coordinates\n",
    "from skimage.transform import ProjectiveTransform\n",
    "from skimage import color\n",
    "from skimage import exposure, img_as_float\n",
    "import random\n",
    "import collections\n",
    "import os.path\n",
    "import pickle\n",
    "import pandas as pd\n",
    "import numpy as np\n",
    "import math\n",
    "import os"
   ]
  },
  {
   "cell_type": "markdown",
   "metadata": {},
   "source": [
    "## Load the data"
   ]
  },
  {
   "cell_type": "code",
   "execution_count": 2,
   "metadata": {
    "ExecuteTime": {
     "end_time": "2017-07-02T11:39:42.827301Z",
     "start_time": "2017-07-02T11:39:42.590493Z"
    },
    "collapsed": true
   },
   "outputs": [],
   "source": [
    "# Load pickled data\n",
    "\n",
    "# TODO: Fill this in based on where you saved the training and testing data\n",
    "\n",
    "training_file = \"./source/train.p\"\n",
    "validation_file= \"./source/valid.p\"\n",
    "testing_file = \"./source/test.p\"\n",
    "\n",
    "with open(training_file, mode='rb') as f:\n",
    "    train = pickle.load(f)\n",
    "with open(validation_file, mode='rb') as f:\n",
    "    valid = pickle.load(f)\n",
    "with open(testing_file, mode='rb') as f:\n",
    "    test = pickle.load(f)\n",
    "    \n",
    "X_train, y_train = train['features'], train['labels']\n",
    "X_valid, y_valid = valid['features'], valid['labels']\n",
    "X_test, y_test = test['features'], test['labels']\n",
    "\n",
    "signnames = pd.read_csv(\"./source/signnames.csv\")"
   ]
  },
  {
   "cell_type": "markdown",
   "metadata": {},
   "source": [
    "---\n",
    "\n",
    "## Step 1: Dataset Summary & Exploration\n",
    "\n",
    "The pickled data is a dictionary with 4 key/value pairs:\n",
    "\n",
    "- `'features'` is a 4D array containing raw pixel data of the traffic sign images, (num examples, width, height, channels).\n",
    "- `'labels'` is a 1D array containing the label/class id of the traffic sign. The file `signnames.csv` contains id -> name mappings for each id.\n",
    "- `'sizes'` is a list containing tuples, (width, height) representing the original width and height the image.\n",
    "- `'coords'` is a list containing tuples, (x1, y1, x2, y2) representing coordinates of a bounding box around the sign in the image. **THESE COORDINATES ASSUME THE ORIGINAL IMAGE. THE PICKLED DATA CONTAINS RESIZED VERSIONS (32 by 32) OF THESE IMAGES**\n",
    "\n",
    "Complete the basic data summary below. Use python, numpy and/or pandas methods to calculate the data summary rather than hard coding the results. For example, the [pandas shape method](http://pandas.pydata.org/pandas-docs/stable/generated/pandas.DataFrame.shape.html) might be useful for calculating some of the summary results. "
   ]
  },
  {
   "cell_type": "markdown",
   "metadata": {},
   "source": [
    "### Provide a Basic Summary of the Data Set Using Python, Numpy and/or Pandas"
   ]
  },
  {
   "cell_type": "code",
   "execution_count": 3,
   "metadata": {
    "ExecuteTime": {
     "end_time": "2017-07-02T11:39:42.845283Z",
     "start_time": "2017-07-02T11:39:42.829144Z"
    }
   },
   "outputs": [
    {
     "name": "stdout",
     "output_type": "stream",
     "text": [
      "Number of training examples = 34799\n",
      "Number of validation examples = 4410\n",
      "Number of testing examples = 12630\n",
      "Image data shape = (32, 32, 3)\n",
      "Number of classes = 43\n"
     ]
    }
   ],
   "source": [
    "### Replace each question mark with the appropriate value. \n",
    "### Use python, pandas or numpy methods rather than hard coding the results\n",
    "\n",
    "# TODO: Number of training examples\n",
    "n_train = len (X_train)\n",
    "\n",
    "# TODO: Number of validation examples\n",
    "n_validation = len (X_valid)\n",
    "\n",
    "# TODO: Number of testing examples.\n",
    "n_test = len(X_test)\n",
    "\n",
    "# TODO: What's the shape of an traffic sign image?\n",
    "image_shape = X_train[0].shape\n",
    "\n",
    "# TODO: How many unique classes/labels there are in the dataset.\n",
    "n_classes = len(np.unique(y_train))\n",
    "\n",
    "\n",
    "n_valid = len(X_valid)\n",
    "\n",
    "print(\"Number of training examples =\", n_train)\n",
    "print(\"Number of validation examples =\", n_valid)\n",
    "print(\"Number of testing examples =\", n_test)\n",
    "print(\"Image data shape =\", image_shape)\n",
    "print(\"Number of classes =\", n_classes)"
   ]
  },
  {
   "cell_type": "markdown",
   "metadata": {},
   "source": [
    "\n",
    "### Include an exploratory visualization of the dataset"
   ]
  },
  {
   "cell_type": "markdown",
   "metadata": {},
   "source": [
    "Visualize the German Traffic Signs Dataset using the pickled file(s). This is open ended, suggestions include: plotting traffic sign images, plotting the count of each sign, etc. \n",
    "\n",
    "The [Matplotlib](http://matplotlib.org/) [examples](http://matplotlib.org/examples/index.html) and [gallery](http://matplotlib.org/gallery.html) pages are a great resource for doing visualizations in Python.\n",
    "\n",
    "**NOTE:** It's recommended you start with something simple first. If you wish to do more, come back to it after you've completed the rest of the sections. It can be interesting to look at the distribution of classes in the training, validation and test set. Is the distribution the same? Are there more examples of some classes than others?"
   ]
  },
  {
   "cell_type": "code",
   "execution_count": 4,
   "metadata": {
    "ExecuteTime": {
     "end_time": "2017-07-02T11:39:43.777765Z",
     "start_time": "2017-07-02T11:39:42.847242Z"
    }
   },
   "outputs": [
    {
     "data": {
      "image/png": "[encoded data removed]",
      "text/plain": [
       "<matplotlib.figure.Figure at 0x123658a20>"
      ]
     },
     "metadata": {},
     "output_type": "display_data"
    },
    {
     "data": {
      "image/png": "[encoded data removed]",
      "text/plain": [
       "<matplotlib.figure.Figure at 0x136ecaac8>"
      ]
     },
     "metadata": {},
     "output_type": "display_data"
    },
    {
     "data": {
      "image/png": "[encoded data removed]",
      "text/plain": [
       "<matplotlib.figure.Figure at 0x136fb9588>"
      ]
     },
     "metadata": {},
     "output_type": "display_data"
    }
   ],
   "source": [
    "### Data exploration visualization code goes here.\n",
    "### Feel free to use as many code cells as needed.\n",
    "import matplotlib.pyplot as plt\n",
    "# Visualizations will be shown in the notebook.\n",
    "%matplotlib inline\n",
    "\n",
    "def plot_histograms(n_classes):\n",
    "    \"\"\"Ploting distributions of each set\"\"\"\n",
    "    def count_labels(y, n_cls=n_classes):\n",
    "        temp = y.tolist()\n",
    "        labels_count = np.zeros(n_classes)\n",
    "        for item in range(n_classes): \n",
    "            labels_count[item] = temp.count(item)\n",
    "        return labels_count\n",
    "    \n",
    "    x_axis = list(np.linspace(0, n_classes-1, num=n_classes))\n",
    "    plt.figure(num=1)\n",
    "    n_tr_lbls = count_labels(y_train)\n",
    "    plt.bar(x_axis, n_tr_lbls)\n",
    "    plt.title('Distribution of classes in X_train (n=%d)'%len(X_train))\n",
    "    plt.xlabel('classes: 0 - %d'%(n_classes - 1))\n",
    "    plt.ylabel('number of images')\n",
    "\n",
    "    plt.figure(num=2)\n",
    "    n_vl_lbls = count_labels(y_valid)\n",
    "    plt.bar(x_axis, n_vl_lbls)\n",
    "    plt.title('Distribution of classes in X_valid (n=%d)'%len(X_valid))\n",
    "    plt.xlabel('classes: 0 - %d'%(n_classes - 1))\n",
    "    plt.ylabel('number of images')\n",
    "    \n",
    "    plt.figure(num=3)\n",
    "    n_tt_lbls = count_labels(y_test)\n",
    "    plt.bar(x_axis, n_tt_lbls)    \n",
    "    plt.title('Distribution of classes in X_test (n=%d)'%len(X_test))\n",
    "    plt.xlabel('classes: 0 - %d'%(n_classes - 1))\n",
    "    plt.ylabel('number of images')\n",
    "\n",
    "plot_histograms(n_classes)"
   ]
  },
  {
   "cell_type": "markdown",
   "metadata": {},
   "source": [
    "### Data visualization"
   ]
  },
  {
   "cell_type": "code",
   "execution_count": 5,
   "metadata": {
    "ExecuteTime": {
     "end_time": "2017-07-02T11:39:44.051460Z",
     "start_time": "2017-07-02T11:39:43.779875Z"
    }
   },
   "outputs": [
    {
     "data": {
      "image/png": "[encoded data removed]",
      "text/plain": [
       "<matplotlib.figure.Figure at 0x1370be7f0>"
      ]
     },
     "metadata": {},
     "output_type": "display_data"
    }
   ],
   "source": [
    "x_train_grped = {}\n",
    "for label in np.unique(y_train).tolist():\n",
    "    x_train_grped[label] = []\n",
    "for index in range (n_train):\n",
    "    x_train_grped[y_train[index]].append(index)\n",
    "\n",
    "label_slider = widgets.IntSlider(max=n_classes, description=\"Label\")\n",
    "label_slider.max = n_classes - 1\n",
    "index_slider = widgets.IntSlider(description=\"Image index\")\n",
    "description = widgets.Text(disabled=True)\n",
    "    \n",
    "def on_label_value_changed(change):\n",
    "    index_slider.max = len(x_train_grped[label_slider.value]) - 1\n",
    "index_slider.observe(on_label_value_changed, names='value')\n",
    "\n",
    "img_index = 0\n",
    "dummy_res = None\n",
    "def display_images(index, label):\n",
    "    global img_index, dummy_res\n",
    "    index_slider.max = len(x_train_grped[label_slider.value]) - 1\n",
    "    plt.figure(figsize=(3, 3))\n",
    "    data = x_train_grped[label_slider.value]\n",
    "    img_index = data[index_slider.value] \n",
    "    #description.value = \"Image data at X_train [%d]\"%img_index\n",
    "    \n",
    "    plt.imshow(X_train[img_index])\n",
    "    plt.title(signnames['SignName'][label_slider.value])\n",
    "\n",
    "\n",
    "caption = widgets.Label(value='Please select a label and a corresponding index \\\n",
    "                                        in the container of grouped training data')\n",
    "\n",
    "## Caution: displaying the data after shuffling the training data \n",
    "## will result in wrong images and label correspondance\n",
    "\n",
    "display(caption)\n",
    "# redirect output to variable and kwargs __output_result to avoid the verbose printing\n",
    "my_widget = widgets.interact(display_images, label=label_slider, index=index_slider, \\\n",
    "                             __output_result=False)\n",
    "#my_widget = widgets.interact(display_images, label=label_slider, index=index_slider, \\\n",
    "#                             desc=description, __output_result=False)"
   ]
  },
  {
   "cell_type": "markdown",
   "metadata": {},
   "source": [
    "----\n",
    "\n",
    "## Step 2: Design and Test a Model Architecture\n",
    "\n",
    "Design and implement a deep learning model that learns to recognize traffic signs. Train and test your model on the [German Traffic Sign Dataset](http://benchmark.ini.rub.de/?section=gtsrb&subsection=dataset).\n",
    "\n",
    "The LeNet-5 implementation shown in the [classroom](https://classroom.udacity.com/nanodegrees/nd013/parts/fbf77062-5703-404e-b60c-95b78b2f3f9e/modules/6df7ae49-c61c-4bb2-a23e-6527e69209ec/lessons/601ae704-1035-4287-8b11-e2c2716217ad/concepts/d4aca031-508f-4e0b-b493-e7b706120f81) at the end of the CNN lesson is a solid starting point. You'll have to change the number of classes and possibly the preprocessing, but aside from that it's plug and play! \n",
    "\n",
    "With the LeNet-5 solution from the lecture, you should expect a validation set accuracy of about 0.89. To meet specifications, the validation set accuracy will need to be at least 0.93. It is possible to get an even higher accuracy, but 0.93 is the minimum for a successful project submission. \n",
    "\n",
    "There are various aspects to consider when thinking about this problem:\n",
    "\n",
    "- Neural network architecture (is the network over or underfitting?)\n",
    "- Play around preprocessing techniques (normalization, rgb to grayscale, etc)\n",
    "- Number of examples per label (some have more than others).\n",
    "- Generate fake data.\n",
    "\n",
    "Here is an example of a [published baseline model on this problem](http://yann.lecun.com/exdb/publis/pdf/sermanet-ijcnn-11.pdf). It's not required to be familiar with the approach used in the paper but, it's good practice to try to read papers like these."
   ]
  },
  {
   "cell_type": "markdown",
   "metadata": {},
   "source": [
    "### Pre-process the Data Set (normalization, grayscale, etc.)"
   ]
  },
  {
   "cell_type": "markdown",
   "metadata": {},
   "source": [
    "Minimally, the image data should be normalized so that the data has mean zero and equal variance. For image data, `(pixel - 128)/ 128` is a quick way to approximately normalize the data and can be used in this project. \n",
    "\n",
    "Other pre-processing steps are optional. You can try different techniques to see if it improves performance. \n",
    "\n",
    "Use the code cell (or multiple code cells, if necessary) to implement the first step of your project."
   ]
  },
  {
   "cell_type": "code",
   "execution_count": 6,
   "metadata": {
    "ExecuteTime": {
     "end_time": "2017-07-02T11:39:44.439086Z",
     "start_time": "2017-07-02T11:39:44.054024Z"
    },
    "collapsed": true
   },
   "outputs": [],
   "source": [
    "rotation_range = np.linspace(.15, .22, num=10, dtype=float)\n",
    "translation_range = np.linspace(-5., 5., num=10, dtype=float)\n",
    "scaling_range = np.linspace(.9, 1.5, num=15, dtype=float)\n",
    "rotation_range = rotation_range.tolist()\n",
    "translation_range = translation_range.tolist()\n",
    "scaling_range = scaling_range.tolist()\n",
    "AUG_TRAIN_FILE = \"./source/train_a.p\" \n",
    "X_train_a = None\n",
    "y_train_a = None\n",
    "\n",
    "def rnd_transform(orig_img, transform):\n",
    "    result = None\n",
    "    t_matrix = None\n",
    "    img = np.copy(orig_img)\n",
    "    \n",
    "    if transform == \"rotation\":\n",
    "        index = random.randint(0, len(rotation_range)-1)\n",
    "        angle = rotation_range[index]\n",
    "        \n",
    "## Matrix represented as [ [x_scale,  x_skew,  t_x]\n",
    "##                         [y_scale,  y_skew,  t_y]\n",
    "##                         [x_position, y_position, 1]]\n",
    "##                \n",
    "        sin_val = np.array([np.sin(angle), -np.sin(angle)])\n",
    "        random.shuffle(sin_val)\n",
    "        \n",
    "        t_matrix = np.array([[np.cos(angle), sin_val[0], 0],\\\n",
    "                             [sin_val[1], np.cos(angle), 0],\\\n",
    "                             [0, 0, 1]])\n",
    "    elif transform == \"translation\":\n",
    "        x_index = random.randint(0, len(translation_range)-1)\n",
    "        x_tr = translation_range[x_index]\n",
    "        y_index = random.randint(0, len(translation_range)-1)        \n",
    "        y_tr = translation_range[y_index]\n",
    "        #print(x_tr, y_tr)\n",
    "        t_matrix = np.array([[1, 0, x_tr],\\\n",
    "                             [0, 1, -y_tr],\\\n",
    "                             [0, 0, 1]])\n",
    "    elif transform == \"scaling\":\n",
    "        x_index = random.randint(0, len(scaling_range)-1)\n",
    "        x_sc = scaling_range[x_index]\n",
    "        #print (x_sc)\n",
    "        y_index = random.randint(0, len(scaling_range)-1)        \n",
    "        y_sc = scaling_range[y_index]\n",
    "        #print(y_sc)\n",
    "        t_matrix = np.array([[x_sc, 0, 0],\\\n",
    "                              [0, y_sc, 0],\\\n",
    "                              [0, 0, 1]])\n",
    "    else:\n",
    "        pass\n",
    "    if t_matrix is not None:\n",
    "        t_trans = ProjectiveTransform(matrix=t_matrix)\n",
    "        img = warp(img, t_trans, mode='edge', clip=True,\\\n",
    "                   order=1, output_shape=(img.shape[0], img.shape[1]))  \n",
    "    return img\n",
    "\n",
    "\n",
    "def rescale_intensity(img):\n",
    "    p2, p98 = np.percentile(img, (2, 98))\n",
    "    img_ = exposure.rescale_intensity(img, in_range=(p2, p98))\n",
    "    return img_\n",
    "\n",
    "\n",
    "def augment_data(threshold=750, save_as=True):\n",
    "    #find classes with less than \"threshold\" amount of data\n",
    "    tr_counter=collections.Counter(y_train.tolist())\n",
    "    tr_counter = collections.OrderedDict(tr_counter)\n",
    "    threshold = 750\n",
    "    below_treshold_cls = [key for key in list(tr_counter.keys())\\\n",
    "                                      if tr_counter[key] < threshold]\n",
    "    trf_op = ['rotation', 'translation', 'scaling']\n",
    "    \n",
    "    X_train_a = np.copy(X_train)\n",
    "    y_train_a = np.copy(y_train)\n",
    "    print (len(X_train_a))\n",
    "    print (len(y_train_a))\n",
    "    for cls in below_treshold_cls:\n",
    "        print (\"Processing label %d ...\"%cls)\n",
    "        cls_indexes = np.where(y_train==cls)[0]\n",
    "        cls_indexes = cls_indexes.tolist()\n",
    "        for index in cls_indexes:\n",
    "            tmp_orig = np.copy(X_train[index])\n",
    "            for op in trf_op:\n",
    "                tmp = rnd_transform(tmp_orig, transform=op)\n",
    "                # update X_train and y_train\n",
    "                X_train_a = np.append(X_train_a, np.array([tmp]), axis=0)\n",
    "                y_train_a = np.append(y_train_a, cls)\n",
    "    # Save data into new file\n",
    "    outfile = open(AUG_TRAIN_FILE, 'wb')\n",
    "    train_aug = {'features': X_train_a, 'labels': y_train_a}\n",
    "    pickle.dump(train_aug, outfile)\n",
    "    outfile.close()\n",
    "    \n",
    "    # Rename new data\n",
    "    X_train = X_train_a\n",
    "    y_train = y_train_a\n",
    "    print(\"Data augmentation finished.\")\n",
    "\n",
    "\n"
   ]
  },
  {
   "cell_type": "markdown",
   "metadata": {},
   "source": [
    "### Data Augmentation & Pre-processing"
   ]
  },
  {
   "cell_type": "markdown",
   "metadata": {},
   "source": [
    "#### Fake data generation (Caution: takes a long time!)"
   ]
  },
  {
   "cell_type": "code",
   "execution_count": 7,
   "metadata": {
    "ExecuteTime": {
     "end_time": "2017-07-02T11:39:45.151267Z",
     "start_time": "2017-07-02T11:39:44.440901Z"
    }
   },
   "outputs": [
    {
     "name": "stdout",
     "output_type": "stream",
     "text": [
      "No data augmentation applied!\n"
     ]
    },
    {
     "data": {
      "image/png": "[encoded data removed]",
      "text/plain": [
       "<matplotlib.figure.Figure at 0x1370734a8>"
      ]
     },
     "metadata": {},
     "output_type": "display_data"
    },
    {
     "data": {
      "image/png": "[encoded data removed]",
      "text/plain": [
       "<matplotlib.figure.Figure at 0x137534358>"
      ]
     },
     "metadata": {},
     "output_type": "display_data"
    },
    {
     "data": {
      "image/png": "[encoded data removed]",
      "text/plain": [
       "<matplotlib.figure.Figure at 0x1376178d0>"
      ]
     },
     "metadata": {},
     "output_type": "display_data"
    }
   ],
   "source": [
    "AUGMENT_DATA = False\n",
    "# Load or generate fake data\n",
    "if os.path.isfile(AUG_TRAIN_FILE) and\\\n",
    "            os.access(AUG_TRAIN_FILE, os.R_OK) and AUGMENT_DATA:\n",
    "    with open(AUG_TRAIN_FILE, mode='rb') as f:\n",
    "        train_a = pickle.load(f)\n",
    "        X_train_a, y_train_a = train_a['features'], train_a['labels']\n",
    "        X_train = X_train_a\n",
    "        y_train = y_train_a\n",
    "        X_train, y_train = shuffle(X_train, y_train)\n",
    "elif AUGMENT_DATA:\n",
    "    augment_data()\n",
    "    X_train, y_train = shuffle(X_train, y_train)\n",
    "else:\n",
    "    print(\"No data augmentation applied!\")\n",
    "\n",
    "# Histograms\n",
    "plot_histograms(n_classes)\n"
   ]
  },
  {
   "cell_type": "markdown",
   "metadata": {},
   "source": [
    "#### Normalization, grayscale"
   ]
  },
  {
   "cell_type": "code",
   "execution_count": 8,
   "metadata": {
    "ExecuteTime": {
     "end_time": "2017-07-02T11:39:46.211652Z",
     "start_time": "2017-07-02T11:39:45.153060Z"
    }
   },
   "outputs": [],
   "source": [
    "### Preprocess the data here. It is required to normalize the data. Other preprocessing steps could include \n",
    "### converting to grayscale, etc.\n",
    "### Feel free to use as many code cells as needed.\n",
    "GRAY_MODE = False\n",
    "if GRAY_MODE:\n",
    "    X_train = np.dot(X_train[...,:3], [0.299, 0.587, 0.114])        \n",
    "    X_valid = np.dot(X_valid[...,:3], [0.299, 0.587, 0.114])\n",
    "    # add last channel\n",
    "    X_train = X_train.reshape(X_train.shape + (1,))\n",
    "    X_valid = X_valid.reshape(X_valid.shape + (1,))\n",
    "\n",
    "    \n",
    "## Scale features\n",
    "X_train = X_train.astype(np.float32)/255.0\n",
    "X_valid = X_valid.astype(np.float32)/255.0\n",
    "X_test  = X_test.astype(np.float32)/255.0\n",
    "\n",
    "X_train, y_train = shuffle(X_train, y_train)\n",
    "\n",
    "# Rescale intensity of training examples\n",
    "#map(rescale_intensity, X_train)\n",
    "\n",
    "# Rescale intensity of validation examples\n",
    "#map(rescale_intensity, X_valid)\n",
    "\n",
    "# Rescale intensity of test examples\n",
    "#map(rescale_intensity, X_test)\n",
    "\n",
    "\n",
    "\n"
   ]
  },
  {
   "cell_type": "markdown",
   "metadata": {},
   "source": [
    "### Model Architecture"
   ]
  },
  {
   "cell_type": "markdown",
   "metadata": {},
   "source": [
    "#### Using Keras with TensorFlow backend"
   ]
  },
  {
   "cell_type": "code",
   "execution_count": 9,
   "metadata": {
    "ExecuteTime": {
     "end_time": "2017-07-02T11:39:46.428639Z",
     "start_time": "2017-07-02T11:39:46.214663Z"
    },
    "collapsed": true,
    "scrolled": false
   },
   "outputs": [],
   "source": [
    "#Converts a class vector (integers) to binary class matrix.\n",
    "#E.g. for use with categorical_crossentropy.\n",
    "from keras.utils.np_utils import to_categorical\n",
    "y_train_cat = to_categorical(y_train, n_classes)\n",
    "y_valid_cat = to_categorical(y_valid, n_classes)\n",
    "y_test_cat  = to_categorical(y_test, n_classes)\n",
    "\n",
    "\n",
    "BATCH_SIZE_KE = 64\n",
    "EPOCHS_KE = 30 #150\n",
    "SKIP_TRAINING = False\n",
    "learning_rate_ke = 0.01\n",
    "\n",
    "\n",
    "def save_model(model):\n",
    "    # serialize model to JSON\n",
    "    model_json = model.to_json()\n",
    "    with open(\"./cnnet/model.json\", \"w\") as json_file:\n",
    "        json_file.write(model_json)\n",
    "        \n",
    "    print(\"Model saved.\")\n",
    "\n",
    "# learning rate schedule\n",
    "    #http://machinelearningmastery.com/\n",
    "    #using-learning-rate-schedules-deep-learning-models-python-keras/\n",
    "def step2_decay(epoch):\n",
    "    initial_lrate = 0.1\n",
    "    drop = 0.5\n",
    "    epochs_drop = 10.0\n",
    "    lrate = initial_lrate * math.pow(drop, math.floor((1+epoch)/epochs_drop))\n",
    "    return lrate\n",
    "\n",
    "def step_decay(epoch):\n",
    "    drop = 0.1\n",
    "    epochs_drop = 10\n",
    "    return learning_rate_ke*math.pow(drop, math.floor(epoch/epochs_drop))\n",
    "    \n",
    "def myNet():\n",
    "    K.clear_session()\n",
    "    model = Sequential()\n",
    "    mu = 0\n",
    "    sigma = 0.1\n",
    "    \n",
    "    # L1: Conv2D\n",
    "    model.add(Conv2D(32, (3, 3), activation='relu',\n",
    "                    input_shape=(32, 32, X_train.shape[3]), padding='valid',\n",
    "                    #kernel_initializer=initializers.TruncatedNormal(stddev=sigma),\n",
    "                    use_bias=True,\n",
    "                    bias_initializer=initializers.Zeros(),\n",
    "                    name='conv2d_1'))\n",
    "\n",
    "    # L3: Conv2D   \n",
    "    model.add(Conv2D(32, (3, 3), activation='relu', padding='valid',\n",
    "                    #kernel_initializer=initializers.TruncatedNormal(stddev=sigma),\n",
    "                    use_bias=True,\n",
    "                    bias_initializer=initializers.Zeros(),\n",
    "                    name='conv2d_2'))\n",
    "\n",
    "    model.add(BatchNormalization(name='bn_1'))\n",
    "    # L4: MaxPool2D\n",
    "    model.add(MaxPool2D(pool_size=(2, 2), name='maxpool2d_1'))\n",
    "    model.add(Dropout(0.2, name=\"dp_1\"))\n",
    "    \n",
    "    # L6: Conv3D\n",
    "    model.add(Conv2D(64, (3, 3), activation='relu', padding='valid',\n",
    "                    #kernel_initializer=initializers.TruncatedNormal(stddev=sigma),\n",
    "                    use_bias=True,\n",
    "                    bias_initializer=initializers.Zeros(),\n",
    "                    name='conv2d_3'))\n",
    "    # L7: Conv2D\n",
    "    model.add(Conv2D(64, (3, 3), activation='relu', padding='valid',\n",
    "                     #kernel_initializer=initializers.TruncatedNormal(stddev=sigma),\n",
    "                     use_bias=True,\n",
    "                     bias_initializer=initializers.Zeros(),\n",
    "                     name='conv2d_4'))\n",
    "    # L8\n",
    "    model.add(BatchNormalization(name='bn_2'))\n",
    "    model.add(MaxPool2D(pool_size=(2, 2), name='maxpool2d_2'))\n",
    "    model.add(Dropout(0.2, name=\"dp_2\"))\n",
    "    \n",
    "    \n",
    "    # L12 Fully Connected\n",
    "    model.add(Dense(128, activation='relu',\n",
    "                    #kernel_initializer=initializers.TruncatedNormal(stddev=sigma),\n",
    "                    use_bias=True,\n",
    "                    bias_initializer=initializers.Zeros(),\n",
    "                    name='fc_1'))\n",
    "    # \n",
    "    model.add(Dense(128, activation='relu',\n",
    "                    #kernel_initializer=initializers.TruncatedNormal(stddev=sigma),\n",
    "                    use_bias=True,\n",
    "                    bias_initializer=initializers.Zeros(),\n",
    "                    name='fc_2'))\n",
    "    #\n",
    "    model.add(BatchNormalization(name='bn_3'))\n",
    "    model.add(MaxPool2D(pool_size=(2, 2), name='maxpool2d_3'))\n",
    "    model.add(Dropout(0.2, name=\"dp_3\"))\n",
    "\n",
    "    model.add(Flatten(name='fln_1'))\n",
    "    model.add(Dense(512, activation='relu',\n",
    "                    #kernel_initializer=initializers.TruncatedNormal(stddev=sigma),\n",
    "                    use_bias=True,\n",
    "                    bias_initializer=initializers.Zeros(),\n",
    "                    name='fc_3'))\n",
    "    model.add(Dropout(0.5, name='dp_4'))\n",
    "    \n",
    "    #L14 Fully Connected\n",
    "    model.add(Dense(n_classes,\n",
    "                    #kernel_initializer=initializers.TruncatedNormal(stddev=sigma),\n",
    "                    use_bias=True, \n",
    "                    bias_initializer=initializers.Zeros(),\n",
    "                    activation='softmax',\n",
    "                    name='fc_4'))\n",
    "    return model \n",
    "    \n"
   ]
  },
  {
   "cell_type": "markdown",
   "metadata": {},
   "source": [
    "#### Train Model"
   ]
  },
  {
   "cell_type": "code",
   "execution_count": 10,
   "metadata": {
    "ExecuteTime": {
     "end_time": "2017-07-02T11:39:46.501100Z",
     "start_time": "2017-07-02T11:39:46.430479Z"
    },
    "scrolled": false
   },
   "outputs": [
    {
     "name": "stdout",
     "output_type": "stream",
     "text": [
      "_________________________________________________________________\n",
      "Layer (type)                 Output Shape              Param #   \n",
      "=================================================================\n",
      "conv2d_1 (Conv2D)            (None, 30, 30, 32)        896       \n",
      "_________________________________________________________________\n",
      "conv2d_2 (Conv2D)            (None, 28, 28, 32)        9248      \n",
      "_________________________________________________________________\n",
      "bn_1 (BatchNormalization)    (None, 28, 28, 32)        128       \n",
      "_________________________________________________________________\n",
      "maxpool2d_1 (MaxPooling2D)   (None, 14, 14, 32)        0         \n",
      "_________________________________________________________________\n",
      "dp_1 (Dropout)               (None, 14, 14, 32)        0         \n",
      "_________________________________________________________________\n",
      "conv2d_3 (Conv2D)            (None, 12, 12, 64)        18496     \n",
      "_________________________________________________________________\n",
      "conv2d_4 (Conv2D)            (None, 10, 10, 64)        36928     \n",
      "_________________________________________________________________\n",
      "bn_2 (BatchNormalization)    (None, 10, 10, 64)        256       \n",
      "_________________________________________________________________\n",
      "maxpool2d_2 (MaxPooling2D)   (None, 5, 5, 64)          0         \n",
      "_________________________________________________________________\n",
      "dp_2 (Dropout)               (None, 5, 5, 64)          0         \n",
      "_________________________________________________________________\n",
      "fc_1 (Dense)                 (None, 5, 5, 128)         8320      \n",
      "_________________________________________________________________\n",
      "fc_2 (Dense)                 (None, 5, 5, 128)         16512     \n",
      "_________________________________________________________________\n",
      "bn_3 (BatchNormalization)    (None, 5, 5, 128)         512       \n",
      "_________________________________________________________________\n",
      "maxpool2d_3 (MaxPooling2D)   (None, 2, 2, 128)         0         \n",
      "_________________________________________________________________\n",
      "dp_3 (Dropout)               (None, 2, 2, 128)         0         \n",
      "_________________________________________________________________\n",
      "fln_1 (Flatten)              (None, 512)               0         \n",
      "_________________________________________________________________\n",
      "fc_3 (Dense)                 (None, 512)               262656    \n",
      "_________________________________________________________________\n",
      "dp_4 (Dropout)               (None, 512)               0         \n",
      "_________________________________________________________________\n",
      "fc_4 (Dense)                 (None, 43)                22059     \n",
      "=================================================================\n",
      "Total params: 376,011\n",
      "Trainable params: 375,563\n",
      "Non-trainable params: 448\n",
      "_________________________________________________________________\n",
      "Model saved.\n",
      "Train on 34799 samples, validate on 4410 samples\n",
      "Epoch 1/30\n",
      "34752/34799 [============================>.] - ETA: 0s - loss: 2.1269 - acc: 0.4188Epoch 00000: val_acc improved from -inf to 0.80068, saving model to ./weights/w-improvement-00-0.80.hdf5\n",
      "34799/34799 [==============================] - 161s - loss: 2.1250 - acc: 0.4193 - val_loss: 0.6769 - val_acc: 0.8007\n",
      "Epoch 2/30\n",
      "34752/34799 [============================>.] - ETA: 0s - loss: 0.4367 - acc: 0.8633Epoch 00001: val_acc improved from 0.80068 to 0.91950, saving model to ./weights/w-improvement-01-0.92.hdf5\n",
      "34799/34799 [==============================] - 153s - loss: 0.4366 - acc: 0.8633 - val_loss: 0.2656 - val_acc: 0.9195\n",
      "Epoch 3/30\n",
      "34752/34799 [============================>.] - ETA: 0s - loss: 0.2164 - acc: 0.9328Epoch 00002: val_acc improved from 0.91950 to 0.95351, saving model to ./weights/w-improvement-02-0.95.hdf5\n",
      "34799/34799 [==============================] - 165s - loss: 0.2166 - acc: 0.9328 - val_loss: 0.1525 - val_acc: 0.9535\n",
      "Epoch 4/30\n",
      "34752/34799 [============================>.] - ETA: 0s - loss: 0.1443 - acc: 0.9544Epoch 00003: val_acc improved from 0.95351 to 0.96190, saving model to ./weights/w-improvement-03-0.96.hdf5\n",
      "34799/34799 [==============================] - 161s - loss: 0.1443 - acc: 0.9544 - val_loss: 0.1523 - val_acc: 0.9619\n",
      "Epoch 5/30\n",
      "34752/34799 [============================>.] - ETA: 0s - loss: 0.1051 - acc: 0.9668Epoch 00004: val_acc improved from 0.96190 to 0.96803, saving model to ./weights/w-improvement-04-0.97.hdf5\n",
      "34799/34799 [==============================] - 152s - loss: 0.1050 - acc: 0.9668 - val_loss: 0.1182 - val_acc: 0.9680\n",
      "Epoch 6/30\n",
      "34752/34799 [============================>.] - ETA: 0s - loss: 0.0838 - acc: 0.9743Epoch 00005: val_acc did not improve\n",
      "34799/34799 [==============================] - 159s - loss: 0.0841 - acc: 0.9742 - val_loss: 0.1254 - val_acc: 0.9639\n",
      "Epoch 7/30\n",
      "34752/34799 [============================>.] - ETA: 0s - loss: 0.0692 - acc: 0.9783Epoch 00006: val_acc did not improve\n",
      "34799/34799 [==============================] - 160s - loss: 0.0692 - acc: 0.9783 - val_loss: 0.1173 - val_acc: 0.9635\n",
      "Epoch 8/30\n",
      "34752/34799 [============================>.] - ETA: 0s - loss: 0.0628 - acc: 0.9801Epoch 00007: val_acc improved from 0.96803 to 0.96939, saving model to ./weights/w-improvement-07-0.97.hdf5\n",
      "34799/34799 [==============================] - 157s - loss: 0.0628 - acc: 0.9802 - val_loss: 0.1226 - val_acc: 0.9694\n",
      "Epoch 9/30\n",
      "34752/34799 [============================>.] - ETA: 0s - loss: 0.0535 - acc: 0.9830Epoch 00008: val_acc improved from 0.96939 to 0.97891, saving model to ./weights/w-improvement-08-0.98.hdf5\n",
      "34799/34799 [==============================] - 161s - loss: 0.0537 - acc: 0.9830 - val_loss: 0.0991 - val_acc: 0.9789\n",
      "Epoch 10/30\n",
      "34752/34799 [============================>.] - ETA: 0s - loss: 0.0433 - acc: 0.9863Epoch 00009: val_acc did not improve\n",
      "34799/34799 [==============================] - 151s - loss: 0.0433 - acc: 0.9863 - val_loss: 0.1095 - val_acc: 0.9707\n",
      "Epoch 11/30\n",
      "34752/34799 [============================>.] - ETA: 0s - loss: 0.0317 - acc: 0.9899Epoch 00010: val_acc improved from 0.97891 to 0.98050, saving model to ./weights/w-improvement-10-0.98.hdf5\n",
      "34799/34799 [==============================] - 150s - loss: 0.0317 - acc: 0.9899 - val_loss: 0.0759 - val_acc: 0.9805\n",
      "Epoch 12/30\n",
      "34752/34799 [============================>.] - ETA: 0s - loss: 0.0268 - acc: 0.9916Epoch 00011: val_acc did not improve\n",
      "34799/34799 [==============================] - 156s - loss: 0.0268 - acc: 0.9916 - val_loss: 0.0762 - val_acc: 0.9805\n",
      "Epoch 13/30\n",
      "34752/34799 [============================>.] - ETA: 0s - loss: 0.0251 - acc: 0.9921Epoch 00012: val_acc improved from 0.98050 to 0.98163, saving model to ./weights/w-improvement-12-0.98.hdf5\n",
      "34799/34799 [==============================] - 166s - loss: 0.0250 - acc: 0.9921 - val_loss: 0.0751 - val_acc: 0.9816\n",
      "Epoch 14/30\n",
      "34752/34799 [============================>.] - ETA: 0s - loss: 0.0235 - acc: 0.9925Epoch 00013: val_acc did not improve\n",
      "34799/34799 [==============================] - 156s - loss: 0.0235 - acc: 0.9925 - val_loss: 0.0798 - val_acc: 0.9803\n",
      "Epoch 15/30\n",
      "34752/34799 [============================>.] - ETA: 0s - loss: 0.0224 - acc: 0.9930Epoch 00014: val_acc improved from 0.98163 to 0.98186, saving model to ./weights/w-improvement-14-0.98.hdf5\n",
      "34799/34799 [==============================] - 173s - loss: 0.0224 - acc: 0.9930 - val_loss: 0.0754 - val_acc: 0.9819\n",
      "Epoch 16/30\n",
      "34752/34799 [============================>.] - ETA: 0s - loss: 0.0217 - acc: 0.9930Epoch 00015: val_acc did not improve\n",
      "34799/34799 [==============================] - 179s - loss: 0.0218 - acc: 0.9930 - val_loss: 0.0742 - val_acc: 0.9807\n",
      "Epoch 17/30\n",
      "34752/34799 [============================>.] - ETA: 0s - loss: 0.0197 - acc: 0.9937Epoch 00016: val_acc did not improve\n",
      "34799/34799 [==============================] - 167s - loss: 0.0197 - acc: 0.9937 - val_loss: 0.0765 - val_acc: 0.9805\n",
      "Epoch 18/30\n",
      "34752/34799 [============================>.] - ETA: 0s - loss: 0.0212 - acc: 0.9932Epoch 00017: val_acc did not improve\n",
      "34799/34799 [==============================] - 165s - loss: 0.0212 - acc: 0.9932 - val_loss: 0.0763 - val_acc: 0.9814\n",
      "Epoch 19/30\n"
     ]
    },
    {
     "name": "stdout",
     "output_type": "stream",
     "text": [
      "34752/34799 [============================>.] - ETA: 0s - loss: 0.0199 - acc: 0.9937Epoch 00018: val_acc did not improve\n",
      "34799/34799 [==============================] - 160s - loss: 0.0199 - acc: 0.9937 - val_loss: 0.0730 - val_acc: 0.9812\n",
      "Epoch 20/30\n",
      "34752/34799 [============================>.] - ETA: 0s - loss: 0.0206 - acc: 0.9936Epoch 00019: val_acc improved from 0.98186 to 0.98367, saving model to ./weights/w-improvement-19-0.98.hdf5\n",
      "34799/34799 [==============================] - 161s - loss: 0.0206 - acc: 0.9936 - val_loss: 0.0729 - val_acc: 0.9837\n",
      "Epoch 21/30\n",
      "34752/34799 [============================>.] - ETA: 0s - loss: 0.0207 - acc: 0.9935Epoch 00020: val_acc did not improve\n",
      "34799/34799 [==============================] - 158s - loss: 0.0207 - acc: 0.9935 - val_loss: 0.0723 - val_acc: 0.9832\n",
      "Epoch 22/30\n",
      "34752/34799 [============================>.] - ETA: 0s - loss: 0.0180 - acc: 0.9948Epoch 00021: val_acc did not improve\n",
      "34799/34799 [==============================] - 161s - loss: 0.0180 - acc: 0.9948 - val_loss: 0.0721 - val_acc: 0.9832\n",
      "Epoch 23/30\n",
      "34752/34799 [============================>.] - ETA: 0s - loss: 0.0187 - acc: 0.9940Epoch 00022: val_acc did not improve\n",
      "34799/34799 [==============================] - 156s - loss: 0.0187 - acc: 0.9940 - val_loss: 0.0725 - val_acc: 0.9832\n",
      "Epoch 24/30\n",
      "34752/34799 [============================>.] - ETA: 0s - loss: 0.0182 - acc: 0.9944Epoch 00023: val_acc did not improve\n",
      "34799/34799 [==============================] - 156s - loss: 0.0181 - acc: 0.9944 - val_loss: 0.0721 - val_acc: 0.9834\n",
      "Epoch 25/30\n",
      "34752/34799 [============================>.] - ETA: 0s - loss: 0.0193 - acc: 0.9938Epoch 00024: val_acc did not improve\n",
      "34799/34799 [==============================] - 155s - loss: 0.0193 - acc: 0.9938 - val_loss: 0.0731 - val_acc: 0.9832\n",
      "Epoch 26/30\n",
      "34752/34799 [============================>.] - ETA: 0s - loss: 0.0198 - acc: 0.9937Epoch 00025: val_acc did not improve\n",
      "34799/34799 [==============================] - 152s - loss: 0.0198 - acc: 0.9937 - val_loss: 0.0727 - val_acc: 0.9828\n",
      "Epoch 27/30\n",
      "34752/34799 [============================>.] - ETA: 0s - loss: 0.0192 - acc: 0.9935Epoch 00026: val_acc did not improve\n",
      "34799/34799 [==============================] - 162s - loss: 0.0192 - acc: 0.9935 - val_loss: 0.0726 - val_acc: 0.9830\n",
      "Epoch 28/30\n",
      "34752/34799 [============================>.] - ETA: 0s - loss: 0.0184 - acc: 0.9946Epoch 00027: val_acc did not improve\n",
      "34799/34799 [==============================] - 150s - loss: 0.0184 - acc: 0.9946 - val_loss: 0.0722 - val_acc: 0.9830\n",
      "Epoch 29/30\n",
      "34752/34799 [============================>.] - ETA: 0s - loss: 0.0174 - acc: 0.9943Epoch 00028: val_acc did not improve\n",
      "34799/34799 [==============================] - 156s - loss: 0.0174 - acc: 0.9943 - val_loss: 0.0724 - val_acc: 0.9828\n",
      "Epoch 30/30\n",
      "34752/34799 [============================>.] - ETA: 0s - loss: 0.0187 - acc: 0.9944Epoch 00029: val_acc did not improve\n",
      "34799/34799 [==============================] - 148s - loss: 0.0187 - acc: 0.9944 - val_loss: 0.0725 - val_acc: 0.9834\n",
      "Training history saved.\n"
     ]
    }
   ],
   "source": [
    "if not SKIP_TRAINING:\n",
    "    model = myNet()\n",
    "\n",
    "    # for SGD optimizer\n",
    "    lrate = LearningRateScheduler(step_decay)\n",
    "    sgd_op = optimizers.SGD(lr=learning_rate_ke, momentum=0.9, nesterov=True)\n",
    "\n",
    "    # Adam optimizer\n",
    "    adam_op = optimizers.Adam(lr=learning_rate_ke, beta_1=0.9,\n",
    "                              beta_2=0.999, epsilon=1e-08, decay=0.0)\n",
    "\n",
    "    #\n",
    "    model.compile(loss='categorical_crossentropy',\n",
    "                  optimizer=sgd_op,\n",
    "                  metrics=['accuracy'])\n",
    "\n",
    "    ## Model Summary\n",
    "    model.summary()\n",
    "\n",
    "    ## Save the model\n",
    "    save_model(model)\n",
    "\n",
    "    ## Checkpoint\n",
    "    filepath=\"./weights/w-improvement-{epoch:02d}-{val_acc:.2f}.hdf5\"\n",
    "    checkpointer = ModelCheckpoint(filepath, monitor='val_acc', verbose=1,\\\n",
    "                                    save_best_only=True)\n",
    "\n",
    "    # Callback list\n",
    "    callbacks_list = [checkpointer, lrate]\n",
    "    hist = None\n",
    "    hist_file = \"./cnnet/history.p\"\n",
    "    h_saved = False\n",
    "\n",
    "    try:\n",
    "        hist = model.fit(X_train, y_train_cat, batch_size=BATCH_SIZE_KE,\\\n",
    "                      validation_data=(X_valid, y_valid_cat),\\\n",
    "                      epochs=EPOCHS_KE, verbose=1, shuffle=True,\\\n",
    "                      callbacks=callbacks_list)\n",
    "\n",
    "    except KeyboardInterrupt:\n",
    "        print(\"Training aborted by user\")\n",
    "        out_tr_file = open(hist_file, 'wb')\n",
    "        hist_container = {'acc': hist.history['acc'], 'val_acc': hist.history['val_acc'],\\\n",
    "                      'loss': hist.history['loss'], 'val_loss': hist.history['val_loss']}\n",
    "        pickle.dump(hist_container, out_tr_file)\n",
    "        out_tr_file.close()\n",
    "        h_saved = True\n",
    "        print(\"Training history saved.\")\n",
    "\n",
    "    if not h_saved:\n",
    "        ## Save history to file\n",
    "        out_tr_file = open(hist_file, 'wb')\n",
    "        hist_container = {'acc': hist.history['acc'], 'val_acc': hist.history['val_acc'],\\\n",
    "                      'loss': hist.history['loss'], 'val_loss': hist.history['val_loss']}\n",
    "        pickle.dump(hist_container, out_tr_file)\n",
    "        out_tr_file.close()\n",
    "        print(\"Training history saved.\")\n"
   ]
  },
  {
   "cell_type": "markdown",
   "metadata": {},
   "source": [
    "#### Plot accuracy and losses"
   ]
  },
  {
   "cell_type": "code",
   "execution_count": 11,
   "metadata": {
    "ExecuteTime": {
     "end_time": "2017-07-02T11:39:46.995617Z",
     "start_time": "2017-07-02T11:39:46.503126Z"
    },
    "scrolled": false
   },
   "outputs": [
    {
     "data": {
      "image/png": "[encoded data removed]",
      "text/plain": [
       "<matplotlib.figure.Figure at 0x137807898>"
      ]
     },
     "metadata": {},
     "output_type": "display_data"
    }
   ],
   "source": [
    "## Load history form drive\n",
    "tr_hist = None\n",
    "with open(\"./cnnet/history.p\", mode='rb') as f:\n",
    "    tr_hist = pickle.load(f)\n",
    "\n",
    "plt.figure(num=3, figsize=(12, 12))     \n",
    "# summarize history for accuracy  \n",
    "plt.subplot(211)  \n",
    "plt.plot(tr_hist['acc'])  \n",
    "\n",
    "plt.plot(tr_hist['val_acc'])  \n",
    "plt.title('model accuracy')  \n",
    "plt.ylabel('accuracy')  \n",
    "plt.xlabel('epoch')  \n",
    "plt.legend(['train', 'valid'], loc='lower right')  \n",
    "\n",
    "# summarize history for loss  \n",
    "plt.subplot(212)  \n",
    "plt.plot(tr_hist['loss'])  \n",
    "plt.plot(tr_hist['val_loss'])  \n",
    "plt.title('model loss')  \n",
    "plt.ylabel('loss')  \n",
    "plt.xlabel('epoch')  \n",
    "plt.legend(['train', 'valid'], loc='upper right')  \n",
    "plt.show()  \n"
   ]
  },
  {
   "cell_type": "markdown",
   "metadata": {},
   "source": [
    "#### Prediction on test samples and analysis (confusion matrix, classification report)"
   ]
  },
  {
   "cell_type": "code",
   "execution_count": 12,
   "metadata": {
    "ExecuteTime": {
     "end_time": "2017-07-02T11:40:10.670038Z",
     "start_time": "2017-07-02T11:39:46.997488Z"
    }
   },
   "outputs": [
    {
     "name": "stdout",
     "output_type": "stream",
     "text": [
      "Weights loaded.\n",
      "12608/12630 [============================>.] - ETA: 0s\n",
      "Model - Test accuracy: 96.84085510688836%\n",
      "\n"
     ]
    }
   ],
   "source": [
    "label_desc = [\"%s - %2d\"%(signnames['SignName'][label], label) for label in range(0, 43)]\n",
    "\n",
    "# myNet instance\n",
    "test_model = myNet()\n",
    "# Load weights\n",
    "test_model.load_weights(\"./weights/w-improvement-20-0.99.hdf5\")\n",
    "print(\"Weights loaded.\")\n",
    "\n",
    "# Get predictions\n",
    "y_pred = test_model.predict_classes(X_test, verbose=1)\n",
    "# Evaluate model\n",
    "te_acc = np.sum(y_pred == y_test)/np.size(y_pred)\n",
    "print('\\nModel - Test accuracy: {}%\\n'.format(te_acc*100))\n",
    "\n",
    "# Confusion matrix\n",
    "cm = confusion_matrix(y_test, y_pred, labels=[label for label in range(0, 43)])\n",
    "\n",
    "# Save confusion matrix\n",
    "with open(\"./cnnet/confusion_matrix.csv\", \"wb\") as f:\n",
    "    np.savetxt(f, cm.astype(int), fmt='%i', delimiter=\";\")\n",
    "\n",
    "    "
   ]
  },
  {
   "cell_type": "markdown",
   "metadata": {},
   "source": [
    "#### Plot confusion matrix"
   ]
  },
  {
   "cell_type": "code",
   "execution_count": 13,
   "metadata": {
    "ExecuteTime": {
     "end_time": "2017-07-02T11:40:11.509427Z",
     "start_time": "2017-07-02T11:40:10.672225Z"
    },
    "scrolled": false
   },
   "outputs": [
    {
     "data": {
      "image/png": "[encoded data removed]",
      "text/plain": [
       "<matplotlib.figure.Figure at 0x137807fd0>"
      ]
     },
     "metadata": {},
     "output_type": "display_data"
    }
   ],
   "source": [
    "def plot_confusion_matrix(conf_mat, labels, n_classes=43):\n",
    "    \n",
    "    plt.figure(num=4, figsize=(13, 10))   \n",
    "    plt.imshow(cm, interpolation='nearest', cmap=plt.cm.binary)\n",
    "    plt.tight_layout()\n",
    "    plt.colorbar()\n",
    "    tick_marks = np.arange(n_classes)\n",
    "    plt.xticks(tick_marks, range(n_classes))\n",
    "    plt.yticks(tick_marks, tuple(labels))\n",
    "    plt.xlabel('Predicted label')\n",
    "    plt.ylabel('True label')\n",
    "\n",
    "plot_confusion_matrix(cm, label_desc)"
   ]
  },
  {
   "cell_type": "markdown",
   "metadata": {},
   "source": [
    "#### Classification report"
   ]
  },
  {
   "cell_type": "code",
   "execution_count": 18,
   "metadata": {},
   "outputs": [
    {
     "name": "stdout",
     "output_type": "stream",
     "text": [
      "                                                         precision    recall  f1-score   support\n",
      "\n",
      "                              Speed limit (20km/h) -  0       1.00      1.00      1.00        60\n",
      "                              Speed limit (30km/h) -  1       0.95      1.00      0.98       720\n",
      "                              Speed limit (50km/h) -  2       0.97      1.00      0.98       750\n",
      "                              Speed limit (60km/h) -  3       0.99      0.97      0.98       450\n",
      "                              Speed limit (70km/h) -  4       1.00      0.97      0.98       660\n",
      "                              Speed limit (80km/h) -  5       0.96      0.96      0.96       630\n",
      "                       End of speed limit (80km/h) -  6       1.00      0.90      0.95       150\n",
      "                             Speed limit (100km/h) -  7       0.98      1.00      0.99       450\n",
      "                             Speed limit (120km/h) -  8       0.99      0.98      0.98       450\n",
      "                                        No passing -  9       0.97      1.00      0.99       480\n",
      "      No passing for vehicles over 3.5 metric tons - 10       0.99      0.99      0.99       660\n",
      "             Right-of-way at the next intersection - 11       0.96      0.93      0.95       420\n",
      "                                     Priority road - 12       0.99      0.98      0.99       690\n",
      "                                             Yield - 13       1.00      0.99      1.00       720\n",
      "                                              Stop - 14       0.99      1.00      1.00       270\n",
      "                                       No vehicles - 15       0.98      1.00      0.99       210\n",
      "          Vehicles over 3.5 metric tons prohibited - 16       0.98      0.99      0.99       150\n",
      "                                          No entry - 17       1.00      0.98      0.99       360\n",
      "                                   General caution - 18       0.95      0.85      0.90       390\n",
      "                       Dangerous curve to the left - 19       0.89      0.97      0.93        60\n",
      "                      Dangerous curve to the right - 20       0.83      0.97      0.89        90\n",
      "                                      Double curve - 21       0.95      0.67      0.78        90\n",
      "                                        Bumpy road - 22       0.97      0.89      0.93       120\n",
      "                                     Slippery road - 23       0.93      1.00      0.96       150\n",
      "                         Road narrows on the right - 24       0.76      0.94      0.84        90\n",
      "                                         Road work - 25       0.96      0.94      0.95       480\n",
      "                                   Traffic signals - 26       0.94      0.91      0.92       180\n",
      "                                       Pedestrians - 27       0.42      0.55      0.48        60\n",
      "                                 Children crossing - 28       0.98      0.99      0.98       150\n",
      "                                 Bicycles crossing - 29       0.93      1.00      0.96        90\n",
      "                                Beware of ice/snow - 30       0.92      0.90      0.91       150\n",
      "                             Wild animals crossing - 31       0.97      1.00      0.99       270\n",
      "               End of all speed and passing limits - 32       0.79      1.00      0.88        60\n",
      "                                  Turn right ahead - 33       0.99      1.00      0.99       210\n",
      "                                   Turn left ahead - 34       0.96      1.00      0.98       120\n",
      "                                        Ahead only - 35       1.00      0.99      1.00       390\n",
      "                              Go straight or right - 36       0.98      1.00      0.99       120\n",
      "                               Go straight or left - 37       0.78      0.98      0.87        60\n",
      "                                        Keep right - 38       1.00      0.97      0.98       690\n",
      "                                         Keep left - 39       0.96      0.97      0.96        90\n",
      "                              Roundabout mandatory - 40       0.98      0.96      0.97        90\n",
      "                                 End of no passing - 41       1.00      0.78      0.88        60\n",
      "End of no passing by vehicles over 3.5 metric tons - 42       1.00      0.98      0.99        90\n",
      "\n",
      "                                            avg / total       0.97      0.97      0.97     12630\n",
      "\n"
     ]
    }
   ],
   "source": [
    "print (classification_report(y_test, y_pred, target_names=label_desc))"
   ]
  },
  {
   "cell_type": "markdown",
   "metadata": {},
   "source": [
    "---\n",
    "\n",
    "## Step 3: Test a Model on New Images\n",
    "\n",
    "To give yourself more insight into how your model is working, download at least five pictures of German traffic signs from the web and use your model to predict the traffic sign type.\n",
    "\n",
    "You may find `signnames.csv` useful as it contains mappings from the class id (integer) to the actual sign name."
   ]
  },
  {
   "cell_type": "markdown",
   "metadata": {},
   "source": [
    "### Load and Output the Images"
   ]
  },
  {
   "cell_type": "code",
   "execution_count": 14,
   "metadata": {
    "ExecuteTime": {
     "end_time": "2017-07-02T12:12:13.943454Z",
     "start_time": "2017-07-02T12:12:13.505502Z"
    },
    "scrolled": false
   },
   "outputs": [
    {
     "data": {
      "text/plain": [
       "<matplotlib.image.AxesImage at 0x132077c18>"
      ]
     },
     "execution_count": 14,
     "metadata": {},
     "output_type": "execute_result"
    },
    {
     "data": {
      "image/png": "[encoded data removed]",
      "text/plain": [
       "<matplotlib.figure.Figure at 0x138590668>"
      ]
     },
     "metadata": {},
     "output_type": "display_data"
    }
   ],
   "source": [
    "import scipy.ndimage as skimg\n",
    "\n",
    "plt.figure(num=5, figsize=(5, 5))    \n",
    "plt.subplots_adjust(hspace = .2, wspace = .5)\n",
    "plt.subplot(231)\n",
    "plt.title('1')\n",
    "img = skimg.imread(\"./test_signs/1.png\")\n",
    "plt.imshow(img)\n",
    "\n",
    "plt.subplot(232)\n",
    "plt.title('2')\n",
    "img = skimg.imread(\"./test_signs/2.png\")\n",
    "plt.imshow(img)\n",
    "\n",
    "\n",
    "plt.subplot(233)\n",
    "plt.title('3')\n",
    "img = skimg.imread(\"./test_signs/3.png\")\n",
    "plt.imshow(img)\n",
    "\n",
    "plt.subplot(234)\n",
    "plt.title('4')\n",
    "img = skimg.imread(\"./test_signs/4.png\")\n",
    "plt.imshow(img)\n",
    "\n",
    "plt.subplot(235)\n",
    "plt.title('5')\n",
    "img = skimg.imread(\"./test_signs/5.png\")\n",
    "plt.imshow(img)\n"
   ]
  },
  {
   "cell_type": "markdown",
   "metadata": {},
   "source": [
    "### Predict the Sign Type for Each Image"
   ]
  },
  {
   "cell_type": "code",
   "execution_count": 15,
   "metadata": {
    "ExecuteTime": {
     "end_time": "2017-07-02T12:12:17.291224Z",
     "start_time": "2017-07-02T12:12:17.251586Z"
    }
   },
   "outputs": [
    {
     "name": "stdout",
     "output_type": "stream",
     "text": [
      "5/5 [==============================] - 0s\n",
      "Predictions:\n",
      "----------------------\n",
      "| Target | Pediction |\n",
      "----------------------\n",
      "|   23   |     23    |\n",
      "|   38   |     38    |\n",
      "|   13   |     13    |\n",
      "|   35   |     35    |\n",
      "|   31   |     31    |\n",
      "----------------------\n"
     ]
    }
   ],
   "source": [
    "# Load and preprocess X_extra\n",
    "# Load test image into X_extra\n",
    "img_data = []\n",
    "for f_index in range(1, 6):\n",
    "    img_data.append(skimg.imread(\"./test_signs/%d.png\"%f_index))\n",
    "X_extra = np.array(img_data)\n",
    "\n",
    "# Set label\n",
    "y_extra = np.array([23, 38, 13, 35, 31])\n",
    "\n",
    "# Preprocess X_extra\n",
    "X_extra = X_extra.astype(np.float32)/255.0\n",
    "#map(rescale_intensity, X_extra)\n",
    "\n",
    "# Prediction\n",
    "y_pred_extra = test_model.predict_classes(X_extra, verbose=1)\n",
    "\n",
    "# Results\n",
    "format_values = lambda x, y: print(\"|   {}   |     {}    |\".format(x, y))\n",
    "print(\"Predictions:\")\n",
    "print(22*'-')\n",
    "print(\"| Target | Pediction |\")\n",
    "print(22*'-')\n",
    "for index in range(len(y_extra)):\n",
    "    format_values(y_extra[index], y_pred_extra[index])\n",
    "print(22*'-')\n"
   ]
  },
  {
   "cell_type": "markdown",
   "metadata": {},
   "source": [
    "### Analyze Performance"
   ]
  },
  {
   "cell_type": "code",
   "execution_count": 16,
   "metadata": {
    "ExecuteTime": {
     "end_time": "2017-07-02T12:13:09.185977Z",
     "start_time": "2017-07-02T12:13:09.170816Z"
    }
   },
   "outputs": [
    {
     "name": "stdout",
     "output_type": "stream",
     "text": [
      "Predictions:\n",
      "---------------------------------------\n",
      "| Target (T) | Pediction (P) | T == P |\n",
      "---------------------------------------\n",
      "|     23     |       23      |  True  |\n",
      "|     38     |       38      |  True  |\n",
      "|     13     |       13      |  True  |\n",
      "|     35     |       35      |  True  |\n",
      "|     31     |       31      |  True  |\n",
      "---------------------------------------\n",
      "\n",
      "Model - Accuracy for downloaded signs: 100.0% \n",
      "\n"
     ]
    }
   ],
   "source": [
    "_acc = y_pred_extra == y_extra\n",
    "extra_acc = np.sum(_acc)/np.size(y_extra)\n",
    "# Results\n",
    "format_values = lambda x, y, z: print(\"|     {}     |       {}      |  {}  |\".format(x, y, z))\n",
    "print(\"Predictions:\")\n",
    "print(39*'-')\n",
    "print(\"| Target (T) | Pediction (P) | T == P |\")\n",
    "print(39*'-')\n",
    "for index in range(len(y_extra)):\n",
    "    format_values(y_extra[index], y_pred_extra[index], _acc[index])\n",
    "print(39*'-')\n",
    "print('\\nModel - Accuracy for downloaded signs: {}% \\n'.format(extra_acc*100))"
   ]
  },
  {
   "cell_type": "markdown",
   "metadata": {},
   "source": [
    "### Output Top 5 Softmax Probabilities For Each Image Found on the Web"
   ]
  },
  {
   "cell_type": "code",
   "execution_count": 17,
   "metadata": {
    "ExecuteTime": {
     "end_time": "2017-07-02T13:31:43.005507Z",
     "start_time": "2017-07-02T13:31:42.963780Z"
    }
   },
   "outputs": [
    {
     "name": "stdout",
     "output_type": "stream",
     "text": [
      "5 Largest probabilities for value with Target: 23 \n",
      "-------------------------------------------------------\n",
      "2.363632067847732e-10 - Right-of-way at the next intersection\n",
      "3.5355518512858453e-10 - Bicycles crossing\n",
      "3.2256792792395572e-09 - Beware of ice/snow\n",
      "7.216234365614582e-08 - Dangerous curve to the right\n",
      "0.9999998807907104 - Slippery road\n",
      "-------------------------------------------------------\n",
      "\n",
      "5 Largest probabilities for value with Target: 38 \n",
      "-------------------------------------------------------\n",
      "1.3878065211104683e-15 - Roundabout mandatory\n",
      "2.254394706259792e-15 - Dangerous curve to the right\n",
      "1.0014019913859654e-13 - Go straight or right\n",
      "1.7196929102090974e-13 - Turn left ahead\n",
      "1.0 - Keep right\n",
      "-------------------------------------------------------\n",
      "\n",
      "5 Largest probabilities for value with Target: 13 \n",
      "-------------------------------------------------------\n",
      "3.8533104549665036e-18 - Speed limit (50km/h)\n",
      "8.929087976167975e-18 - Road work\n",
      "8.230762085279886e-17 - Speed limit (30km/h)\n",
      "1.1977286749170182e-16 - No vehicles\n",
      "1.0 - Yield\n",
      "-------------------------------------------------------\n",
      "\n",
      "5 Largest probabilities for value with Target: 35 \n",
      "-------------------------------------------------------\n",
      "3.2137541326054953e-12 - No vehicles\n",
      "2.006339365479004e-11 - Turn left ahead\n",
      "5.655639290225167e-10 - Go straight or right\n",
      "2.3549999639271846e-07 - Turn right ahead\n",
      "0.9999997615814209 - Ahead only\n",
      "-------------------------------------------------------\n",
      "\n",
      "5 Largest probabilities for value with Target: 31 \n",
      "-------------------------------------------------------\n",
      "2.746229768035846e-07 - Bumpy road\n",
      "5.724491711589508e-05 - Bicycles crossing\n",
      "8.790390711510554e-05 - Dangerous curve to the left\n",
      "0.09106744825839996 - Slippery road\n",
      "0.9087870717048645 - Wild animals crossing\n",
      "-------------------------------------------------------\n",
      "\n"
     ]
    }
   ],
   "source": [
    "nb_of_largest_prob = 5\n",
    "for index in range(len(X_extra)):\n",
    "    # calculate the probabilities \n",
    "    print(\"{} Largest probabilities for value with Target: {} \".format(nb_of_largest_prob,\n",
    "                                                                       y_extra[index]))\n",
    "    print(55*'-')\n",
    "    tmp_prob_extra = test_model.predict(np.array([X_extra[index]]), verbose=0)\n",
    "    # sorted probabilities\n",
    "    probs = tmp_prob_extra.argsort()[-nb_of_largest_prob:][::-1]\n",
    "    # convert to simple list with 1 dimension\n",
    "    probs = probs.tolist()[0]\n",
    "    \n",
    "    #sub_index [-nb_of_largest_prob, -1]\n",
    "    for sub_index in range(-nb_of_largest_prob, 0, 1): \n",
    "        curr_label = probs[len(probs)+sub_index]\n",
    "        print (\"{} - {}\".format(tmp_prob_extra[0][curr_label],\n",
    "                                     signnames[\"SignName\"][curr_label]))\n",
    "    print(55*'-')\n",
    "    print()\n",
    "    "
   ]
  },
  {
   "cell_type": "markdown",
   "metadata": {},
   "source": [
    "### Project Writeup\n",
    "\n",
    "Once you have completed the code implementation, document your results in a project writeup using this [template](https://github.com/udacity/CarND-Traffic-Sign-Classifier-Project/blob/master/writeup_template.md) as a guide. The writeup can be in a markdown or pdf file. "
   ]
  },
  {
   "cell_type": "markdown",
   "metadata": {},
   "source": [
    "> **Note**: Once you have completed all of the code implementations and successfully answered each question above, you may finalize your work by exporting the iPython Notebook as an HTML document. You can do this by using the menu above and navigating to  \\n\",\n",
    "    \"**File -> Download as -> HTML (.html)**. Include the finished document along with this notebook as your submission."
   ]
  }
 ],
 "metadata": {
  "anaconda-cloud": {},
  "kernelspec": {
   "display_name": "Python 3",
   "language": "python",
   "name": "python3"
  },
  "language_info": {
   "codemirror_mode": {
    "name": "ipython",
    "version": 3
   },
   "file_extension": ".py",
   "mimetype": "text/x-python",
   "name": "python",
   "nbconvert_exporter": "python",
   "pygments_lexer": "ipython3",
   "version": "3.5.2"
  },
  "toc": {
   "colors": {
    "hover_highlight": "#DAA520",
    "navigate_num": "#000000",
    "navigate_text": "#333333",
    "running_highlight": "#FF0000",
    "selected_highlight": "#FFD700",
    "sidebar_border": "#EEEEEE",
    "wrapper_background": "#FFFFFF"
   },
   "moveMenuLeft": true,
   "nav_menu": {
    "height": "480px",
    "width": "252px"
   },
   "navigate_menu": true,
   "number_sections": true,
   "sideBar": true,
   "threshold": 4,
   "toc_cell": false,
   "toc_position": {
    "height": "1128px",
    "left": "0px",
    "right": "1061.4px",
    "top": "109px",
    "width": "264px"
   },
   "toc_section_display": "block",
   "toc_window_display": true,
   "widenNotebook": false
  },
  "varInspector": {
   "cols": {
    "lenName": 16,
    "lenType": 16,
    "lenVar": 40
   },
   "kernels_config": {
    "python": {
     "delete_cmd_postfix": "",
     "delete_cmd_prefix": "del ",
     "library": "var_list.py",
     "varRefreshCmd": "print(var_dic_list())"
    },
    "r": {
     "delete_cmd_postfix": ") ",
     "delete_cmd_prefix": "rm(",
     "library": "var_list.r",
     "varRefreshCmd": "cat(var_dic_list()) "
    }
   },
   "types_to_exclude": [
    "module",
    "function",
    "builtin_function_or_method",
    "instance",
    "_Feature"
   ],
   "window_display": false
  },
  "widgets": {
   "state": {
    "14a4c7b1d3244e34956f0f004126fb05": {
     "views": []
    },
    "2530e8b45bd24e0e9c355146dbd8f5f9": {
     "views": []
    },
    "2eb334dba2a5430e8201ef1472d22985": {
     "views": []
    },
    "3f7cbda67c104584beeed71667f7af9a": {
     "views": [
      {
       "cell_index": 12
      }
     ]
    },
    "404b01fdcba44fd39489ccf468d2106b": {
     "views": []
    },
    "457a3e52011042abaeed95b64d3cf105": {
     "views": []
    },
    "4f2662afd93143a284ccd79cbc6195dd": {
     "views": []
    },
    "5cc5d4d9d239445a943ca738cfdf7a3f": {
     "views": []
    },
    "665fb13750e443bbbe4c0edd96a10821": {
     "views": []
    },
    "6cfa017d7ae54956a211b2b98ffe8b96": {
     "views": []
    },
    "6e1e47023b434152ac95da59380e0476": {
     "views": []
    },
    "71dacae2f5f146e0b8a0651427b48d21": {
     "views": []
    },
    "747eada728df4986a8210d21d6f6b20c": {
     "views": [
      {
       "cell_index": 12
      }
     ]
    },
    "7767145444d24d6d98965510e57958ce": {
     "views": []
    },
    "7827e5b51eef4b9981030f9e155c61ae": {
     "views": []
    },
    "8b564ed83d17452c8e3738d63d0b32a2": {
     "views": []
    },
    "8e0cf92d196c4051b7bc414130707161": {
     "views": []
    },
    "95e183c8d708472797686e05ebff3e28": {
     "views": []
    },
    "9dc381b3608f4e7fa963b907d8354e97": {
     "views": []
    },
    "aebf4a4010b44f909362b785b35fec92": {
     "views": []
    },
    "afbaf550326043fca3b60e3b7212935b": {
     "views": []
    },
    "b94b7dcf5de54abdb55ce88a5e782f1a": {
     "views": [
      {
       "cell_index": 12
      }
     ]
    },
    "bcb0611245fa4721a92e2f88ac57b176": {
     "views": []
    },
    "d012c32c98584507b4de36d2cd41f54f": {
     "views": []
    },
    "d03b25f889c54ee887e768dc80c11b19": {
     "views": []
    },
    "d363980c30cc41af8e3a192fcded729a": {
     "views": []
    },
    "d3890120046f41989019a9deb08944d6": {
     "views": []
    },
    "d429b8141497437097459e02c618a528": {
     "views": []
    },
    "dd1db22a75b84820b2e56665842d8207": {
     "views": []
    },
    "df1237617cef43f0945c7a8479e32de4": {
     "views": []
    },
    "dfc021c20ac84d2da55f6cccd11b36b9": {
     "views": [
      {
       "cell_index": 12
      }
     ]
    },
    "e1b66413ad8d4830a9662d514fd2b186": {
     "views": []
    },
    "e8eb5bfab3694d689eb1ac01e49f00ed": {
     "views": []
    },
    "ea8b423f41ad4e2da063fccdafede581": {
     "views": []
    },
    "eb821bf69ce549a7979825bfc713640a": {
     "views": []
    },
    "f1a0f85163de4ada88fb951caef0ee10": {
     "views": []
    },
    "f21f4630c1ca45f7b68108f17b5362da": {
     "views": []
    },
    "f924f84260d040cba2074a0e056d4aba": {
     "views": []
    },
    "fb9743262a8340f6a3e1d140e9cf7aeb": {
     "views": [
      {
       "cell_index": 12
      }
     ]
    },
    "fcacfc9b95614e238ffe7a5c44f0f446": {
     "views": []
    }
   },
   "version": "1.1.2"
  }
 },
 "nbformat": 4,
 "nbformat_minor": 1
}
