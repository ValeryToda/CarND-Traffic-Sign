{
 "cells": [
  {
   "cell_type": "markdown",
   "metadata": {},
   "source": [
    "# Self-Driving Car Engineer Nanodegree\n",
    "\n",
    "## Deep Learning\n",
    "\n",
    "## Project: Build a Traffic Sign Recognition Classifier\n",
    "\n",
    "In this notebook, a template is provided for you to implement your functionality in stages, which is required to successfully complete this project. If additional code is required that cannot be included in the notebook, be sure that the Python code is successfully imported and included in your submission if necessary. \n",
    "\n",
    "> **Note**: Once you have completed all of the code implementations, you need to finalize your work by exporting the iPython Notebook as an HTML document. Before exporting the notebook to html, all of the code cells need to have been run so that reviewers can see the final implementation and output. You can then export the notebook by using the menu above and navigating to  \\n\",\n",
    "    \"**File -> Download as -> HTML (.html)**. Include the finished document along with this notebook as your submission. \n",
    "\n",
    "In addition to implementing code, there is a writeup to complete. The writeup should be completed in a separate file, which can be either a markdown file or a pdf document. There is a [write up template](https://github.com/udacity/CarND-Traffic-Sign-Classifier-Project/blob/master/writeup_template.md) that can be used to guide the writing process. Completing the code template and writeup template will cover all of the [rubric points](https://review.udacity.com/#!/rubrics/481/view) for this project.\n",
    "\n",
    "The [rubric](https://review.udacity.com/#!/rubrics/481/view) contains \"Stand Out Suggestions\" for enhancing the project beyond the minimum requirements. The stand out suggestions are optional. If you decide to pursue the \"stand out suggestions\", you can include the code in this Ipython notebook and also discuss the results in the writeup file.\n",
    "\n",
    "\n",
    ">**Note:** Code and Markdown cells can be executed using the **Shift + Enter** keyboard shortcut. In addition, Markdown cells can be edited by typically double-clicking the cell to enter edit mode."
   ]
  },
  {
   "cell_type": "markdown",
   "metadata": {},
   "source": [
    "---\n",
    "## Step 0: Load The Data"
   ]
  },
  {
   "cell_type": "code",
   "execution_count": 1,
   "metadata": {},
   "outputs": [],
   "source": [
    "# Load pickled data\n",
    "import pickle\n",
    "import pandas as pd\n",
    "import numpy as np\n",
    "from sklearn.utils import shuffle\n",
    "from matplotlib import colors\n",
    "\n",
    "# TODO: Fill this in based on where you saved the training and testing data\n",
    "\n",
    "training_file = \"./train.p\"\n",
    "validation_file= \"./valid.p\"\n",
    "testing_file = \"./test.p\"\n",
    "\n",
    "with open(training_file, mode='rb') as f:\n",
    "    train = pickle.load(f)\n",
    "with open(validation_file, mode='rb') as f:\n",
    "    valid = pickle.load(f)\n",
    "with open(testing_file, mode='rb') as f:\n",
    "    test = pickle.load(f)\n",
    "    \n",
    "X_train, y_train = train['features'], train['labels']\n",
    "X_valid, y_valid = valid['features'], valid['labels']\n",
    "X_test, y_test = test['features'], test['labels']\n",
    "\n",
    "signnames = pd.read_csv(\"./signnames.csv\")"
   ]
  },
  {
   "cell_type": "markdown",
   "metadata": {},
   "source": [
    "---\n",
    "\n",
    "## Step 1: Dataset Summary & Exploration\n",
    "\n",
    "The pickled data is a dictionary with 4 key/value pairs:\n",
    "\n",
    "- `'features'` is a 4D array containing raw pixel data of the traffic sign images, (num examples, width, height, channels).\n",
    "- `'labels'` is a 1D array containing the label/class id of the traffic sign. The file `signnames.csv` contains id -> name mappings for each id.\n",
    "- `'sizes'` is a list containing tuples, (width, height) representing the original width and height the image.\n",
    "- `'coords'` is a list containing tuples, (x1, y1, x2, y2) representing coordinates of a bounding box around the sign in the image. **THESE COORDINATES ASSUME THE ORIGINAL IMAGE. THE PICKLED DATA CONTAINS RESIZED VERSIONS (32 by 32) OF THESE IMAGES**\n",
    "\n",
    "Complete the basic data summary below. Use python, numpy and/or pandas methods to calculate the data summary rather than hard coding the results. For example, the [pandas shape method](http://pandas.pydata.org/pandas-docs/stable/generated/pandas.DataFrame.shape.html) might be useful for calculating some of the summary results. "
   ]
  },
  {
   "cell_type": "markdown",
   "metadata": {},
   "source": [
    "### Provide a Basic Summary of the Data Set Using Python, Numpy and/or Pandas"
   ]
  },
  {
   "cell_type": "code",
   "execution_count": 2,
   "metadata": {},
   "outputs": [
    {
     "name": "stdout",
     "output_type": "stream",
     "text": [
      "Number of training examples = 34799\n",
      "Number of testing examples = 12630\n",
      "Image data shape = (32, 32, 3)\n",
      "Number of classes = 43\n"
     ]
    }
   ],
   "source": [
    "### Replace each question mark with the appropriate value. \n",
    "### Use python, pandas or numpy methods rather than hard coding the results\n",
    "\n",
    "# TODO: Number of training examples\n",
    "n_train = len (X_train)\n",
    "\n",
    "# TODO: Number of validation examples\n",
    "n_validation = len (X_valid)\n",
    "\n",
    "# TODO: Number of testing examples.\n",
    "n_test = len(X_test)\n",
    "\n",
    "# TODO: What's the shape of an traffic sign image?\n",
    "image_shape = X_train[0].shape\n",
    "\n",
    "# TODO: How many unique classes/labels there are in the dataset.\n",
    "n_classes = len(np.unique(y_train))\n",
    "\n",
    "n_valid = len(X_valid)\n",
    "\n",
    "print(\"Number of training examples =\", n_train)\n",
    "print(\"Number of testing examples =\", n_test)\n",
    "print(\"Image data shape =\", image_shape)\n",
    "print(\"Number of classes =\", n_classes)"
   ]
  },
  {
   "cell_type": "markdown",
   "metadata": {},
   "source": [
    "\n",
    "### Include an exploratory visualization of the dataset"
   ]
  },
  {
   "cell_type": "markdown",
   "metadata": {},
   "source": [
    "Visualize the German Traffic Signs Dataset using the pickled file(s). This is open ended, suggestions include: plotting traffic sign images, plotting the count of each sign, etc. \n",
    "\n",
    "The [Matplotlib](http://matplotlib.org/) [examples](http://matplotlib.org/examples/index.html) and [gallery](http://matplotlib.org/gallery.html) pages are a great resource for doing visualizations in Python.\n",
    "\n",
    "**NOTE:** It's recommended you start with something simple first. If you wish to do more, come back to it after you've completed the rest of the sections. It can be interesting to look at the distribution of classes in the training, validation and test set. Is the distribution the same? Are there more examples of some classes than others?"
   ]
  },
  {
   "cell_type": "code",
   "execution_count": 3,
   "metadata": {},
   "outputs": [
    {
     "data": {
      "image/png": "[encoded data removed]",
      "text/plain": [
       "<matplotlib.figure.Figure at 0x1146e6470>"
      ]
     },
     "metadata": {},
     "output_type": "display_data"
    },
    {
     "data": {
      "image/png": "[encoded data removed]",
      "text/plain": [
       "<matplotlib.figure.Figure at 0x110b34fd0>"
      ]
     },
     "metadata": {},
     "output_type": "display_data"
    },
    {
     "data": {
      "image/png": "[encoded data removed]",
      "text/plain": [
       "<matplotlib.figure.Figure at 0x116a5a438>"
      ]
     },
     "metadata": {},
     "output_type": "display_data"
    }
   ],
   "source": [
    "### Data exploration visualization code goes here.\n",
    "### Feel free to use as many code cells as needed.\n",
    "import matplotlib.pyplot as plt\n",
    "# Visualizations will be shown in the notebook.\n",
    "%matplotlib inline\n",
    "\n",
    "def plot_histograms(n_classes):\n",
    "    \"\"\"Ploting distributions of each set\"\"\"\n",
    "    def count_labels(y, n_cls=n_classes):\n",
    "        temp = y.tolist()\n",
    "        labels_count = np.zeros(n_classes)\n",
    "        for item in range(n_classes): \n",
    "            labels_count[item] = temp.count(item)\n",
    "        return labels_count\n",
    "    \n",
    "    x_axis = list(np.linspace(0, n_classes-1, num=n_classes))\n",
    "    plt.figure(num=1)\n",
    "    n_tr_lbls = count_labels(y_train)\n",
    "    plt.bar(x_axis, n_tr_lbls)\n",
    "    plt.title('Distribution of classes in X_train (n=%d)'%len(X_train))\n",
    "    plt.xlabel('classes: 0 - %d'%(n_classes - 1))\n",
    "    plt.ylabel('number of images')\n",
    "\n",
    "    plt.figure(num=2)\n",
    "    n_vl_lbls = count_labels(y_valid)\n",
    "    plt.bar(x_axis, n_vl_lbls)\n",
    "    plt.title('Distribution of classes in X_valid (n=%d)'%len(X_valid))\n",
    "    plt.xlabel('classes: 0 - %d'%(n_classes - 1))\n",
    "    plt.ylabel('number of images')\n",
    "    \n",
    "    plt.figure(num=3)\n",
    "    n_tt_lbls = count_labels(y_test)\n",
    "    plt.bar(x_axis, n_tt_lbls)    \n",
    "    plt.title('Distribution of classes in X_test (n=%d)'%len(X_test))\n",
    "    plt.xlabel('classes: 0 - %d'%(n_classes - 1))\n",
    "    plt.ylabel('number of images')\n",
    "\n",
    "plot_histograms(n_classes)"
   ]
  },
  {
   "cell_type": "markdown",
   "metadata": {},
   "source": [
    "### Data visualization"
   ]
  },
  {
   "cell_type": "code",
   "execution_count": 4,
   "metadata": {},
   "outputs": [
    {
     "data": {
      "image/png": "[encoded data removed]",
      "text/plain": [
       "<matplotlib.figure.Figure at 0x116bb0048>"
      ]
     },
     "metadata": {},
     "output_type": "display_data"
    }
   ],
   "source": [
    "from ipywidgets import widgets\n",
    "import traitlets\n",
    "from IPython.display import display\n",
    "import matplotlib.gridspec as gridspec\n",
    "\n",
    "x_train_grped = {}\n",
    "for label in np.unique(y_train).tolist():\n",
    "    x_train_grped[label] = []\n",
    "for index in range (n_train):\n",
    "    x_train_grped[y_train[index]].append(index)\n",
    "\n",
    "label_slider = widgets.IntSlider(max=n_classes, description=\"Label\")\n",
    "label_slider.max = n_classes - 1\n",
    "index_slider = widgets.IntSlider(description=\"Image index\")\n",
    "description = widgets.Text(disabled=True)\n",
    "    \n",
    "def on_label_value_changed(change):\n",
    "    index_slider.max = len(x_train_grped[label_slider.value]) - 1\n",
    "index_slider.observe(on_label_value_changed, names='value')\n",
    "\n",
    "img_index = 0\n",
    "dummy_res = None\n",
    "def display_images(index, label):\n",
    "    global img_index, dummy_res\n",
    "    index_slider.max = len(x_train_grped[label_slider.value]) - 1\n",
    "    plt.figure(figsize=(3, 3))\n",
    "    data = x_train_grped[label_slider.value]\n",
    "    img_index = data[index_slider.value] \n",
    "    #description.value = \"Image data at X_train [%d]\"%img_index\n",
    "    \n",
    "    plt.imshow(X_train[img_index])\n",
    "    plt.title(signnames['SignName'][label_slider.value])\n",
    "    \n",
    "caption = widgets.Label(value='Please select a label and a corresponding index \\\n",
    "                                        in the container of grouped training data')\n",
    "display(caption)\n",
    "# redirect output to variable and kwargs __output_result to avoid the verbose printing\n",
    "my_widget = widgets.interact(display_images, label=label_slider, index=index_slider, \\\n",
    "                             __output_result=False)\n",
    "#my_widget = widgets.interact(display_images, label=label_slider, index=index_slider, \\\n",
    "#                             desc=description, __output_result=False)"
   ]
  },
  {
   "cell_type": "markdown",
   "metadata": {},
   "source": [
    "----\n",
    "\n",
    "## Step 2: Design and Test a Model Architecture\n",
    "\n",
    "Design and implement a deep learning model that learns to recognize traffic signs. Train and test your model on the [German Traffic Sign Dataset](http://benchmark.ini.rub.de/?section=gtsrb&subsection=dataset).\n",
    "\n",
    "The LeNet-5 implementation shown in the [classroom](https://classroom.udacity.com/nanodegrees/nd013/parts/fbf77062-5703-404e-b60c-95b78b2f3f9e/modules/6df7ae49-c61c-4bb2-a23e-6527e69209ec/lessons/601ae704-1035-4287-8b11-e2c2716217ad/concepts/d4aca031-508f-4e0b-b493-e7b706120f81) at the end of the CNN lesson is a solid starting point. You'll have to change the number of classes and possibly the preprocessing, but aside from that it's plug and play! \n",
    "\n",
    "With the LeNet-5 solution from the lecture, you should expect a validation set accuracy of about 0.89. To meet specifications, the validation set accuracy will need to be at least 0.93. It is possible to get an even higher accuracy, but 0.93 is the minimum for a successful project submission. \n",
    "\n",
    "There are various aspects to consider when thinking about this problem:\n",
    "\n",
    "- Neural network architecture (is the network over or underfitting?)\n",
    "- Play around preprocessing techniques (normalization, rgb to grayscale, etc)\n",
    "- Number of examples per label (some have more than others).\n",
    "- Generate fake data.\n",
    "\n",
    "Here is an example of a [published baseline model on this problem](http://yann.lecun.com/exdb/publis/pdf/sermanet-ijcnn-11.pdf). It's not required to be familiar with the approach used in the paper but, it's good practice to try to read papers like these."
   ]
  },
  {
   "cell_type": "markdown",
   "metadata": {},
   "source": [
    "### Pre-process the Data Set (normalization, grayscale, etc.)"
   ]
  },
  {
   "cell_type": "markdown",
   "metadata": {},
   "source": [
    "Minimally, the image data should be normalized so that the data has mean zero and equal variance. For image data, `(pixel - 128)/ 128` is a quick way to approximately normalize the data and can be used in this project. \n",
    "\n",
    "Other pre-processing steps are optional. You can try different techniques to see if it improves performance. \n",
    "\n",
    "Use the code cell (or multiple code cells, if necessary) to implement the first step of your project."
   ]
  },
  {
   "cell_type": "code",
   "execution_count": 5,
   "metadata": {},
   "outputs": [],
   "source": [
    "from skimage.transform import warp, warp_coords\n",
    "from scipy.ndimage.interpolation import map_coordinates\n",
    "from skimage.transform import ProjectiveTransform\n",
    "from skimage import color\n",
    "from skimage import exposure, img_as_float\n",
    "import random\n",
    "import collections\n",
    "import os.path\n",
    "\n",
    "rotation_range = np.linspace(.15, .22, num=10, dtype=float)\n",
    "translation_range = np.linspace(-5., 5., num=10, dtype=float)\n",
    "scaling_range = np.linspace(.9, 1.5, num=15, dtype=float)\n",
    "rotation_range = rotation_range.tolist()\n",
    "translation_range = translation_range.tolist()\n",
    "scaling_range = scaling_range.tolist()\n",
    "AUG_TRAIN_FILE = \"./train_a.p\" \n",
    "X_train_a = None\n",
    "y_train_a = None\n",
    "\n",
    "def rnd_transform(orig_img, transform):\n",
    "    result = None\n",
    "    t_matrix = None\n",
    "    img = np.copy(orig_img)\n",
    "    \n",
    "    if transform == \"rotation\":\n",
    "        index = random.randint(0, len(rotation_range)-1)\n",
    "        angle = rotation_range[index]\n",
    "        \n",
    "## Matrix represented as [ [x_scale,  x_skew,  t_x]\n",
    "##                         [y_scale,  y_skew,  t_y]\n",
    "##                         [x_position, y_position, 1]]\n",
    "##                \n",
    "        sin_val = np.array([np.sin(angle), -np.sin(angle)])\n",
    "        random.shuffle(sin_val)\n",
    "        \n",
    "        t_matrix = np.array([[np.cos(angle), sin_val[0], 0],\\\n",
    "                             [sin_val[1], np.cos(angle), 0],\\\n",
    "                             [0, 0, 1]])\n",
    "    elif transform == \"translation\":\n",
    "        x_index = random.randint(0, len(translation_range)-1)\n",
    "        x_tr = translation_range[x_index]\n",
    "        y_index = random.randint(0, len(translation_range)-1)        \n",
    "        y_tr = translation_range[y_index]\n",
    "        #print(x_tr, y_tr)\n",
    "        t_matrix = np.array([[1, 0, x_tr],\\\n",
    "                             [0, 1, -y_tr],\\\n",
    "                             [0, 0, 1]])\n",
    "    elif transform == \"scaling\":\n",
    "        x_index = random.randint(0, len(scaling_range)-1)\n",
    "        x_sc = scaling_range[x_index]\n",
    "        #print (x_sc)\n",
    "        y_index = random.randint(0, len(scaling_range)-1)        \n",
    "        y_sc = scaling_range[y_index]\n",
    "        #print(y_sc)\n",
    "        t_matrix = np.array([[x_sc, 0, 0],\\\n",
    "                              [0, y_sc, 0],\\\n",
    "                              [0, 0, 1]])\n",
    "    else:\n",
    "        pass\n",
    "    if t_matrix is not None:\n",
    "        t_trans = ProjectiveTransform(matrix=t_matrix)\n",
    "        img = warp(img, t_trans, mode='edge', clip=True,\\\n",
    "                   order=1, output_shape=(img.shape[0], img.shape[1]))  \n",
    "    return img\n",
    "\n",
    "\n",
    "def rescale_intensity(img):\n",
    "    p2, p98 = np.percentile(img, (2, 98))\n",
    "    img_ = exposure.rescale_intensity(img, in_range=(p2, p98))\n",
    "    return img_\n",
    "\n",
    "def preprocess_image(img):\n",
    "    img.astype(np.float32)/255.0\n",
    "    img_ = rescale_intensity(img)\n",
    "    return img_\n",
    "\n",
    "def augment_data(threshold=750, save_as=True):\n",
    "    #find classes with less than \"threshold\" amount of data\n",
    "    tr_counter=collections.Counter(y_train.tolist())\n",
    "    tr_counter = collections.OrderedDict(tr_counter)\n",
    "    threshold = 750\n",
    "    below_treshold_cls = [key for key in list(tr_counter.keys())\\\n",
    "                                      if tr_counter[key] < threshold]\n",
    "    trf_op = ['rotation', 'translation', 'scaling']\n",
    "    \n",
    "    X_train_a = np.copy(X_train)\n",
    "    y_train_a = np.copy(y_train)\n",
    "    print (len(X_train_a))\n",
    "    print (len(y_train_a))\n",
    "    for cls in below_treshold_cls:\n",
    "        print (\"Processing label %d ...\"%cls)\n",
    "        cls_indexes = np.where(y_train==cls)[0]\n",
    "        cls_indexes = cls_indexes.tolist()\n",
    "        for index in cls_indexes:\n",
    "            tmp_orig = np.copy(X_train[index])\n",
    "            for op in trf_op:\n",
    "                tmp = rnd_transform(tmp_orig, transform=op)\n",
    "                # update X_train and y_train\n",
    "                X_train_a = np.append(X_train_a, np.array([tmp]), axis=0)\n",
    "                y_train_a = np.append(y_train_a, cls)\n",
    "    # Save data into new file\n",
    "    outfile = open(AUG_TRAIN_FILE, 'wb')\n",
    "    train_aug = {'features': X_train_a, 'labels': y_train_a}\n",
    "    pickle.dump(train_aug, outfile)\n",
    "    outfile.close()\n",
    "    \n",
    "    # Rename new data\n",
    "    X_train = X_train_a\n",
    "    y_train = y_train_a\n",
    "    print(\"Data augmentation finished.\")\n",
    "\n",
    "\n"
   ]
  },
  {
   "cell_type": "markdown",
   "metadata": {},
   "source": [
    "### Data Augmentation & Pre-processing"
   ]
  },
  {
   "cell_type": "markdown",
   "metadata": {},
   "source": [
    "#### Fake data generation (Caution: takes a long time!)"
   ]
  },
  {
   "cell_type": "code",
   "execution_count": 6,
   "metadata": {},
   "outputs": [
    {
     "name": "stdout",
     "output_type": "stream",
     "text": [
      "No data augmentation applied!\n"
     ]
    },
    {
     "data": {
      "image/png": "[encoded data removed]",
      "text/plain": [
       "<matplotlib.figure.Figure at 0x116baacc0>"
      ]
     },
     "metadata": {},
     "output_type": "display_data"
    },
    {
     "data": {
      "image/png": "[encoded data removed]",
      "text/plain": [
       "<matplotlib.figure.Figure at 0x116a9c940>"
      ]
     },
     "metadata": {},
     "output_type": "display_data"
    },
    {
     "data": {
      "image/png": "[encoded data removed]",
      "text/plain": [
       "<matplotlib.figure.Figure at 0x1168b79e8>"
      ]
     },
     "metadata": {},
     "output_type": "display_data"
    }
   ],
   "source": [
    "AUGMENT_DATA = False\n",
    "# Load or generate fake data\n",
    "if os.path.isfile(AUG_TRAIN_FILE) and\\\n",
    "            os.access(AUG_TRAIN_FILE, os.R_OK) and AUGMENT_DATA:\n",
    "    with open(AUG_TRAIN_FILE, mode='rb') as f:\n",
    "        train_a = pickle.load(f)\n",
    "        X_train_a, y_train_a = train_a['features'], train_a['labels']\n",
    "        X_train = X_train_a\n",
    "        y_train = y_train_a\n",
    "        X_train, y_train = shuffle(X_train, y_train)\n",
    "elif AUGMENT_DATA:\n",
    "    augment_data()\n",
    "    X_train, y_train = shuffle(X_train, y_train)\n",
    "else:\n",
    "    print(\"No data augmentation applied!\")\n",
    "\n",
    "# Histograms\n",
    "plot_histograms(n_classes)\n"
   ]
  },
  {
   "cell_type": "markdown",
   "metadata": {},
   "source": [
    "#### Normalization, grayscale"
   ]
  },
  {
   "cell_type": "code",
   "execution_count": 7,
   "metadata": {},
   "outputs": [
    {
     "name": "stderr",
     "output_type": "stream",
     "text": [
      "Using TensorFlow backend.\n"
     ]
    }
   ],
   "source": [
    "### Preprocess the data here. It is required to normalize the data. Other preprocessing steps could include \n",
    "### converting to grayscale, etc.\n",
    "### Feel free to use as many code cells as needed.\n",
    "GRAY_MODE = False\n",
    "KERAS_MODE = True\n",
    "\n",
    "if GRAY_MODE:\n",
    "    X_train = np.dot(X_train[...,:3], [0.299, 0.587, 0.114])        \n",
    "    X_valid = np.dot(X_valid[...,:3], [0.299, 0.587, 0.114])\n",
    "    # add last channel\n",
    "    X_train = X_train.reshape(X_train.shape + (1,))\n",
    "    X_valid = X_valid.reshape(X_valid.shape + (1,))\n",
    "\n",
    "## Scale features\n",
    "X_train = X_train.astype(np.float32)/255.0\n",
    "X_valid = X_valid.astype(np.float32)/255.0\n",
    "X_test  = X_test.astype(np.float32)/255.0\n",
    "\n",
    "\n",
    "if not KERAS_MODE:\n",
    "    X_train, y_train = shuffle(X_train, y_train)\n",
    "\n",
    "    # Rescale intensity of training examples\n",
    "    map(rescale_intensity, X_train)\n",
    "\n",
    "    # Rescale intensity of validation examples\n",
    "    map(rescale_intensity, X_valid)\n",
    "\n",
    "    # Rescale intensity of test examples\n",
    "    map(rescale_intensity, X_test)\n",
    "\n",
    "else:\n",
    "    from keras.preprocessing.image import ImageDataGenerator\n",
    "    from keras.utils.np_utils import to_categorical\n",
    "    \n",
    "    tr_datagen = ImageDataGenerator(\n",
    "                                 width_shift_range=.15,\n",
    "                                 height_shift_range=.15,\n",
    "                                 fill_mode='nearest',\n",
    "                                 preprocessing_function=preprocess_image)\n",
    "    \n",
    "    val_datagen = ImageDataGenerator(\n",
    "                                 width_shift_range=.15,\n",
    "                                 height_shift_range=.15,\n",
    "                                 fill_mode='nearest',\n",
    "                                 preprocessing_function=preprocess_image)\n",
    "\n",
    "    tr_datagen.fit(X_train)\n",
    "    val_datagen.fit(X_valid)\n",
    "    \n",
    "    # Rescale intensity of test examples\n",
    "    map(preprocess_image, X_test)"
   ]
  },
  {
   "cell_type": "markdown",
   "metadata": {},
   "source": [
    "### Model Architecture"
   ]
  },
  {
   "cell_type": "markdown",
   "metadata": {},
   "source": [
    "#### Using Keras with TensorFlow backend"
   ]
  },
  {
   "cell_type": "code",
   "execution_count": 8,
   "metadata": {},
   "outputs": [],
   "source": [
    "from keras.models import Sequential\n",
    "from keras.layers import Dense, Conv2D, MaxPool2D, Flatten, Dropout\n",
    "import keras.backend as K\n",
    "from keras import optimizers\n",
    "from keras import initializers\n",
    "from keras import regularizers\n",
    "import tensorflow as tf\n",
    "from keras.models import load_model\n",
    "from keras.callbacks import EarlyStopping\n",
    "from keras.callbacks import ModelCheckpoint\n",
    "from sklearn.metrics import confusion_matrix\n",
    "from keras import metrics\n",
    "from keras.layers import BatchNormalization"
   ]
  },
  {
   "cell_type": "code",
   "execution_count": null,
   "metadata": {
    "scrolled": false
   },
   "outputs": [
    {
     "name": "stdout",
     "output_type": "stream",
     "text": [
      "_________________________________________________________________\n",
      "Layer (type)                 Output Shape              Param #   \n",
      "=================================================================\n",
      "conv2d_1 (Conv2D)            (None, 28, 28, 16)        1216      \n",
      "_________________________________________________________________\n",
      "bn_0 (BatchNormalization)    (None, 28, 28, 16)        64        \n",
      "_________________________________________________________________\n",
      "conv2d_1_1 (Conv2D)          (None, 24, 24, 32)        12832     \n",
      "_________________________________________________________________\n",
      "maxpool2d_1 (MaxPooling2D)   (None, 12, 12, 32)        0         \n",
      "_________________________________________________________________\n",
      "conv2d_2 (Conv2D)            (None, 8, 8, 64)          51264     \n",
      "_________________________________________________________________\n",
      "bn_1 (BatchNormalization)    (None, 8, 8, 64)          256       \n",
      "_________________________________________________________________\n",
      "conv2d_2_1 (Conv2D)          (None, 4, 4, 128)         204928    \n",
      "_________________________________________________________________\n",
      "maxpool2d_2 (MaxPooling2D)   (None, 2, 2, 128)         0         \n",
      "_________________________________________________________________\n",
      "dpo_1 (Dropout)              (None, 2, 2, 128)         0         \n",
      "_________________________________________________________________\n",
      "fln_1 (Flatten)              (None, 512)               0         \n",
      "_________________________________________________________________\n",
      "fc_1 (Dense)                 (None, 256)               131328    \n",
      "_________________________________________________________________\n",
      "bn_2 (BatchNormalization)    (None, 256)               1024      \n",
      "_________________________________________________________________\n",
      "fc_2 (Dense)                 (None, 128)               32896     \n",
      "_________________________________________________________________\n",
      "dpo_2 (Dropout)              (None, 128)               0         \n",
      "_________________________________________________________________\n",
      "bn_3 (BatchNormalization)    (None, 128)               512       \n",
      "_________________________________________________________________\n",
      "fc_3 (Dense)                 (None, 43)                5547      \n",
      "=================================================================\n",
      "Total params: 441,867\n",
      "Trainable params: 440,939\n",
      "Non-trainable params: 928\n",
      "_________________________________________________________________\n",
      "Epoch 1/30\n",
      "271/271 [============================>.] - ETA: 0s - loss: 1.6292 - acc: 0.5168Epoch 00000: val_acc improved from -inf to 0.61293, saving model to ./weights-improvement-00-0.61.hdf5\n",
      "272/271 [==============================] - 116s - loss: 1.6250 - acc: 0.5180 - val_loss: 1.5163 - val_acc: 0.6129\n",
      "Epoch 2/30\n",
      "271/271 [============================>.] - ETA: 0s - loss: 0.3291 - acc: 0.8992Epoch 00001: val_acc improved from 0.61293 to 0.89093, saving model to ./weights-improvement-01-0.89.hdf5\n",
      "272/271 [==============================] - 113s - loss: 0.3292 - acc: 0.8992 - val_loss: 0.3852 - val_acc: 0.8909\n",
      "Epoch 3/30\n",
      "271/271 [============================>.] - ETA: 0s - loss: 0.1581 - acc: 0.9536Epoch 00002: val_acc improved from 0.89093 to 0.93878, saving model to ./weights-improvement-02-0.94.hdf5\n",
      "272/271 [==============================] - 115s - loss: 0.1584 - acc: 0.9535 - val_loss: 0.2613 - val_acc: 0.9388\n",
      "Epoch 4/30\n",
      "271/271 [============================>.] - ETA: 0s - loss: 0.1267 - acc: 0.9638Epoch 00003: val_acc did not improve\n",
      "272/271 [==============================] - 114s - loss: 0.1263 - acc: 0.9639 - val_loss: 0.4155 - val_acc: 0.9138\n",
      "Epoch 5/30\n",
      "271/271 [============================>.] - ETA: 0s - loss: 0.0996 - acc: 0.9717Epoch 00004: val_acc improved from 0.93878 to 0.95669, saving model to ./weights-improvement-04-0.96.hdf5\n",
      "272/271 [==============================] - 114s - loss: 0.0993 - acc: 0.9718 - val_loss: 0.1969 - val_acc: 0.9567\n",
      "Epoch 6/30\n",
      "271/271 [============================>.] - ETA: 0s - loss: 0.0723 - acc: 0.9803Epoch 00005: val_acc did not improve\n",
      "272/271 [==============================] - 114s - loss: 0.0726 - acc: 0.9802 - val_loss: 0.2630 - val_acc: 0.9485\n",
      "Epoch 7/30\n",
      "271/271 [============================>.] - ETA: 0s - loss: 0.0662 - acc: 0.9824Epoch 00006: val_acc did not improve\n",
      "272/271 [==============================] - 114s - loss: 0.0664 - acc: 0.9822 - val_loss: 0.3247 - val_acc: 0.9253\n",
      "Epoch 8/30\n",
      "271/271 [============================>.] - ETA: 0s - loss: 0.0651 - acc: 0.9826Epoch 00007: val_acc improved from 0.95669 to 0.95918, saving model to ./weights-improvement-07-0.96.hdf5\n",
      "272/271 [==============================] - 119s - loss: 0.0651 - acc: 0.9826 - val_loss: 0.1948 - val_acc: 0.9592\n",
      "Epoch 9/30\n",
      "271/271 [============================>.] - ETA: 0s - loss: 0.0498 - acc: 0.9879Epoch 00008: val_acc improved from 0.95918 to 0.96100, saving model to ./weights-improvement-08-0.96.hdf5\n",
      "272/271 [==============================] - 114s - loss: 0.0497 - acc: 0.9879 - val_loss: 0.1412 - val_acc: 0.9610\n",
      "Epoch 10/30\n",
      "271/271 [============================>.] - ETA: 0s - loss: 0.0509 - acc: 0.9858Epoch 00009: val_acc did not improve\n",
      "272/271 [==============================] - 114s - loss: 0.0508 - acc: 0.9858 - val_loss: 0.3363 - val_acc: 0.9417\n",
      "Epoch 11/30\n",
      "271/271 [============================>.] - ETA: 0s - loss: 0.0527 - acc: 0.9862Epoch 00010: val_acc did not improve\n",
      "272/271 [==============================] - 114s - loss: 0.0525 - acc: 0.9862 - val_loss: 0.2255 - val_acc: 0.9501\n",
      "Epoch 12/30\n",
      "271/271 [============================>.] - ETA: 0s - loss: 0.0457 - acc: 0.9881Epoch 00011: val_acc did not improve\n",
      "272/271 [==============================] - 114s - loss: 0.0457 - acc: 0.9881 - val_loss: 0.2445 - val_acc: 0.9485\n",
      "Epoch 13/30\n",
      "271/271 [============================>.] - ETA: 0s - loss: 0.0563 - acc: 0.9858Epoch 00012: val_acc did not improve\n",
      "272/271 [==============================] - 115s - loss: 0.0564 - acc: 0.9858 - val_loss: 0.2623 - val_acc: 0.9467\n",
      "Epoch 14/30\n",
      "271/271 [============================>.] - ETA: 0s - loss: 0.0467 - acc: 0.9876Epoch 00013: val_acc did not improve\n",
      "272/271 [==============================] - 114s - loss: 0.0467 - acc: 0.9876 - val_loss: 0.2759 - val_acc: 0.9483\n",
      "Epoch 15/30\n",
      "271/271 [============================>.] - ETA: 0s - loss: 0.0423 - acc: 0.9891Epoch 00014: val_acc improved from 0.96100 to 0.97664, saving model to ./weights-improvement-14-0.98.hdf5\n",
      "272/271 [==============================] - 116s - loss: 0.0422 - acc: 0.9891 - val_loss: 0.0985 - val_acc: 0.9766\n",
      "Epoch 16/30\n",
      "271/271 [============================>.] - ETA: 0s - loss: 0.0442 - acc: 0.9882Epoch 00015: val_acc did not improve\n",
      "272/271 [==============================] - 119s - loss: 0.0443 - acc: 0.9881 - val_loss: 0.1138 - val_acc: 0.9748\n",
      "Epoch 17/30\n",
      "271/271 [============================>.] - ETA: 0s - loss: 0.0373 - acc: 0.9905Epoch 00016: val_acc did not improve\n",
      "272/271 [==============================] - 120s - loss: 0.0372 - acc: 0.9905 - val_loss: 0.2010 - val_acc: 0.9639\n",
      "Epoch 18/30\n",
      "271/271 [============================>.] - ETA: 0s - loss: 0.0336 - acc: 0.9916Epoch 00017: val_acc did not improve\n",
      "272/271 [==============================] - 115s - loss: 0.0335 - acc: 0.9916 - val_loss: 0.1208 - val_acc: 0.9760\n",
      "Epoch 19/30\n",
      "271/271 [============================>.] - ETA: 0s - loss: 0.0308 - acc: 0.9920Epoch 00018: val_acc did not improve\n",
      "272/271 [==============================] - 115s - loss: 0.0307 - acc: 0.9920 - val_loss: 0.1172 - val_acc: 0.9751\n",
      "Epoch 20/30\n",
      "271/271 [============================>.] - ETA: 0s - loss: 0.0410 - acc: 0.9899Epoch 00019: val_acc did not improve\n",
      "272/271 [==============================] - 115s - loss: 0.0409 - acc: 0.9900 - val_loss: 0.1537 - val_acc: 0.9687\n",
      "Epoch 21/30\n",
      "271/271 [============================>.] - ETA: 0s - loss: 0.0309 - acc: 0.9921Epoch 00020: val_acc did not improve\n",
      "272/271 [==============================] - 115s - loss: 0.0309 - acc: 0.9921 - val_loss: 0.1720 - val_acc: 0.9592\n",
      "Epoch 22/30\n",
      "271/271 [============================>.] - ETA: 0s - loss: 0.0290 - acc: 0.9928Epoch 00021: val_acc did not improve\n"
     ]
    },
    {
     "name": "stdout",
     "output_type": "stream",
     "text": [
      "272/271 [==============================] - 115s - loss: 0.0289 - acc: 0.9928 - val_loss: 0.1345 - val_acc: 0.9717\n",
      "Epoch 23/30\n",
      "271/271 [============================>.] - ETA: 0s - loss: 0.0286 - acc: 0.9928Epoch 00022: val_acc did not improve\n",
      "272/271 [==============================] - 127s - loss: 0.0285 - acc: 0.9928 - val_loss: 0.1310 - val_acc: 0.9687\n",
      "Epoch 24/30\n",
      "271/271 [============================>.] - ETA: 0s - loss: 0.0269 - acc: 0.9924Epoch 00023: val_acc did not improve\n",
      "272/271 [==============================] - 130s - loss: 0.0268 - acc: 0.9925 - val_loss: 0.1768 - val_acc: 0.9714\n",
      "Epoch 25/30\n",
      "271/271 [============================>.] - ETA: 0s - loss: 0.0330 - acc: 0.9916Epoch 00024: val_acc did not improve\n",
      "272/271 [==============================] - 120s - loss: 0.0330 - acc: 0.9916 - val_loss: 0.1558 - val_acc: 0.9723\n",
      "Epoch 26/30\n",
      "271/271 [============================>.] - ETA: 0s - loss: 0.0446 - acc: 0.9891Epoch 00025: val_acc did not improve\n",
      "272/271 [==============================] - 127s - loss: 0.0447 - acc: 0.9891 - val_loss: 0.1833 - val_acc: 0.9651\n",
      "Epoch 27/30\n",
      "185/271 [===================>..........] - ETA: 36s - loss: 0.0323 - acc: 0.9915"
     ]
    }
   ],
   "source": [
    "#Converts a class vector (integers) to binary class matrix.\n",
    "#E.g. for use with categorical_crossentropy.\n",
    "y_train_cat = to_categorical(y_train, n_classes)\n",
    "y_valid_cat = to_categorical(y_valid, n_classes)\n",
    "y_test_cat  = to_categorical(y_test, n_classes)\n",
    "\n",
    "\n",
    "BATCH_SIZE_KE = 128\n",
    "EPOCHS_KE = 30 #15 #100\n",
    "learning_rate_ke = 0.01 #0.001\n",
    "\n",
    "def save_model(model):\n",
    "    # serialize model to JSON\n",
    "    model_json = model.to_json()\n",
    "    with open(\"./model.json\", \"w\") as json_file:\n",
    "        json_file.write(model_json)\n",
    "        \n",
    "    # serialize weights to HDF5\n",
    "    model.save_weights(\"./weights.hdf5\")\n",
    "    print(\"Model saved.\")\n",
    "\n",
    "def LeNet_Ke(batch_norm=False):\n",
    "    K.clear_session()\n",
    "    model = Sequential()\n",
    "    mu = 0\n",
    "    sigma = 0.1\n",
    "    \n",
    "    # Conv2D #6\n",
    "    model.add(Conv2D(16, (5, 5), activation='relu',\\\n",
    "                     input_shape=(32, 32, 3), padding='valid',\\\n",
    "                     kernel_initializer=initializers.TruncatedNormal(stddev=sigma),\\\n",
    "                     #kernel_regularizer='l2',\\\n",
    "                     #kernel_regularizer=regularizers.l2(0.01),\\\n",
    "                     #activity_regularizer=regularizers.l1(0.01),\n",
    "                     use_bias=True,\n",
    "                     bias_initializer=initializers.Zeros(),\n",
    "                     name='conv2d_1'))\n",
    "\n",
    "    if batch_norm:\n",
    "        model.add(BatchNormalization(name=\"bn_0\"))\n",
    "    model.add(Conv2D(32, (5, 5), activation='relu',\\\n",
    "                 input_shape=(32, 32, 3), padding='valid',\\\n",
    "                 kernel_initializer=initializers.TruncatedNormal(stddev=sigma),\\\n",
    "                 #kernel_regularizer='l2',\\\n",
    "                 #kernel_regularizer=regularizers.l2(0.01),\\\n",
    "                 #activity_regularizer=regularizers.l1(0.01),\n",
    "                 use_bias=True,\n",
    "                 bias_initializer=initializers.Zeros(),\n",
    "                 name='conv2d_1_1'))\n",
    "\n",
    "    # MaxPool2D\n",
    "    model.add(MaxPool2D(pool_size=(2, 2), name='maxpool2d_1'))\n",
    "    \n",
    "    # Conv2D   #16\n",
    "    model.add(Conv2D(64, (5, 5), activation='relu', padding='valid',\\\n",
    "                    kernel_initializer=initializers.TruncatedNormal(stddev=sigma),\\\n",
    "                    #kernel_regularizer='l2',\\\n",
    "                    #kernel_regularizer=regularizers.l2(0.01),\n",
    "                    #activity_regularizer=regularizers.l1(0.01), \n",
    "                    use_bias=True,\n",
    "                    bias_initializer=initializers.Zeros(),\n",
    "                    name='conv2d_2'))\n",
    "    if batch_norm:\n",
    "        model.add(BatchNormalization(name=\"bn_1\"))\n",
    "    \n",
    "    model.add(Conv2D(128, (5, 5), activation='relu', padding='valid',\\\n",
    "                    kernel_initializer=initializers.TruncatedNormal(stddev=sigma),\\\n",
    "                    #kernel_regularizer='l2',\\\n",
    "                    #kernel_regularizer=regularizers.l2(0.01),\n",
    "                    #activity_regularizer=regularizers.l1(0.01), \n",
    "                    use_bias=True,\n",
    "                    bias_initializer=initializers.Zeros(),\n",
    "                    name='conv2d_2_1'))\n",
    "    \n",
    "    # MaxPool2D\n",
    "    model.add(MaxPool2D(pool_size=(2, 2), name='maxpool2d_2'))\n",
    "    \n",
    "    # Dropout\n",
    "    model.add(Dropout(0.25, name='dpo_1'))\n",
    "    \n",
    "    model.add(Flatten(name='fln_1'))\n",
    "    # Fully Connected #120\n",
    "    model.add(Dense(256, activation='relu',\\\n",
    "                    kernel_initializer=initializers.TruncatedNormal(stddev=sigma),\\\n",
    "                    #kernel_regularizer='l2',\\\n",
    "                    #kernel_regularizer=regularizers.l2(0.01),\\\n",
    "                    #activity_regularizer=regularizers.l1(0.01), \n",
    "                    use_bias=True,\n",
    "                    bias_initializer=initializers.Zeros(),\n",
    "                    name='fc_1'))\n",
    "    if batch_norm:\n",
    "        model.add(BatchNormalization(name=\"bn_2\"))\n",
    "        \n",
    "    # Fully Connected #84\n",
    "    model.add(Dense(128, activation='relu', \\\n",
    "                    kernel_initializer=initializers.TruncatedNormal(stddev=sigma),\\\n",
    "                    #kernel_regularizer='l2',\\\n",
    "                    #kernel_regularizer=regularizers.l2(0.01),\\\n",
    "                    #activity_regularizer=regularizers.l1(0.01),                     \n",
    "                    use_bias=True,\n",
    "                    bias_initializer=initializers.Zeros(),\n",
    "                    name='fc_2'))  \n",
    "\n",
    "    model.add(Dropout(0.5, name='dpo_2'))\n",
    "    # Fully Connected\n",
    "    if batch_norm:\n",
    "        model.add(BatchNormalization(name=\"bn_3\"))\n",
    "\n",
    "    model.add(Dense(n_classes,\\\n",
    "                    kernel_initializer=initializers.TruncatedNormal(stddev=sigma),\\\n",
    "                    #kernel_regularizer='l2',\\\n",
    "                    #kernel_regularizer=regularizers.l2(0.01),\\\n",
    "                    #activity_regularizer=regularizers.l1(0.01), \n",
    "                    use_bias=True, \n",
    "                    bias_initializer=initializers.Zeros(),\n",
    "                    activation='softmax',\n",
    "                    name='fc_3'))\n",
    "    return model \n",
    "    \n",
    "\n",
    "if KERAS_MODE:\n",
    "    model = LeNet_Ke(True)\n",
    "    model.compile(loss='categorical_crossentropy',\n",
    "                  optimizer=optimizers.Adam(lr=learning_rate_ke),\n",
    "                  metrics=['accuracy'])\n",
    "\n",
    "    ## Model Summary\n",
    "    model.summary()\n",
    "    #model.load_weights(\"./weights.hdf5\")\n",
    "    \n",
    "    ## Checkpoint\n",
    "    filepath=\"./weights-improvement-{epoch:02d}-{val_acc:.2f}.hdf5\"\n",
    "    checkpointer = ModelCheckpoint(filepath, monitor='val_acc', verbose=1,\\\n",
    "                                    save_best_only=True, mode='max')\n",
    "    callbacks_list = [checkpointer]\n",
    "\n",
    "    #early_stopping = EarlyStopping(monitor='val_loss', patience=2)\n",
    "    \"\"\"\n",
    "    hist = model.fit(X_train, y_train_cat, batch_size=BATCH_SIZE_KE,\\\n",
    "                      validation_data=(X_valid, y_valid_cat),\\\n",
    "                      epochs=EPOCHS_KE, verbose=1, shuffle=True,\\\n",
    "                      #callbacks=[early_stopping]\n",
    "                      callbacks=[checkpointer])\n",
    "    \"\"\"\n",
    "    ## with data augmentation\n",
    "    hist = model.fit_generator(tr_datagen.flow(X_train, y_train_cat,\\\n",
    "                                               batch_size=BATCH_SIZE_KE),\\\n",
    "                        steps_per_epoch=len(X_train) / BATCH_SIZE_KE,\\\n",
    "                        epochs=EPOCHS_KE,\\\n",
    "                        workers=4,\\\n",
    "                        validation_data=val_datagen.flow(X_valid, y_valid_cat,\\\n",
    "                                                         batch_size=BATCH_SIZE_KE,\\\n",
    "                                                        #save_to_dir='./gen_valid'\n",
    "                                                        ),\\\n",
    "                        #use_multiprocessing = True,\\\n",
    "                        validation_steps=len(X_valid) / BATCH_SIZE_KE,\\\n",
    "                        verbose=1,\\\n",
    "                        callbacks=[checkpointer])\n",
    "\n",
    "    ## Save history to file\n",
    "    hist_file = \"./history.p\"\n",
    "    out_tr_file = open(hist_file, 'wb')\n",
    "    hist_container = {'acc': hist.history['acc'], 'val_acc': hist.history['val_acc'],\\\n",
    "                      'loss': hist.history['loss'], 'val_loss': hist.history['val_loss']}\n",
    "    pickle.dump(hist_container, out_tr_file)\n",
    "    out_tr_file.close()\n",
    "    print(\"Training history saved.\")\n",
    "\n",
    "    # Save the model\n",
    "    save_model(model)\n"
   ]
  },
  {
   "cell_type": "markdown",
   "metadata": {},
   "source": [
    "#### Plot accuracy and losses"
   ]
  },
  {
   "cell_type": "code",
   "execution_count": null,
   "metadata": {},
   "outputs": [],
   "source": [
    "## Load history form drive\n",
    "tr_hist = None\n",
    "with open(\"./history.p\", mode='rb') as f:\n",
    "    tr_hist = pickle.load(f)\n",
    "\n",
    "plt.figure(num=3, figsize=(12, 12))     \n",
    "# summarize history for accuracy  \n",
    "plt.subplot(211)  \n",
    "plt.plot(tr_hist['acc'])  \n",
    "plt.plot(tr_hist['val_acc'])  \n",
    "plt.title('model accuracy')  \n",
    "plt.ylabel('accuracy')  \n",
    "plt.xlabel('epoch')  \n",
    "plt.legend(['train', 'valid'], loc='lower right')  \n",
    "\n",
    "# summarize history for loss  \n",
    "plt.subplot(212)  \n",
    "plt.plot(tr_hist['loss'])  \n",
    "plt.plot(tr_hist['val_loss'])  \n",
    "plt.title('model loss')  \n",
    "plt.ylabel('loss')  \n",
    "plt.xlabel('epoch')  \n",
    "plt.legend(['train', 'valid'], loc='upper right')  \n",
    "plt.show()  \n"
   ]
  },
  {
   "cell_type": "markdown",
   "metadata": {},
   "source": [
    "#### Model (Keras) prediction on test samples, confusion matrix, classification report"
   ]
  },
  {
   "cell_type": "code",
   "execution_count": null,
   "metadata": {},
   "outputs": [],
   "source": [
    "from sklearn.metrics import classification_report, confusion_matrix\n",
    "from keras.models import model_from_json\n",
    "\n",
    "label_desc = [\"%s - %2d\"%(signnames['SignName'][label], label) for label in range(0, 43)]\n",
    "\n",
    "# Load model\n",
    "md_file = open('./model.json', 'r')\n",
    "loaded_model_json = md_file.read()\n",
    "md_file.close()\n",
    "model = model_from_json(loaded_model_json)\n",
    "print(\"Model loaded.\")\n",
    "\n",
    "# Load weights\n",
    "model.load_weights(\"./weights.hdf5\")\n",
    "#model.load_weights(\"./weights-improvement-270-0.97.hdf5\")\n",
    "print(\"Weights loaded.\")\n",
    "\n",
    "# model summary\n",
    "model.summary()\n",
    "\n",
    "# Get predictions\n",
    "y_pred = model.predict_classes(X_test)\n",
    "\n",
    "# Confusion matrix\n",
    "cm = confusion_matrix(y_test, y_pred, labels=[label for label in range(0, 43)])\n",
    "\n",
    "# Save confusion matrix\n",
    "with open(\"./confusion_matrix.csv\", \"wb\") as f:\n",
    "    np.savetxt(f, cm.astype(int), fmt='%i', delimiter=\";\")\n"
   ]
  },
  {
   "cell_type": "markdown",
   "metadata": {},
   "source": [
    "#### Plot confusion matrix"
   ]
  },
  {
   "cell_type": "code",
   "execution_count": null,
   "metadata": {
    "scrolled": false
   },
   "outputs": [],
   "source": [
    "def plot_confusion_matrix(conf_mat, labels, n_classes=43):\n",
    "    \n",
    "    plt.figure(num=4, figsize=(13, 10))   \n",
    "    plt.imshow(cm, interpolation='nearest', cmap=plt.cm.binary)\n",
    "    plt.tight_layout()\n",
    "    plt.colorbar()\n",
    "    tick_marks = np.arange(n_classes)\n",
    "    plt.xticks(tick_marks, range(n_classes))\n",
    "    plt.yticks(tick_marks, tuple(labels))\n",
    "    plt.xlabel('Predicted label')\n",
    "    plt.ylabel('True label')\n",
    "\n",
    "plot_confusion_matrix(cm, label_desc)"
   ]
  },
  {
   "cell_type": "markdown",
   "metadata": {},
   "source": [
    "#### Classification report"
   ]
  },
  {
   "cell_type": "code",
   "execution_count": null,
   "metadata": {},
   "outputs": [],
   "source": [
    "print (classification_report(y_test, y_pred, target_names=label_desc))"
   ]
  },
  {
   "cell_type": "code",
   "execution_count": null,
   "metadata": {},
   "outputs": [],
   "source": [
    "#metrics.top_k_categorical_accuracy(y_test, y_pred, 10)"
   ]
  },
  {
   "cell_type": "code",
   "execution_count": null,
   "metadata": {},
   "outputs": [],
   "source": [
    "model.count_params()\n",
    "len(model.layers[0].get_weights())\n"
   ]
  },
  {
   "cell_type": "code",
   "execution_count": null,
   "metadata": {},
   "outputs": [],
   "source": [
    "def plot_filter(layer, x, y):\n",
    "    filters = layer.get_weights()[0]\n",
    "    fig = plt.figure()\n",
    "    for ftr_index in range(len(filters)):\n",
    "        ax = fig.add_subplot(y, x, ftr_index + 1)\n",
    "        ax.matshow(filters[ftr_index][0], cmap=plt.cm.binary)\n",
    "        plt.xticks(np.array([]))\n",
    "        plt.yticks(np.array([]))                  \n",
    "    plt.tight_layout()\n",
    "    return plt\n",
    "\n"
   ]
  },
  {
   "cell_type": "markdown",
   "metadata": {},
   "source": [
    "### Model Architecture"
   ]
  },
  {
   "cell_type": "markdown",
   "metadata": {},
   "source": [
    "#### Using TensorFlow\n",
    "The `EPOCH` and `BATCH_SIZE` values affect the training speed and model accuracy.\n"
   ]
  },
  {
   "cell_type": "code",
   "execution_count": null,
   "metadata": {
    "collapsed": true
   },
   "outputs": [],
   "source": [
    "import tensorflow as tf\n",
    "\n",
    "rate = 0.001\n",
    "EPOCHS = 0 # 20 # 100 \n",
    "BATCH_SIZE = 128 # test of 256 \n"
   ]
  },
  {
   "cell_type": "markdown",
   "metadata": {},
   "source": [
    "#### Output"
   ]
  },
  {
   "cell_type": "code",
   "execution_count": null,
   "metadata": {
    "collapsed": true
   },
   "outputs": [],
   "source": [
    "### Define your architecture here.\n",
    "### Feel free to use as many code cells as needed.\n",
    "\n",
    "from tensorflow.contrib.layers import flatten\n",
    "\n",
    "def LeNet(x):    \n",
    "    # Arguments used for tf.truncated_normal, randomly defines variables for the weights and biases for each layer\n",
    "    mu = 0\n",
    "    sigma = 0.1\n",
    "    \n",
    "    # SOLUTION: Layer 1: Convolutional. Input = 32x32x1. Output = 28x28x6.\n",
    "    conv1_W = tf.Variable(tf.truncated_normal(shape=(5, 5, X_train.shape[3], 6), mean = mu, stddev = sigma))\n",
    "    conv1_b = tf.Variable(tf.zeros(6))\n",
    "    #conv1_b = tf.Variable(tf.random_normal([6]))\n",
    "    #conv1_b = tf.Variable(tf.constant(0.05, shape=[6]))\n",
    "    conv1   = tf.nn.conv2d(x, conv1_W, strides=[1, 1, 1, 1], padding='VALID') + conv1_b\n",
    "\n",
    "    # SOLUTION: Activation.\n",
    "    conv1 = tf.nn.relu(conv1)\n",
    "\n",
    "    # SOLUTION: Pooling. Input = 28x28x6. Output = 14x14x6.\n",
    "    conv1 = tf.nn.max_pool(conv1, ksize=[1, 2, 2, 1], strides=[1, 2, 2, 1], padding='VALID')\n",
    "\n",
    "    # SOLUTION: Layer 2: Convolutional. Output = 10x10x16.\n",
    "    conv2_W = tf.Variable(tf.truncated_normal(shape=(5, 5, 6, 16), mean = mu, stddev = sigma))\n",
    "    conv2_b = tf.Variable(tf.zeros(16))\n",
    "    #conv2_b = tf.Variable(tf.constant(0.05, shape=[16]))\n",
    "    \n",
    "    #conv2_b = tf.Variable(tf.random_normal([16]))\n",
    "    conv2   = tf.nn.conv2d(conv1, conv2_W, strides=[1, 1, 1, 1], padding='VALID') + conv2_b\n",
    "    \n",
    "    # SOLUTION: Activation.\n",
    "    conv2 = tf.nn.relu(conv2)\n",
    "    \n",
    "    # SOLUTION: Pooling. Input = 10x10x16. Output = 5x5x16.\n",
    "    conv2 = tf.nn.max_pool(conv2, ksize=[1, 2, 2, 1], strides=[1, 2, 2, 1], padding='VALID')\n",
    "\n",
    "    # SOLUTION: Flatten. Input = 5x5x16. Output = 400.\n",
    "    fc0   = flatten(conv2)\n",
    "    \n",
    "    # SOLUTION: Layer 3: Fully Connected. Input = 400. Output = 120.\n",
    "    fc1_W = tf.Variable(tf.truncated_normal(shape=(400, 120), mean = mu, stddev = sigma))\n",
    "    fc1_b = tf.Variable(tf.constant(0.05, shape=[120]))\n",
    "    fc1_b = tf.Variable(tf.zeros(120))\n",
    "    #fc1_b = tf.Variable(tf.random_normal([120]))\n",
    "    fc1   = tf.matmul(fc0, fc1_W) + fc1_b\n",
    "    \n",
    "    # SOLUTION: Activation.\n",
    "    fc1    = tf.nn.relu(fc1)\n",
    "    # Dropout\n",
    "    #fc1    = tf.nn.dropout(fc1, 0.25)\n",
    "\n",
    "    # SOLUTION: Layer 4: Fully Connected. Input = 120. Output = 84.\n",
    "    fc2_W  = tf.Variable(tf.truncated_normal(shape=(120, 84), mean = mu, stddev = sigma))\n",
    "    fc2_b = tf.Variable(tf.constant(0.05, shape=[84]))\n",
    "    fc2_b  = tf.Variable(tf.zeros(84))\n",
    "    #fc2_b  = tf.Variable(tf.random_normal([84]))\n",
    "    fc2    = tf.matmul(fc1, fc2_W) + fc2_b\n",
    "    \n",
    "    # SOLUTION: Activation.\n",
    "    fc2    = tf.nn.relu(fc2)\n",
    "    # Dropout\n",
    "    #fc2    = tf.nn.dropout(fc2, 0.5)\n",
    "    \n",
    "    # SOLUTION: Layer 5: Fully Connected. Input = 84. Output = n_classes.\n",
    "    fc3_W  = tf.Variable(tf.truncated_normal(shape=(84, n_classes), mean = mu, stddev = sigma))\n",
    "    fc3_b  = tf.Variable(tf.zeros(n_classes)) \n",
    "    #fc3_b = tf.Variable(tf.constant(0.05, shape=[n_classes]))\n",
    "    #fc3_b = tf.Variable(tf.random_normal([n_classes]))\n",
    "    logits = tf.matmul(fc2, fc3_W) + fc3_b\n",
    "    \n",
    "    return logits\n"
   ]
  },
  {
   "cell_type": "markdown",
   "metadata": {},
   "source": [
    "### Train, Validate and Test the Model"
   ]
  },
  {
   "cell_type": "markdown",
   "metadata": {},
   "source": [
    "#### Features and Labels"
   ]
  },
  {
   "cell_type": "code",
   "execution_count": null,
   "metadata": {},
   "outputs": [],
   "source": [
    "x = tf.placeholder(tf.float32, (None, 32, 32, X_train.shape[3]))\n",
    "y = tf.placeholder(tf.int32, (None))\n",
    "one_hot_y = tf.one_hot(y, n_classes)"
   ]
  },
  {
   "cell_type": "markdown",
   "metadata": {},
   "source": [
    "A validation set can be used to assess how well the model is performing. A low accuracy on the training and validation\n",
    "sets imply underfitting. A high accuracy on the training set but low accuracy on the validation set implies overfitting."
   ]
  },
  {
   "cell_type": "code",
   "execution_count": null,
   "metadata": {
    "scrolled": false
   },
   "outputs": [],
   "source": [
    "### Train your model here.\n",
    "### Calculate and report the accuracy on the training and validation set.\n",
    "### Once a final model architecture is selected, \n",
    "### the accuracy on the test set should be calculated and reported as well.\n",
    "### Feel free to use as many code cells as needed.\n",
    "\n",
    "logits = LeNet(x)\n",
    "\n",
    "cross_entropy = tf.nn.softmax_cross_entropy_with_logits(labels=one_hot_y, logits=logits)\n",
    "loss_operation = tf.reduce_mean(cross_entropy)\n",
    "optimizer = tf.train.AdamOptimizer(learning_rate = rate)\n",
    "#optimizer = tf.train.GradientDescentOptimizer(learning_rate = rate)\n",
    "training_operation = optimizer.minimize(loss_operation)"
   ]
  },
  {
   "cell_type": "markdown",
   "metadata": {},
   "source": [
    "#### Model Evaluation"
   ]
  },
  {
   "cell_type": "code",
   "execution_count": null,
   "metadata": {
    "collapsed": true
   },
   "outputs": [],
   "source": [
    "correct_prediction = tf.equal(tf.argmax(logits, 1), tf.argmax(one_hot_y, 1))\n",
    "accuracy_operation = tf.reduce_mean(tf.cast(correct_prediction, tf.float32))\n",
    "saver = tf.train.Saver()\n",
    "\n",
    "def evaluate(X_data, y_data):\n",
    "    num_examples = len(X_data)\n",
    "    total_accuracy = 0\n",
    "    sess = tf.get_default_session()\n",
    "    for offset in range(0, num_examples, BATCH_SIZE):\n",
    "        batch_x, batch_y = X_data[offset:offset+BATCH_SIZE], y_data[offset:offset+BATCH_SIZE]\n",
    "        loss, accuracy = sess.run([loss_operation, accuracy_operation], feed_dict={x: batch_x, y: batch_y})\n",
    "        total_accuracy += (accuracy * len(batch_x))\n",
    "    return loss, total_accuracy / num_examples"
   ]
  },
  {
   "cell_type": "markdown",
   "metadata": {},
   "source": [
    "#### Model Trainning"
   ]
  },
  {
   "cell_type": "code",
   "execution_count": null,
   "metadata": {
    "scrolled": false
   },
   "outputs": [],
   "source": [
    "with tf.Session() as sess:\n",
    "    sess.run(tf.global_variables_initializer())\n",
    "    num_examples = len(X_train)\n",
    "    \n",
    "    print(\"Training...\")\n",
    "    print()\n",
    "    for i in range(EPOCHS):\n",
    "        X_train, y_train = shuffle(X_train, y_train)\n",
    "        for offset in range(0, num_examples, BATCH_SIZE):\n",
    "            end = offset + BATCH_SIZE\n",
    "            batch_x, batch_y = X_train[offset:end], y_train[offset:end]\n",
    "            sess.run(training_operation, feed_dict={x: batch_x, y: batch_y})\n",
    "        \n",
    "        X_valid, y_valid = shuffle(X_valid, y_valid)\n",
    "        loss, validation_accuracy = evaluate(X_valid, y_valid)\n",
    "        print(\"EPOCH {} ...\".format(i+1))\n",
    "        print(\"Validation Accuracy = {:.3f}\".format(validation_accuracy))\n",
    "        print(\"Loss = {:.3f}\".format(loss))\n",
    "        print()\n",
    "        \n",
    "    #saver.save(sess, './lenet')\n",
    "    print(\"Model saved\")"
   ]
  },
  {
   "cell_type": "markdown",
   "metadata": {},
   "source": [
    "---\n",
    "\n",
    "## Step 3: Test a Model on New Images\n",
    "\n",
    "To give yourself more insight into how your model is working, download at least five pictures of German traffic signs from the web and use your model to predict the traffic sign type.\n",
    "\n",
    "You may find `signnames.csv` useful as it contains mappings from the class id (integer) to the actual sign name."
   ]
  },
  {
   "cell_type": "markdown",
   "metadata": {},
   "source": [
    "### Load and Output the Images"
   ]
  },
  {
   "cell_type": "code",
   "execution_count": null,
   "metadata": {
    "collapsed": true
   },
   "outputs": [],
   "source": [
    "### Load the images and plot them here.\n",
    "### Feel free to use as many code cells as needed."
   ]
  },
  {
   "cell_type": "markdown",
   "metadata": {},
   "source": [
    "### Predict the Sign Type for Each Image"
   ]
  },
  {
   "cell_type": "code",
   "execution_count": null,
   "metadata": {
    "collapsed": true
   },
   "outputs": [],
   "source": [
    "### Run the predictions here and use the model to output the prediction for each image.\n",
    "### Make sure to pre-process the images with the same pre-processing pipeline used earlier.\n",
    "### Feel free to use as many code cells as needed."
   ]
  },
  {
   "cell_type": "markdown",
   "metadata": {},
   "source": [
    "### Analyze Performance"
   ]
  },
  {
   "cell_type": "code",
   "execution_count": null,
   "metadata": {
    "collapsed": true
   },
   "outputs": [],
   "source": [
    "### Calculate the accuracy for these 5 new images. \n",
    "### For example, if the model predicted 1 out of 5 signs correctly, it's 20% accurate on these new images."
   ]
  },
  {
   "cell_type": "markdown",
   "metadata": {},
   "source": [
    "### Output Top 5 Softmax Probabilities For Each Image Found on the Web"
   ]
  },
  {
   "cell_type": "markdown",
   "metadata": {},
   "source": [
    "For each of the new images, print out the model's softmax probabilities to show the **certainty** of the model's predictions (limit the output to the top 5 probabilities for each image). [`tf.nn.top_k`](https://www.tensorflow.org/versions/r0.12/api_docs/python/nn.html#top_k) could prove helpful here. \n",
    "\n",
    "The example below demonstrates how tf.nn.top_k can be used to find the top k predictions for each image.\n",
    "\n",
    "`tf.nn.top_k` will return the values and indices (class ids) of the top k predictions. So if k=3, for each sign, it'll return the 3 largest probabilities (out of a possible 43) and the correspoding class ids.\n",
    "\n",
    "Take this numpy array as an example. The values in the array represent predictions. The array contains softmax probabilities for five candidate images with six possible classes. `tk.nn.top_k` is used to choose the three classes with the highest probability:\n",
    "\n",
    "```\n",
    "# (5, 6) array\n",
    "a = np.array([[ 0.24879643,  0.07032244,  0.12641572,  0.34763842,  0.07893497,\n",
    "         0.12789202],\n",
    "       [ 0.28086119,  0.27569815,  0.08594638,  0.0178669 ,  0.18063401,\n",
    "         0.15899337],\n",
    "       [ 0.26076848,  0.23664738,  0.08020603,  0.07001922,  0.1134371 ,\n",
    "         0.23892179],\n",
    "       [ 0.11943333,  0.29198961,  0.02605103,  0.26234032,  0.1351348 ,\n",
    "         0.16505091],\n",
    "       [ 0.09561176,  0.34396535,  0.0643941 ,  0.16240774,  0.24206137,\n",
    "         0.09155967]])\n",
    "```\n",
    "\n",
    "Running it through `sess.run(tf.nn.top_k(tf.constant(a), k=3))` produces:\n",
    "\n",
    "```\n",
    "TopKV2(values=array([[ 0.34763842,  0.24879643,  0.12789202],\n",
    "       [ 0.28086119,  0.27569815,  0.18063401],\n",
    "       [ 0.26076848,  0.23892179,  0.23664738],\n",
    "       [ 0.29198961,  0.26234032,  0.16505091],\n",
    "       [ 0.34396535,  0.24206137,  0.16240774]]), indices=array([[3, 0, 5],\n",
    "       [0, 1, 4],\n",
    "       [0, 5, 1],\n",
    "       [1, 3, 5],\n",
    "       [1, 4, 3]], dtype=int32))\n",
    "```\n",
    "\n",
    "Looking just at the first row we get `[ 0.34763842,  0.24879643,  0.12789202]`, you can confirm these are the 3 largest probabilities in `a`. You'll also notice `[3, 0, 5]` are the corresponding indices."
   ]
  },
  {
   "cell_type": "code",
   "execution_count": null,
   "metadata": {
    "collapsed": true
   },
   "outputs": [],
   "source": [
    "### Print out the top five softmax probabilities for the predictions on the German traffic sign images found on the web. \n",
    "### Feel free to use as many code cells as needed."
   ]
  },
  {
   "cell_type": "markdown",
   "metadata": {},
   "source": [
    "### Project Writeup\n",
    "\n",
    "Once you have completed the code implementation, document your results in a project writeup using this [template](https://github.com/udacity/CarND-Traffic-Sign-Classifier-Project/blob/master/writeup_template.md) as a guide. The writeup can be in a markdown or pdf file. "
   ]
  },
  {
   "cell_type": "markdown",
   "metadata": {},
   "source": [
    "> **Note**: Once you have completed all of the code implementations and successfully answered each question above, you may finalize your work by exporting the iPython Notebook as an HTML document. You can do this by using the menu above and navigating to  \\n\",\n",
    "    \"**File -> Download as -> HTML (.html)**. Include the finished document along with this notebook as your submission."
   ]
  },
  {
   "cell_type": "markdown",
   "metadata": {},
   "source": [
    "---\n",
    "\n",
    "## Step 4 (Optional): Visualize the Neural Network's State with Test Images\n",
    "\n",
    " This Section is not required to complete but acts as an additional excersise for understaning the output of a neural network's weights. While neural networks can be a great learning device they are often referred to as a black box. We can understand what the weights of a neural network look like better by plotting their feature maps. After successfully training your neural network you can see what it's feature maps look like by plotting the output of the network's weight layers in response to a test stimuli image. From these plotted feature maps, it's possible to see what characteristics of an image the network finds interesting. For a sign, maybe the inner network feature maps react with high activation to the sign's boundary outline or to the contrast in the sign's painted symbol.\n",
    "\n",
    " Provided for you below is the function code that allows you to get the visualization output of any tensorflow weight layer you want. The inputs to the function should be a stimuli image, one used during training or a new one you provided, and then the tensorflow variable name that represents the layer's state during the training process, for instance if you wanted to see what the [LeNet lab's](https://classroom.udacity.com/nanodegrees/nd013/parts/fbf77062-5703-404e-b60c-95b78b2f3f9e/modules/6df7ae49-c61c-4bb2-a23e-6527e69209ec/lessons/601ae704-1035-4287-8b11-e2c2716217ad/concepts/d4aca031-508f-4e0b-b493-e7b706120f81) feature maps looked like for it's second convolutional layer you could enter conv2 as the tf_activation variable.\n",
    "\n",
    "For an example of what feature map outputs look like, check out NVIDIA's results in their paper [End-to-End Deep Learning for Self-Driving Cars](https://devblogs.nvidia.com/parallelforall/deep-learning-self-driving-cars/) in the section Visualization of internal CNN State. NVIDIA was able to show that their network's inner weights had high activations to road boundary lines by comparing feature maps from an image with a clear path to one without. Try experimenting with a similar test to show that your trained network's weights are looking for interesting features, whether it's looking at differences in feature maps from images with or without a sign, or even what feature maps look like in a trained network vs a completely untrained one on the same sign image.\n",
    "\n",
    "<figure>\n",
    " <img src=\"visualize_cnn.png\" width=\"380\" alt=\"Combined Image\" />\n",
    " <figcaption>\n",
    " <p></p> \n",
    " <p style=\"text-align: center;\"> Your output should look something like this (above)</p> \n",
    " </figcaption>\n",
    "</figure>\n",
    " <p></p> \n"
   ]
  },
  {
   "cell_type": "code",
   "execution_count": null,
   "metadata": {
    "collapsed": true
   },
   "outputs": [],
   "source": [
    "### Visualize your network's feature maps here.\n",
    "### Feel free to use as many code cells as needed.\n",
    "\n",
    "# image_input: the test image being fed into the network to produce the feature maps\n",
    "# tf_activation: should be a tf variable name used during your training procedure that represents the calculated state of a specific weight layer\n",
    "# activation_min/max: can be used to view the activation contrast in more detail, by default matplot sets min and max to the actual min and max values of the output\n",
    "# plt_num: used to plot out multiple different weight feature map sets on the same block, just extend the plt number for each new feature map entry\n",
    "\n",
    "def outputFeatureMap(image_input, tf_activation, activation_min=-1, activation_max=-1 ,plt_num=1):\n",
    "    # Here make sure to preprocess your image_input in a way your network expects\n",
    "    # with size, normalization, ect if needed\n",
    "    # image_input =\n",
    "    # Note: x should be the same name as your network's tensorflow data placeholder variable\n",
    "    # If you get an error tf_activation is not defined it may be having trouble accessing the variable from inside a function\n",
    "    activation = tf_activation.eval(session=sess,feed_dict={x : image_input})\n",
    "    featuremaps = activation.shape[3]\n",
    "    plt.figure(plt_num, figsize=(15,15))\n",
    "    for featuremap in range(featuremaps):\n",
    "        plt.subplot(6,8, featuremap+1) # sets the number of feature maps to show on each row and column\n",
    "        plt.title('FeatureMap ' + str(featuremap)) # displays the feature map number\n",
    "        if activation_min != -1 & activation_max != -1:\n",
    "            plt.imshow(activation[0,:,:, featuremap], interpolation=\"nearest\", vmin =activation_min, vmax=activation_max, cmap=\"gray\")\n",
    "        elif activation_max != -1:\n",
    "            plt.imshow(activation[0,:,:, featuremap], interpolation=\"nearest\", vmax=activation_max, cmap=\"gray\")\n",
    "        elif activation_min !=-1:\n",
    "            plt.imshow(activation[0,:,:, featuremap], interpolation=\"nearest\", vmin=activation_min, cmap=\"gray\")\n",
    "        else:\n",
    "            plt.imshow(activation[0,:,:, featuremap], interpolation=\"nearest\", cmap=\"gray\")"
   ]
  }
 ],
 "metadata": {
  "anaconda-cloud": {},
  "kernelspec": {
   "display_name": "Python 3",
   "language": "python",
   "name": "python3"
  },
  "language_info": {
   "codemirror_mode": {
    "name": "ipython",
    "version": 3
   },
   "file_extension": ".py",
   "mimetype": "text/x-python",
   "name": "python",
   "nbconvert_exporter": "python",
   "pygments_lexer": "ipython3",
   "version": "3.5.2"
  },
  "widgets": {
   "state": {
    "0132131af7684b309480bfa5bfc0ee56": {
     "views": []
    },
    "01422feae1ff41b4abdd177a329c737b": {
     "views": []
    },
    "0144af307c7e438f9b2100ccfc1af773": {
     "views": [
      {
       "cell_index": 10
      }
     ]
    },
    "028413dc87bf44f1a989d43eb910e2b0": {
     "views": []
    },
    "038842958dab4501bbc37aa02123a571": {
     "views": []
    },
    "03fc3e90fcd04485ac6b750e93ae573c": {
     "views": []
    },
    "04fc1b4ab4444fdfa5246cd20946ac07": {
     "views": []
    },
    "05a8f9d23b2647028aab70c52994ba9b": {
     "views": []
    },
    "064f84244718424ca40ff53ba1c5e9b9": {
     "views": [
      {
       "cell_index": 10
      }
     ]
    },
    "0727cc88e57e42bdb3e97be806b794a3": {
     "views": []
    },
    "07e6b9813e9843069cfc69bb8c7bfe3e": {
     "views": []
    },
    "082204fad46a4c68a4267d4ab0fce869": {
     "views": []
    },
    "09403103fbe1488d8121e2c63f327126": {
     "views": []
    },
    "0a47c5255c5a472f89758cb78acbbf41": {
     "views": []
    },
    "0ab5f3ea9d3346a9acf6501142e3f67c": {
     "views": []
    },
    "0bae3190c977498d9736ac44cd5ceed0": {
     "views": []
    },
    "0bc788d1937b487da778bd75b68e298b": {
     "views": []
    },
    "0bcb7adb3c4c4a8a8798e1d6e2047dd4": {
     "views": []
    },
    "0c75f599d8d4410eb8afc965e291298d": {
     "views": []
    },
    "0dc2053425014fb78ab088d0dcad3dbb": {
     "views": []
    },
    "0ddb1e89c31744f4a4515ffce53bb62f": {
     "views": []
    },
    "0ec1b659c5534026a9dfbc561712b48a": {
     "views": []
    },
    "0eecfca07fc54cb9996523877e80a895": {
     "views": []
    },
    "0ff3dae5813e4837ae1cdd1903a003ce": {
     "views": []
    },
    "103a1685c42c4fe4847b0e7e11ca8da8": {
     "views": []
    },
    "109852bfc89b490fb588afe89037730f": {
     "views": []
    },
    "10ad47faac5c4e949fed94a13fb477c1": {
     "views": []
    },
    "10bc26b8a52347eca1fa8e51ab9bec15": {
     "views": []
    },
    "10df462c493a4fe3bb3b6501899e03b8": {
     "views": []
    },
    "12fe392b30304c59afbb8a592ea63d75": {
     "views": []
    },
    "137c4ada4cf5482ba31d9762da18881a": {
     "views": []
    },
    "1479d468ce27474ebd957ad0c6890359": {
     "views": []
    },
    "149ebe0218f642c883777cf34490e518": {
     "views": []
    },
    "160b2fcbd9244391a704d6554d96ba05": {
     "views": []
    },
    "166f626d5db54b90ab606d199d98b88e": {
     "views": []
    },
    "16bd4b804cbd4d778cc7acc4e5f335bb": {
     "views": []
    },
    "17219b3711b1441784273f7c6e2549a3": {
     "views": []
    },
    "1742ec18565842b88617bd7f31a5267f": {
     "views": []
    },
    "17b5a0ed9a1f4fbda01277a61ef3a7ef": {
     "views": []
    },
    "19129fe434ed459aa36aee9f0b28ee35": {
     "views": []
    },
    "197952cdc28d4e228e9364e9dc0278e6": {
     "views": []
    },
    "19ac05793f6d4fabb48baa21297c1707": {
     "views": []
    },
    "1aba2af92224407d89160178ab9de3c2": {
     "views": []
    },
    "1afd1d3e425244528567ec8ca0fc7aaa": {
     "views": []
    },
    "1b67a9cb16384c5eba9dcbc415608b90": {
     "views": [
      {
       "cell_index": 10
      }
     ]
    },
    "1b859cbb49f94b12b0d93703d1bec4bb": {
     "views": []
    },
    "1c7c8f7859c24b6fa2f9481ea9852fcd": {
     "views": []
    },
    "1cfe381d3d7e4a6495709956e7e1a87f": {
     "views": []
    },
    "1d6752c543d640b8baec40cc5d99abc7": {
     "views": [
      {
       "cell_index": 10
      }
     ]
    },
    "1db0097361414bb8be742d8f3612f6aa": {
     "views": []
    },
    "1e0443521f454c65b914accee592813f": {
     "views": []
    },
    "1e196b9aa6814c01926de7c366c3d76e": {
     "views": []
    },
    "1f443889afd44f4d8bcb3cbcc9d7af05": {
     "views": []
    },
    "1f9751dadf7b4119a7545aa9bad7ae1e": {
     "views": []
    },
    "1f9acf555b614678a43b5913c852e8d0": {
     "views": [
      {
       "cell_index": 10
      }
     ]
    },
    "200fa37d6c02457088bb1f066f63003d": {
     "views": []
    },
    "20ade6a011114ab08a91f53ef9ef9637": {
     "views": []
    },
    "2229b18bd859430092b9ba70d3814844": {
     "views": []
    },
    "22c653f1957d420898628b1258758feb": {
     "views": [
      {
       "cell_index": 10
      }
     ]
    },
    "23b8e3f453454fbf9f50deacfe9410f1": {
     "views": []
    },
    "23e48fecab2642f8b0bfe666fcf42f5f": {
     "views": [
      {
       "cell_index": 10
      }
     ]
    },
    "25566409acb44031acd813e86c6d5ecb": {
     "views": [
      {
       "cell_index": 10
      }
     ]
    },
    "25c1ef28017543198bd302ee52535642": {
     "views": []
    },
    "26016831854140e9b34c949ac8c2d7bc": {
     "views": []
    },
    "26c098f915654ac3bcd85d3643a463bd": {
     "views": []
    },
    "26f50a63aaf6411db1774a2196567290": {
     "views": [
      {
       "cell_index": 10
      }
     ]
    },
    "28c0322182ec416d9d7f7348bf28c69f": {
     "views": []
    },
    "2951a4b09a15425d911434c20ff73205": {
     "views": []
    },
    "296ec188f287476dbfd2cd5393aae16e": {
     "views": []
    },
    "29ab3f3e452e4332a8356fc4d44391ff": {
     "views": []
    },
    "2a4df896f15944a1ad12e89013774e7c": {
     "views": []
    },
    "2beb8be335f344ba9c40d9363b85c061": {
     "views": []
    },
    "2c443389300a4bf1b0df0703144d6002": {
     "views": []
    },
    "2c77da0119e94e38a5113ec23b07cf5a": {
     "views": []
    },
    "2d0a61ce57e7455f86224eb354a6d3cb": {
     "views": []
    },
    "2d0badbb091246978a855e39b20d8938": {
     "views": []
    },
    "2d7882a7e55742e9b634989ca57f55ba": {
     "views": []
    },
    "2dde94bdf361480682ab64ee0c58bc46": {
     "views": []
    },
    "2e21b633b1904ab4b7c90c822b8554ac": {
     "views": []
    },
    "2ef63651c7b94562a5fcec9aa0ac81ac": {
     "views": []
    },
    "2efda216d61746ce8e259dbab654729c": {
     "views": []
    },
    "2f1b21e2b81d4e2f96f400d875d13737": {
     "views": []
    },
    "2f6693e76722439dab13b07ff14ab251": {
     "views": []
    },
    "2f959ff7ff9c400cbf7e6a4c9fc83273": {
     "views": [
      {
       "cell_index": 10
      }
     ]
    },
    "2f9836c43c6e471ea3f459068c1a186e": {
     "views": []
    },
    "3032c810540b48149d5176a68218e251": {
     "views": []
    },
    "3081dbe2925a4e198f96aac86158f752": {
     "views": []
    },
    "30db1583917145a4bdef2c02fb606942": {
     "views": []
    },
    "3104282030cc4bcb8616fd56a1a26941": {
     "views": []
    },
    "3170b604752a4b08badb1e83de741747": {
     "views": [
      {
       "cell_index": 10
      }
     ]
    },
    "31a2e3b6433b4526bd53cccdc6d4f311": {
     "views": []
    },
    "31a786dae0404fbc8b8602d2eb16fa85": {
     "views": [
      {
       "cell_index": 10
      }
     ]
    },
    "31c6e4a7b61a4432af90bf309d1fa7e8": {
     "views": []
    },
    "323d0cee205e4a0fb45143de6403ee04": {
     "views": []
    },
    "33a4309768894be88b1ee90d137fb74a": {
     "views": []
    },
    "33f0a6e599c345a4ae6e92fe83680c37": {
     "views": []
    },
    "3425bdcf15d44de285ee96bc5bd50355": {
     "views": []
    },
    "34454823d1c24d3785f9587e0f8f7617": {
     "views": []
    },
    "34850f03957c427caef8a3e4bfef472a": {
     "views": []
    },
    "350d380842024150a54abfaa55eba4e3": {
     "views": []
    },
    "356347fe5f44461cb7a7187ab6ce40d1": {
     "views": []
    },
    "3674d23e0d12448fb484c89ba9c2ead0": {
     "views": []
    },
    "378476d3d01f4b9296c8d8e2b207bfe8": {
     "views": []
    },
    "396ac6c336c14273a8c9d81876ba66c4": {
     "views": []
    },
    "3aa753ccd044495d88194b1ecd4fd7e8": {
     "views": []
    },
    "3acac4aef68c4f918a1c9f8d6e973a80": {
     "views": []
    },
    "3b25d6b648f74f44848037af90369cee": {
     "views": []
    },
    "3b9ef47cd9c040c090c4cee873e03f9d": {
     "views": []
    },
    "3be36f426b2d461f8b04a0f76c53ac3f": {
     "views": []
    },
    "3caa5fe689684297a49907028d3beec0": {
     "views": []
    },
    "3d643ee544624318b2fa8960a76e014b": {
     "views": []
    },
    "3d7733a74d3e4e1395f06598dde0a99b": {
     "views": []
    },
    "3d890913a2f94ac0887633ef587ef525": {
     "views": []
    },
    "3def7da72f9f448c8dc8eb117f8898f1": {
     "views": []
    },
    "3eaac2df25754437903e7f10166cc9e4": {
     "views": []
    },
    "3f387a0a70504029978d64fab16fa421": {
     "views": []
    },
    "3f41570ab0b642f3a27a85b3adaa1aac": {
     "views": []
    },
    "3f8cceabb00b41daa8240b17332a7e07": {
     "views": [
      {
       "cell_index": 10
      }
     ]
    },
    "3fbe1959c53f47f5bac87bd48fac76d8": {
     "views": []
    },
    "3ffd16ccc7d94756bdf5a78772eb9955": {
     "views": []
    },
    "40bc157784ee4afda6d9789d4b297820": {
     "views": []
    },
    "40ebc4bef9f4454a9d9dae822ffc3a73": {
     "views": []
    },
    "430bf9f1b611462ca470ab27dcea94bb": {
     "views": []
    },
    "437a0dd7917a4fd28dd651a1a99bf235": {
     "views": []
    },
    "4384434d10e741a69a781521cccaf773": {
     "views": []
    },
    "4386c27dc35747c2baf14bcc87e39dad": {
     "views": []
    },
    "44b7f3a9868c42c1aeb75ac22ce7cab5": {
     "views": []
    },
    "44bf08d3367344e2afe56a2bcc26386d": {
     "views": []
    },
    "450f831360114db1ac0c47250fec5954": {
     "views": []
    },
    "45b4521af24b47f79e724f666370e704": {
     "views": []
    },
    "464d97fd9af744dea9b52279cb465a3f": {
     "views": []
    },
    "46a85887954e4a458d36fba66834e566": {
     "views": []
    },
    "472851cf842e463d9024e4ef3dd50fb9": {
     "views": []
    },
    "4732ca4ddaf546419151ccf56068496f": {
     "views": []
    },
    "48ef7db2b64441e8b85f19e04bde412c": {
     "views": []
    },
    "48f139f8d55646b4a6a5023baee3f296": {
     "views": []
    },
    "49849f16f30b46bf85e08804a13ea50b": {
     "views": []
    },
    "4a2772c960ca49d6b854c1740eee3d37": {
     "views": []
    },
    "4b443fd6930c4bcda711ea94f665c772": {
     "views": []
    },
    "4c3948772f4042f89599c332b4adc2f0": {
     "views": []
    },
    "4c623b6ed7a54a33ad1d2bf159a15f83": {
     "views": []
    },
    "4daef52ef88b43a5817e9b3ef96aa325": {
     "views": [
      {
       "cell_index": 10
      }
     ]
    },
    "4e1b41d358c24c2484d456f1120575d6": {
     "views": [
      {
       "cell_index": 10
      }
     ]
    },
    "4e4f3761b06f4a7b997b7f71d8da66f6": {
     "views": []
    },
    "4ee8561ffcd148c5a5caa1c88470052f": {
     "views": [
      {
       "cell_index": 10
      }
     ]
    },
    "4f9080a6430243bd94142d10717861b2": {
     "views": []
    },
    "504346b6b84749f48d9e05f51e776cb9": {
     "views": []
    },
    "50c211b6510442109e2ae99c0b617fa9": {
     "views": [
      {
       "cell_index": 10
      }
     ]
    },
    "50e732da905e48b2a06a8d09051e408e": {
     "views": []
    },
    "517d6a711e2b4d53b0dcf2780663e8b5": {
     "views": []
    },
    "52c6a82769c64bf18bd77839bebc0d30": {
     "views": []
    },
    "533cbbe869564453bc123e584ea5a031": {
     "views": []
    },
    "5395ac95acb64c79a9f3384db722cb28": {
     "views": []
    },
    "53afd78f27444a9c8ce5d0db87f325ae": {
     "views": []
    },
    "5412d6d7aab94a03bb3c6e6e91c8951d": {
     "views": []
    },
    "555a342925a643f0be15eba66dd96b72": {
     "views": []
    },
    "55703412699f4e4d97a64b53863ab51a": {
     "views": []
    },
    "5646d1a888f14cffb6b1038d601034c1": {
     "views": []
    },
    "57b3312dbb6d42db913cda1670f64157": {
     "views": []
    },
    "58907e7308394e12849e48dd6bb696d2": {
     "views": []
    },
    "58b18689062a4260b55c173d278f5126": {
     "views": []
    },
    "5af4b0862d5040b8a1f4df8ee904d1e2": {
     "views": []
    },
    "5b3eea4c4c5f4a2b8bfbdf5e97924976": {
     "views": []
    },
    "5b8884d036564e56b259404f59aab982": {
     "views": []
    },
    "5ca5ebef93204a24bcba4853656d7a9f": {
     "views": []
    },
    "5d03c92fa3bc4d3d8a139c80087f5547": {
     "views": []
    },
    "5e60bf66d775404cb5b377a373b29a64": {
     "views": []
    },
    "604c4c0e17fe424a92123ecfd7ac78e0": {
     "views": []
    },
    "60ef0a363f7e460da799b83c7068a770": {
     "views": [
      {
       "cell_index": 10
      }
     ]
    },
    "60f09e41b684488293febcd9ebfe6563": {
     "views": []
    },
    "6268b54915d24f80baf3cd099ba0dc13": {
     "views": []
    },
    "62cbab1e16c64605903dbed2269e76dd": {
     "views": []
    },
    "639489bea03f42348558f94122325ffe": {
     "views": []
    },
    "63ca3e0b9d274ecb84adb08935e56b07": {
     "views": []
    },
    "64c85c3bc7f2461dacdf75a71118af5b": {
     "views": []
    },
    "6561f89722184058afff721e56feb09a": {
     "views": []
    },
    "658ace042b92408fbe864e007a7cf5c3": {
     "views": []
    },
    "65f9c6591391487dae1bf85b27ce93a5": {
     "views": []
    },
    "66b23ec03fb94581b3e0051c3dd261c1": {
     "views": []
    },
    "67149f191d84432ca9a87c1fe71885d1": {
     "views": []
    },
    "688d0f9b47d14c1997c60cb21cb89cfa": {
     "views": []
    },
    "68e4b0bba2844ff3aeec74386d58b917": {
     "views": []
    },
    "69befb6dabd64a0ea17cc6cac4d1e2e8": {
     "views": []
    },
    "6b386d9c71f240b4bd937e5b5fc699b9": {
     "views": []
    },
    "6b7a8d5acff14be6ab89be06b6472908": {
     "views": []
    },
    "6bcf577f76b542ac8a714bef087f2a87": {
     "views": []
    },
    "6c2b5275b3464ae5b2be1139b3262f2f": {
     "views": []
    },
    "6c6b3f967c6b454ba9a493cd0672c39e": {
     "views": []
    },
    "6e9b8aff122e4f4489b770715b98d2cb": {
     "views": []
    },
    "705968dec0c44a8e832526d8379142fd": {
     "views": [
      {
       "cell_index": 10
      }
     ]
    },
    "70e23f2bf8ca4a2982ad1fd285b83f58": {
     "views": []
    },
    "714b2bf08c9c40ed9fa5e09be65ce98f": {
     "views": []
    },
    "71980be408ce480fb657772b7b542743": {
     "views": []
    },
    "71e205a3d37d487fb67a4565763d95ae": {
     "views": [
      {
       "cell_index": 10
      }
     ]
    },
    "73174b3adf4b42b79f6ce31778e71c19": {
     "views": []
    },
    "73d07b144b3943d9986bc7e071c26c86": {
     "views": []
    },
    "73f7cdd9a4544223afbd0692e4fd0d9b": {
     "views": []
    },
    "74c142d57037484c90ae5fa6d33ee619": {
     "views": []
    },
    "75aa0c296ad145379aede617b9b6beee": {
     "views": []
    },
    "76ca151fc342486e8e701aefbd4ea33e": {
     "views": [
      {
       "cell_index": 10
      }
     ]
    },
    "76ef3f7cc76c4e0581e24c6c83650a63": {
     "views": []
    },
    "771e33e8975f4641b589a981a96338e8": {
     "views": []
    },
    "7786d799d2a542faa85fad262d513c8b": {
     "views": []
    },
    "77a92ca9767b4b638e025bc69d7a01ec": {
     "views": []
    },
    "787a376191974c38aa317de3e8ad818b": {
     "views": []
    },
    "7916546cb25d4f949660fe827eb95b22": {
     "views": []
    },
    "7979775630d04671bd1a0448b36aa65e": {
     "views": []
    },
    "7a309fbf74b040b68e09394df602a84e": {
     "views": []
    },
    "7acae66e015843e5841f861fdcf050fc": {
     "views": []
    },
    "7b373e06cded4457af592c0587084106": {
     "views": []
    },
    "7b7f078e2e3b40858b6c121997012726": {
     "views": []
    },
    "7ba20c92fb644af7b8d8ac9eb138a00b": {
     "views": []
    },
    "7d2628d8cf004f18a2e86e00a4f89e38": {
     "views": []
    },
    "7db5819f184345fc8dbdcf130f3d4fe3": {
     "views": []
    },
    "7df31d176361470eb035b079be934e05": {
     "views": []
    },
    "7f6fc88c6b394077af0e3ee40c0f6634": {
     "views": []
    },
    "7fd71f9bcb0c4fde8fb0aa99f50d6062": {
     "views": []
    },
    "800eb95140044cb695bf3cb3b55450ea": {
     "views": []
    },
    "8030f106bf0d428ca25b222ef5c69746": {
     "views": [
      {
       "cell_index": 10
      }
     ]
    },
    "81dbfaea2bc142b18a4e0ab409ece806": {
     "views": []
    },
    "825d917fbb4d4463be77f67dc3739f55": {
     "views": []
    },
    "82d56f74efad4919b0022955c2def3b4": {
     "views": []
    },
    "8351c0af5f894a25863cfb7edc3cf835": {
     "views": []
    },
    "8472366cf1c248b299acf6ff966639fa": {
     "views": []
    },
    "84cb44610bcb4475b0a98c82ad679616": {
     "views": []
    },
    "84ef655065344ef2b08ca68d011b810d": {
     "views": []
    },
    "85467a7a37b3434a8a311af7471d13c1": {
     "views": []
    },
    "85db82be78284ba0917722d67dc805ad": {
     "views": []
    },
    "85fad62668544c45aec0fab7a102eb60": {
     "views": []
    },
    "8735d015f3894252b95b379eb50b3fad": {
     "views": []
    },
    "873f210b61a8419ab76576cfa0609dec": {
     "views": []
    },
    "87713e2403d344dfb635b41ecae505a2": {
     "views": []
    },
    "87741bd9cc654cb990cd6ae8995108aa": {
     "views": []
    },
    "87f874949588419f8c2049c7c9630b98": {
     "views": []
    },
    "87fb3d41a72244938f81c8b784765a03": {
     "views": []
    },
    "8852efca56a5425981c1dc0936f31429": {
     "views": [
      {
       "cell_index": 10
      }
     ]
    },
    "88b168d586544ee4935c643788c93720": {
     "views": []
    },
    "890a3c6a269c48f5aef876b8d64b224f": {
     "views": []
    },
    "8992f91dd5dc4717941d598594bb3a97": {
     "views": []
    },
    "89d7969262e44cd786a0ea406ef62527": {
     "views": []
    },
    "8a5ded1cc2fc42c5a3bff3fc4eaec681": {
     "views": []
    },
    "8b06bd952b9448dfb85708cfa77eece3": {
     "views": []
    },
    "8b11d32a3faa402eb69d9965fcf2d1f4": {
     "views": []
    },
    "8b1b46945a6d4cdda72fd31e152bbaac": {
     "views": []
    },
    "8b8ca14ac54f41db9e055c8b3cfd1ff5": {
     "views": []
    },
    "8c3c796d896945f381e8cd82d2836dff": {
     "views": [
      {
       "cell_index": 10
      }
     ]
    },
    "8c558e996e444026b58301f9a791f8b4": {
     "views": []
    },
    "8cd9f4af9f3c4885bc613e81c6ed8c39": {
     "views": []
    },
    "8e0a0277c2ea4c188280d1852e575b88": {
     "views": []
    },
    "8e394cce328448b3b7dbf10750f72a4a": {
     "views": []
    },
    "8e87d2c4d8b04920ac24938dfe242126": {
     "views": []
    },
    "8f2cd2b1b700483ba23aebb8dc04edfa": {
     "views": [
      {
       "cell_index": 10
      }
     ]
    },
    "907a0d53756f4d3fa565ebc723a2130f": {
     "views": []
    },
    "90af19756dd0439aaf92e035812818bf": {
     "views": [
      {
       "cell_index": 10
      }
     ]
    },
    "91244cd7503c48f6b96fe50933a4ca5b": {
     "views": []
    },
    "9141256be70a488c86fd3e2bbc199b47": {
     "views": []
    },
    "9162895aff7d49a9b47c9fa3a3a8a2f0": {
     "views": []
    },
    "929480b319a14c3dac5e310f3e4b35e0": {
     "views": [
      {
       "cell_index": 10
      }
     ]
    },
    "92c9ea263fa54b2a926b6699655e062e": {
     "views": []
    },
    "931624250401488a9c0f7bcf973213ea": {
     "views": []
    },
    "935b52e0d0a041fcafd0b4af77d1776b": {
     "views": []
    },
    "93e34468c799450ebd4a4b778402c1ea": {
     "views": []
    },
    "94b286a7975e483eafac8d23e35c5e2c": {
     "views": []
    },
    "95402d1e278b477ab819f5b277c70fa3": {
     "views": []
    },
    "9637b3733bfc4924b67e800b9c69adef": {
     "views": []
    },
    "9725f1b815d04ba6a9afb03d3169fef3": {
     "views": []
    },
    "97337de96dcc48099f92e07d5917da20": {
     "views": []
    },
    "97a4403bfea74a4b9d7181d193b7a9d9": {
     "views": []
    },
    "97c4db49a05b4c588c675cba1f37116e": {
     "views": []
    },
    "9a4807b20b0a455da1ea7f8b8d0cbc77": {
     "views": []
    },
    "9a627342c5504905acdbc84443e3f778": {
     "views": []
    },
    "9b6a31093be94df4945c6446056718bc": {
     "views": []
    },
    "9bc4df54bf6f4bbba8ffb9c36311764b": {
     "views": []
    },
    "9c0790fa75cd4eb49af370332aa74c88": {
     "views": []
    },
    "9c56c316914847eba1b07c7825fbdb63": {
     "views": []
    },
    "9d5f39d6a2424f7ca6f94f4735f44391": {
     "views": []
    },
    "9f73c9625194486b851eec22bee5cbb1": {
     "views": []
    },
    "a000871e795941648a38072280c2894e": {
     "views": [
      {
       "cell_index": 10
      }
     ]
    },
    "a0c531cd964a4317b3c488c54f8ea28a": {
     "views": [
      {
       "cell_index": 10
      }
     ]
    },
    "a1667756efa44796be34ebe44ab105ca": {
     "views": []
    },
    "a31198ad97cf4f9a81547aadbd300ea1": {
     "views": []
    },
    "a339d197b86a430e8713fc74196e2b0b": {
     "views": []
    },
    "a3e945e2bfb041e7b36a8de06a0627ec": {
     "views": []
    },
    "a45e91a30ab340279351dfd4845e067d": {
     "views": [
      {
       "cell_index": 10
      }
     ]
    },
    "a48eea27c6504b2d97577baeab55f78d": {
     "views": []
    },
    "a4a15b5bfe8345d3b4a9004843159f02": {
     "views": []
    },
    "a4f07d9878fd4cb2a91d0e5dd98670f1": {
     "views": []
    },
    "a50e9b3edbc1465bb7e125484defda38": {
     "views": []
    },
    "a53cc872212d43bd8ba98a0336b72484": {
     "views": []
    },
    "a64f5c027dc7469cb41464e49bb4c7fd": {
     "views": []
    },
    "a666546205cf4fc0a174b35d2e1eb5f1": {
     "views": []
    },
    "a708e4f46bcc4f42a20334384db5bebf": {
     "views": []
    },
    "a855ef9b9f1441d2ae4adaa09a8cbf17": {
     "views": []
    },
    "a94974131029450c8b2a0acbbe1f9805": {
     "views": []
    },
    "a9fca3527cc441e3aec63b476c5623ee": {
     "views": []
    },
    "aa6260a9a916438cbaeae918e0bf1b2b": {
     "views": []
    },
    "aaa3657c1cfd42c580d200350c1f7b74": {
     "views": []
    },
    "ab6c56aaa9da41bfa5c0b78108829857": {
     "views": []
    },
    "acae9ed65ed64824b10daf2e177783f9": {
     "views": []
    },
    "ad55cfa49e894290acf28be80f86e070": {
     "views": []
    },
    "ae06d7741ad245e29e444c2323ca405c": {
     "views": []
    },
    "ae3b06e0271944efab2080f5f1d5daf0": {
     "views": [
      {
       "cell_index": 10
      }
     ]
    },
    "ae7221ac71a544609f36dc8593c75d4a": {
     "views": []
    },
    "aed36620465d4f4d8e8c4ad7791a9b7d": {
     "views": []
    },
    "af5f000863fe40feb25be0fe7e8d9de6": {
     "views": []
    },
    "b08b4635e89b43b2a4fde67da0357abc": {
     "views": []
    },
    "b0acf5c07e5b436381d3dbcb7241e5ef": {
     "views": []
    },
    "b185eaeb1cf24556b2450c0d422f4556": {
     "views": []
    },
    "b195b87ce7f647c0ae487f3661821b41": {
     "views": []
    },
    "b197978072444a91bbdc112252308b26": {
     "views": []
    },
    "b1fa17139c5e466fad2a063a461fe00a": {
     "views": []
    },
    "b22706b51c5e458390162c93e28bd84f": {
     "views": []
    },
    "b2a8afbc4eac4ecfaa27b69cba82764d": {
     "views": [
      {
       "cell_index": 10
      }
     ]
    },
    "b46f92db91e9449fbc0f55fdb4682ec3": {
     "views": []
    },
    "b48703285a6f477cab95237131358b6a": {
     "views": []
    },
    "b5e545a18c6f4037be71e30a963b9835": {
     "views": []
    },
    "b62339773585450ebba3641c28617dbb": {
     "views": [
      {
       "cell_index": 10
      }
     ]
    },
    "b6cfe79a1cbc44869c2aa508caacfb57": {
     "views": []
    },
    "b8abf10de4b74575a438ecfe208c37c0": {
     "views": []
    },
    "b8c698bcc7644f6a823588dcc7cfc2e7": {
     "views": []
    },
    "b91f03bbd8ff45ddabf4e587989441c7": {
     "views": []
    },
    "b92926b7dcc742f1a6a153fa8fdca814": {
     "views": []
    },
    "bab3163f2bbe40cab07a7f19889dd161": {
     "views": []
    },
    "bb0ccb67884c4489b10a34c81c7d6e6f": {
     "views": [
      {
       "cell_index": 10
      }
     ]
    },
    "bb455e27aeee482db9595b1b015f3279": {
     "views": []
    },
    "bb5c8df4c3fb402ab9d6a162a9bb5e04": {
     "views": []
    },
    "bd34db8d5db44418be95d588ebb0e1a5": {
     "views": [
      {
       "cell_index": 10
      }
     ]
    },
    "bd7a73051d4a41078b9c57e45aa3d98a": {
     "views": [
      {
       "cell_index": 10
      }
     ]
    },
    "bd8a7aded2a04bc0aa2cd401ddb88eea": {
     "views": []
    },
    "bd9c70e03cfd45f9a9138c84b7914e55": {
     "views": []
    },
    "bdb784920dd440aea30b08774a15464f": {
     "views": []
    },
    "bdfe5f354e2c432e8a92696f138b6f1b": {
     "views": []
    },
    "be2fbd3f06c44262b2fac0dea6fba87b": {
     "views": []
    },
    "bf2f07f50f624ffd960ae5e1fd8a4e4b": {
     "views": []
    },
    "bf4fc8de65234b60ae794c72acce616e": {
     "views": []
    },
    "c11fc0d7fe5745bd991992c042ad33fb": {
     "views": []
    },
    "c169d0733653466bbb3929d656d31a62": {
     "views": []
    },
    "c17364d2587f4fb18f582ee439b071b7": {
     "views": []
    },
    "c1a59232e99148febb01a153565bc738": {
     "views": []
    },
    "c1d52fb1d2b847119078baef1d9455ea": {
     "views": []
    },
    "c26b7fcd54da497b8ef51f9e584d72bd": {
     "views": []
    },
    "c29beaa77fc84ab6b1c7118c56b0bae1": {
     "views": []
    },
    "c2a178b9b8334b65b361c31081fa5c18": {
     "views": []
    },
    "c2b01af46ac7444daf1c99d17f224684": {
     "views": []
    },
    "c2f62419fc544a4ca867566ec0a6e32e": {
     "views": [
      {
       "cell_index": 10
      }
     ]
    },
    "c318d9dfbf1e41ddaafcc6e35e4793bf": {
     "views": []
    },
    "c38443a526ef404eba2b85f29ad76962": {
     "views": []
    },
    "c3ac8e41add749119b45883137a61496": {
     "views": []
    },
    "c40c1c0192f44b5080d4dd63d36283b0": {
     "views": [
      {
       "cell_index": 10
      }
     ]
    },
    "c41f05ae7d554f3e9a5a489d5802bf8c": {
     "views": []
    },
    "c54f37040db7418180d885ede4010e0d": {
     "views": []
    },
    "c63eeaf882244c5e9178e4d286ac2f40": {
     "views": []
    },
    "c7fad48f6ddf46c1acd9ce9c133fd893": {
     "views": []
    },
    "c835b245c4ef4b20ad99678ff6f9db8f": {
     "views": []
    },
    "c8c075d85578494c9d5baf7dbf323cc7": {
     "views": []
    },
    "c8f2e5c4daf5489995b9a64503ba1f3a": {
     "views": []
    },
    "c96fb266e598479699ee5c054c4c10b5": {
     "views": []
    },
    "c98e4d0e0a004810b6d3679254bff383": {
     "views": []
    },
    "caf254ccc4c0428594c3b08f9cc7d465": {
     "views": []
    },
    "cb183039c0e94385aec13ce97ed74c03": {
     "views": []
    },
    "cb20626506fc43d0abd64abb413c8dc3": {
     "views": []
    },
    "cc57b790d0164f72bc60a3f266d49004": {
     "views": [
      {
       "cell_index": 10
      }
     ]
    },
    "cca9d15a3b7445ed928ecfd0b0e9767b": {
     "views": []
    },
    "cd7e0bdd2d25413a9c4645b85082e10e": {
     "views": []
    },
    "ce629d2ecfa440c9a6a455bdf3612ddb": {
     "views": []
    },
    "cefb510674f3441d90dea168f547733f": {
     "views": []
    },
    "cf03c5a2cad849c69987a246bdb68147": {
     "views": []
    },
    "d0a10590512c46e59e1821ade312f84f": {
     "views": []
    },
    "d0aa892e77e04164a4aca62574f289a8": {
     "views": []
    },
    "d0d1ac5470544fea948ff1d251246307": {
     "views": []
    },
    "d1e68780ca6b414295334d1635488de4": {
     "views": []
    },
    "d23b8c3d63a747fbb316117d04853830": {
     "views": []
    },
    "d23c9bd1bba0406a894c0a2815d6b0e4": {
     "views": []
    },
    "d27c01553d104b29a665a9905c31a503": {
     "views": []
    },
    "d2bb474049824189b43432e5083ed190": {
     "views": []
    },
    "d2e08e68de7f449fb1bb4ddda46de9cd": {
     "views": []
    },
    "d3346766897b46bca32c12ea6a44d629": {
     "views": []
    },
    "d34e0df0d8a34f5daf05e1a5a5c3fc3c": {
     "views": []
    },
    "d4286aa8bfc64b2e84d15c845c89afc7": {
     "views": []
    },
    "d46ea218b0bb47aaaf23b7a306fe8fc9": {
     "views": []
    },
    "d4c6182ade1d412a89ab803b09059007": {
     "views": []
    },
    "d51627fb112540d3ba700cefda99a330": {
     "views": []
    },
    "d64c6b3eba494061b2a9121925901eae": {
     "views": []
    },
    "d6abb689768f4d508f0ad20a888cf6fd": {
     "views": []
    },
    "d7af93107aba4b2aae530d093664775f": {
     "views": []
    },
    "d8224af7a37744e99e3d3913fd1e5aa5": {
     "views": []
    },
    "d9d8ff6871ec488a8f44050cb2ef04a5": {
     "views": []
    },
    "d9e48886377d414eaa2ea17a1bfce11b": {
     "views": [
      {
       "cell_index": 10
      }
     ]
    },
    "da22ea88e0e545709a69d0f5d38e6d01": {
     "views": [
      {
       "cell_index": 10
      }
     ]
    },
    "da69205517254bde864896652d192811": {
     "views": []
    },
    "da7b13118658418ca14440d0a84dd8e5": {
     "views": []
    },
    "db8e51d961ad4435bbca28d51c748e25": {
     "views": []
    },
    "dbdf4cbc74194fc5ba1462439a04fc3c": {
     "views": []
    },
    "dbe0b3bda1ed4d249af94e8763587961": {
     "views": []
    },
    "dc317bef025f41cc894ef1554b5276fb": {
     "views": []
    },
    "dc59924a941c45fa9e4ad09e5ee324b0": {
     "views": []
    },
    "ddc993af6c3f47bdbd2fc1b8fab61bfe": {
     "views": []
    },
    "de5c511a97bd44e68ee2fd9deea7b5a5": {
     "views": []
    },
    "df63dba05c6244a89bc8039118080690": {
     "views": []
    },
    "df90cecfdf5346cc9632e23d9e89b5c8": {
     "views": []
    },
    "e0c4d5a5b5e44a9dbd6ffc72b4a6a2a2": {
     "views": []
    },
    "e1e88b8b881e48e182d0ad116408fa5f": {
     "views": []
    },
    "e244ac1281a94e39ad4835fcae0e36d4": {
     "views": []
    },
    "e4661cf9f4924b2b91aa7629844297e0": {
     "views": []
    },
    "e47f8df5a2d749178e4f75615c544516": {
     "views": [
      {
       "cell_index": 10
      }
     ]
    },
    "e61e11bc3c384a4a90d074ba5a3d82e3": {
     "views": []
    },
    "e652e60fe2744f88abd2200e76e584d8": {
     "views": [
      {
       "cell_index": 10
      }
     ]
    },
    "e66074d8bf234b57b9051fdc8ad8a736": {
     "views": []
    },
    "e6e6afe8a3bc46619f9eeda9b03e6fa9": {
     "views": []
    },
    "e7759b62bce54ba78439a24bdbe21b63": {
     "views": []
    },
    "e7942f992be641d8aedcf760396febc0": {
     "views": []
    },
    "e91a68c5535c4fef9b02e0ac647a0e3c": {
     "views": []
    },
    "e9b2030cd4b64c678f96149c4bc7e63d": {
     "views": []
    },
    "e9c2a4e1111d4cca8e59ea35d92d5d2e": {
     "views": []
    },
    "eb26a5e9986144388c50863c6d0039b7": {
     "views": []
    },
    "ec5015b8ae3347c592bdc120cedd0ad7": {
     "views": []
    },
    "ec7ad044668d422391cdc3d94e7f89da": {
     "views": []
    },
    "ecaeffbbeafa4db9b41042819c970233": {
     "views": []
    },
    "ed00e815df6c4114870f9a65de47acd6": {
     "views": []
    },
    "ed2a782eeae0452e930b0ecf931bff4f": {
     "views": []
    },
    "ed857c1423504b36b30bbec41902b186": {
     "views": []
    },
    "ed9ce03bb65b476dbafceacae5c47b88": {
     "views": []
    },
    "ed9db1a8f093486baa5eb463d1bd7d9a": {
     "views": [
      {
       "cell_index": 10
      }
     ]
    },
    "edd2be98aa8a4d3db30d456100459f2e": {
     "views": []
    },
    "ef587221891b49e488846744204a0cf8": {
     "views": []
    },
    "ef7d7d1615f74275b99003c221fac3cc": {
     "views": [
      {
       "cell_index": 10
      }
     ]
    },
    "f14de2ba30b84741b8610cfaed843cac": {
     "views": [
      {
       "cell_index": 10
      }
     ]
    },
    "f1b35f2a369948339349f556c014edd6": {
     "views": []
    },
    "f1fefbb4c70842dd832c985284eac9e3": {
     "views": []
    },
    "f24d39bfb56d4fb2a006b2d7b8d59c26": {
     "views": []
    },
    "f29f18ac8eaa4eb89130f031522e552a": {
     "views": []
    },
    "f38f7eb9be864716879a2b824218dcc6": {
     "views": []
    },
    "f3d30ab10230481cbccadd383f6b2180": {
     "views": []
    },
    "f3d399c437854f75986f7fcf0e1a7cc5": {
     "views": []
    },
    "f4b74caa19934dd5957f8563b52be6fa": {
     "views": [
      {
       "cell_index": 10
      }
     ]
    },
    "f510a611c9cf4682a40af9137fbc1852": {
     "views": []
    },
    "f58432a624464c859e5df29dc499f52b": {
     "views": []
    },
    "f5c24db760ad4ce7ab490cd37e1264df": {
     "views": []
    },
    "f606eb8f5efc43b8b22085c7a9b3107d": {
     "views": []
    },
    "f6a0518bbf8f435aa9db9a97455a2add": {
     "views": []
    },
    "f7800360a5a44b82a3fe864cb6eae32d": {
     "views": []
    },
    "f82c6addb2a24fa7a25f6649ac8158f9": {
     "views": []
    },
    "f8630726671e4209abf395699682d05d": {
     "views": []
    },
    "f901f8ec878b4f47996ce8b65a6eb3f1": {
     "views": []
    },
    "f933d7fd7d34485fa13310083c77a923": {
     "views": []
    },
    "f95bd19083cf4c82a68ab8567d9d98ec": {
     "views": []
    },
    "fa6acb95de884088b71e702d6fec2be0": {
     "views": []
    },
    "fb6bfb86fcc346929dbbcf5fb031a772": {
     "views": []
    },
    "fb8a3f0f3c6540f884dd186d4dba1b43": {
     "views": []
    },
    "fc2d1430d1a24fb0bbe1c64a0810042b": {
     "views": []
    },
    "fcdaace7e1b8495e8f33d88b5c5d5c30": {
     "views": []
    },
    "fce24d63972a4018b3d20da8449fd143": {
     "views": []
    },
    "fd13d4ea905244e9a3635c06d564508e": {
     "views": []
    },
    "fd35346339354537b869a4c20915c158": {
     "views": []
    },
    "fd7057641d3f418e9f25f93aa19d0344": {
     "views": []
    },
    "fe19033c925d47d09290e6cf733daaac": {
     "views": []
    },
    "fe3fd7c2a29c41fc8e7882096dcfceef": {
     "views": []
    },
    "ff1b144b08d44c489d35f31e60ad8302": {
     "views": []
    },
    "ff23f79fb6f24814a38141e63426f4cc": {
     "views": []
    },
    "ff64a6171fcf4862b912c29b394b25ae": {
     "views": []
    }
   },
   "version": "1.1.2"
  }
 },
 "nbformat": 4,
 "nbformat_minor": 1
}
