{
 "cells": [
  {
   "cell_type": "markdown",
   "metadata": {},
   "source": [
    "## Deep Learning\n",
    "\n",
    "## Project: Build a Traffic Sign Recognition Classifier\n",
    "\n",
    "In this notebook, a template is provided for you to implement your functionality in stages, which is required to successfully complete this project. If additional code is required that cannot be included in the notebook, be sure that the Python code is successfully imported and included in your submission if necessary. \n",
    "\n",
    "> **Note**: Once you have completed all of the code implementations, you need to finalize your work by exporting the iPython Notebook as an HTML document. Before exporting the notebook to html, all of the code cells need to have been run so that reviewers can see the final implementation and output. You can then export the notebook by using the menu above and navigating to  \\n\",\n",
    "    \"**File -> Download as -> HTML (.html)**. Include the finished document along with this notebook as your submission. \n",
    "\n",
    "In addition to implementing code, there is a writeup to complete. The writeup should be completed in a separate file, which can be either a markdown file or a pdf document. There is a [write up template](https://github.com/udacity/CarND-Traffic-Sign-Classifier-Project/blob/master/writeup_template.md) that can be used to guide the writing process. Completing the code template and writeup template will cover all of the [rubric points](https://review.udacity.com/#!/rubrics/481/view) for this project.\n",
    "\n",
    "The [rubric](https://review.udacity.com/#!/rubrics/481/view) contains \"Stand Out Suggestions\" for enhancing the project beyond the minimum requirements. The stand out suggestions are optional. If you decide to pursue the \"stand out suggestions\", you can include the code in this Ipython notebook and also discuss the results in the writeup file.\n",
    "\n",
    "\n",
    ">**Note:** Code and Markdown cells can be executed using the **Shift + Enter** keyboard shortcut. In addition, Markdown cells can be edited by typically double-clicking the cell to enter edit mode."
   ]
  },
  {
   "cell_type": "markdown",
   "metadata": {},
   "source": [
    "---\n",
    "## Step 0: Load The Data"
   ]
  },
  {
   "cell_type": "code",
   "execution_count": null,
   "metadata": {
    "collapsed": true
   },
   "outputs": [],
   "source": [
    "# Load pickled data\n",
    "import pickle\n",
    "import pandas as pd\n",
    "import numpy as np\n",
    "from sklearn.utils import shuffle\n",
    "from matplotlib import colors\n",
    "\n",
    "# TODO: Fill this in based on where you saved the training and testing data\n",
    "\n",
    "training_file = \"./train.p\"\n",
    "validation_file= \"./valid.p\"\n",
    "testing_file = \"./test.p\"\n",
    "\n",
    "with open(training_file, mode='rb') as f:\n",
    "    train = pickle.load(f)\n",
    "with open(validation_file, mode='rb') as f:\n",
    "    valid = pickle.load(f)\n",
    "with open(testing_file, mode='rb') as f:\n",
    "    test = pickle.load(f)\n",
    "    \n",
    "X_train, y_train = train['features'], train['labels']\n",
    "X_valid, y_valid = valid['features'], valid['labels']\n",
    "X_test, y_test = test['features'], test['labels']\n",
    "\n",
    "signnames = pd.read_csv(\"./signnames.csv\")"
   ]
  },
  {
   "cell_type": "markdown",
   "metadata": {},
   "source": [
    "---\n",
    "\n",
    "## Step 1: Dataset Summary & Exploration\n",
    "\n",
    "The pickled data is a dictionary with 4 key/value pairs:\n",
    "\n",
    "- `'features'` is a 4D array containing raw pixel data of the traffic sign images, (num examples, width, height, channels).\n",
    "- `'labels'` is a 1D array containing the label/class id of the traffic sign. The file `signnames.csv` contains id -> name mappings for each id.\n",
    "- `'sizes'` is a list containing tuples, (width, height) representing the original width and height the image.\n",
    "- `'coords'` is a list containing tuples, (x1, y1, x2, y2) representing coordinates of a bounding box around the sign in the image. **THESE COORDINATES ASSUME THE ORIGINAL IMAGE. THE PICKLED DATA CONTAINS RESIZED VERSIONS (32 by 32) OF THESE IMAGES**\n",
    "\n",
    "Complete the basic data summary below. Use python, numpy and/or pandas methods to calculate the data summary rather than hard coding the results. For example, the [pandas shape method](http://pandas.pydata.org/pandas-docs/stable/generated/pandas.DataFrame.shape.html) might be useful for calculating some of the summary results. "
   ]
  },
  {
   "cell_type": "markdown",
   "metadata": {},
   "source": [
    "### Provide a Basic Summary of the Data Set Using Python, Numpy and/or Pandas"
   ]
  },
  {
   "cell_type": "code",
   "execution_count": null,
   "metadata": {},
   "outputs": [],
   "source": [
    "### Replace each question mark with the appropriate value. \n",
    "### Use python, pandas or numpy methods rather than hard coding the results\n",
    "\n",
    "# TODO: Number of training examples\n",
    "n_train = len (X_train)\n",
    "\n",
    "# TODO: Number of validation examples\n",
    "n_validation = len (X_valid)\n",
    "\n",
    "# TODO: Number of testing examples.\n",
    "n_test = len(X_test)\n",
    "\n",
    "# TODO: What's the shape of an traffic sign image?\n",
    "image_shape = X_train[0].shape\n",
    "\n",
    "# TODO: How many unique classes/labels there are in the dataset.\n",
    "n_classes = len(np.unique(y_train))\n",
    "\n",
    "n_valid = len(X_valid)\n",
    "\n",
    "print(\"Number of training examples =\", n_train)\n",
    "print(\"Number of testing examples =\", n_test)\n",
    "print(\"Image data shape =\", image_shape)\n",
    "print(\"Number of classes =\", n_classes)"
   ]
  },
  {
   "cell_type": "markdown",
   "metadata": {},
   "source": [
    "\n",
    "### Include an exploratory visualization of the dataset"
   ]
  },
  {
   "cell_type": "markdown",
   "metadata": {},
   "source": [
    "Visualize the German Traffic Signs Dataset using the pickled file(s). This is open ended, suggestions include: plotting traffic sign images, plotting the count of each sign, etc. \n",
    "\n",
    "The [Matplotlib](http://matplotlib.org/) [examples](http://matplotlib.org/examples/index.html) and [gallery](http://matplotlib.org/gallery.html) pages are a great resource for doing visualizations in Python.\n",
    "\n",
    "**NOTE:** It's recommended you start with something simple first. If you wish to do more, come back to it after you've completed the rest of the sections. It can be interesting to look at the distribution of classes in the training, validation and test set. Is the distribution the same? Are there more examples of some classes than others?"
   ]
  },
  {
   "cell_type": "code",
   "execution_count": null,
   "metadata": {},
   "outputs": [],
   "source": [
    "### Data exploration visualization code goes here.\n",
    "### Feel free to use as many code cells as needed.\n",
    "import matplotlib.pyplot as plt\n",
    "# Visualizations will be shown in the notebook.\n",
    "%matplotlib inline\n",
    "\n",
    "def plot_histograms(n_classes):\n",
    "    \"\"\"Ploting distributions of each set\"\"\"\n",
    "    def count_labels(y, n_cls=n_classes):\n",
    "        temp = y.tolist()\n",
    "        labels_count = np.zeros(n_classes)\n",
    "        for item in range(n_classes): \n",
    "            labels_count[item] = temp.count(item)\n",
    "        return labels_count\n",
    "    \n",
    "    x_axis = list(np.linspace(0, n_classes-1, num=n_classes))\n",
    "    plt.figure(num=1)\n",
    "    n_tr_lbls = count_labels(y_train)\n",
    "    plt.bar(x_axis, n_tr_lbls)\n",
    "    plt.title('Distribution of classes in X_train (n=%d)'%len(X_train))\n",
    "    plt.xlabel('classes: 0 - %d'%(n_classes - 1))\n",
    "    plt.ylabel('number of images')\n",
    "\n",
    "    plt.figure(num=2)\n",
    "    n_vl_lbls = count_labels(y_valid)\n",
    "    plt.bar(x_axis, n_vl_lbls)\n",
    "    plt.title('Distribution of classes in X_valid (n=%d)'%len(X_valid))\n",
    "    plt.xlabel('classes: 0 - %d'%(n_classes - 1))\n",
    "    plt.ylabel('number of images')\n",
    "    \n",
    "    plt.figure(num=3)\n",
    "    n_tt_lbls = count_labels(y_test)\n",
    "    plt.bar(x_axis, n_tt_lbls)    \n",
    "    plt.title('Distribution of classes in X_test (n=%d)'%len(X_test))\n",
    "    plt.xlabel('classes: 0 - %d'%(n_classes - 1))\n",
    "    plt.ylabel('number of images')\n",
    "\n",
    "plot_histograms(n_classes)"
   ]
  },
  {
   "cell_type": "markdown",
   "metadata": {},
   "source": [
    "### Data visualization"
   ]
  },
  {
   "cell_type": "code",
   "execution_count": null,
   "metadata": {},
   "outputs": [],
   "source": [
    "from ipywidgets import widgets\n",
    "import traitlets\n",
    "from IPython.display import display\n",
    "import matplotlib.gridspec as gridspec\n",
    "\n",
    "x_train_grped = {}\n",
    "for label in np.unique(y_train).tolist():\n",
    "    x_train_grped[label] = []\n",
    "for index in range (n_train):\n",
    "    x_train_grped[y_train[index]].append(index)\n",
    "\n",
    "label_slider = widgets.IntSlider(max=n_classes, description=\"Label\")\n",
    "label_slider.max = n_classes - 1\n",
    "index_slider = widgets.IntSlider(description=\"Image index\")\n",
    "description = widgets.Text(disabled=True)\n",
    "    \n",
    "def on_label_value_changed(change):\n",
    "    index_slider.max = len(x_train_grped[label_slider.value]) - 1\n",
    "index_slider.observe(on_label_value_changed, names='value')\n",
    "\n",
    "img_index = 0\n",
    "dummy_res = None\n",
    "def display_images(index, label):\n",
    "    global img_index, dummy_res\n",
    "    index_slider.max = len(x_train_grped[label_slider.value]) - 1\n",
    "    plt.figure(figsize=(3, 3))\n",
    "    data = x_train_grped[label_slider.value]\n",
    "    img_index = data[index_slider.value] \n",
    "    #description.value = \"Image data at X_train [%d]\"%img_index\n",
    "    \n",
    "    plt.imshow(X_train[img_index])\n",
    "    plt.title(signnames['SignName'][label_slider.value])\n",
    "    \n",
    "caption = widgets.Label(value='Please select a label and a corresponding index \\\n",
    "                                        in the container of grouped training data')\n",
    "display(caption)\n",
    "# redirect output to variable and kwargs __output_result to avoid the verbose printing\n",
    "my_widget = widgets.interact(display_images, label=label_slider, index=index_slider, \\\n",
    "                             __output_result=False)\n",
    "#my_widget = widgets.interact(display_images, label=label_slider, index=index_slider, \\\n",
    "#                             desc=description, __output_result=False)"
   ]
  },
  {
   "cell_type": "markdown",
   "metadata": {},
   "source": [
    "----\n",
    "\n",
    "## Step 2: Design and Test a Model Architecture\n",
    "\n",
    "Design and implement a deep learning model that learns to recognize traffic signs. Train and test your model on the [German Traffic Sign Dataset](http://benchmark.ini.rub.de/?section=gtsrb&subsection=dataset).\n",
    "\n",
    "The LeNet-5 implementation shown in the [classroom](https://classroom.udacity.com/nanodegrees/nd013/parts/fbf77062-5703-404e-b60c-95b78b2f3f9e/modules/6df7ae49-c61c-4bb2-a23e-6527e69209ec/lessons/601ae704-1035-4287-8b11-e2c2716217ad/concepts/d4aca031-508f-4e0b-b493-e7b706120f81) at the end of the CNN lesson is a solid starting point. You'll have to change the number of classes and possibly the preprocessing, but aside from that it's plug and play! \n",
    "\n",
    "With the LeNet-5 solution from the lecture, you should expect a validation set accuracy of about 0.89. To meet specifications, the validation set accuracy will need to be at least 0.93. It is possible to get an even higher accuracy, but 0.93 is the minimum for a successful project submission. \n",
    "\n",
    "There are various aspects to consider when thinking about this problem:\n",
    "\n",
    "- Neural network architecture (is the network over or underfitting?)\n",
    "- Play around preprocessing techniques (normalization, rgb to grayscale, etc)\n",
    "- Number of examples per label (some have more than others).\n",
    "- Generate fake data.\n",
    "\n",
    "Here is an example of a [published baseline model on this problem](http://yann.lecun.com/exdb/publis/pdf/sermanet-ijcnn-11.pdf). It's not required to be familiar with the approach used in the paper but, it's good practice to try to read papers like these."
   ]
  },
  {
   "cell_type": "markdown",
   "metadata": {},
   "source": [
    "### Pre-process the Data Set (normalization, grayscale, etc.)"
   ]
  },
  {
   "cell_type": "markdown",
   "metadata": {},
   "source": [
    "Minimally, the image data should be normalized so that the data has mean zero and equal variance. For image data, `(pixel - 128)/ 128` is a quick way to approximately normalize the data and can be used in this project. \n",
    "\n",
    "Other pre-processing steps are optional. You can try different techniques to see if it improves performance. \n",
    "\n",
    "Use the code cell (or multiple code cells, if necessary) to implement the first step of your project."
   ]
  },
  {
   "cell_type": "code",
   "execution_count": null,
   "metadata": {},
   "outputs": [],
   "source": [
    "from skimage.transform import warp, warp_coords\n",
    "from scipy.ndimage.interpolation import map_coordinates\n",
    "from skimage.transform import ProjectiveTransform\n",
    "from skimage import color\n",
    "from skimage import exposure, img_as_float\n",
    "import random\n",
    "import collections\n",
    "import os.path\n",
    "\n",
    "rotation_range = np.linspace(.15, .22, num=10, dtype=float)\n",
    "translation_range = np.linspace(-5, 5, num=10, dtype=float)\n",
    "scaling_range = np.linspace(.9, 1.5, num=15, dtype=float)\n",
    "rotation_range = rotation_range.tolist()\n",
    "translation_range = translation_range.tolist()\n",
    "scaling_range = scaling_range.tolist()\n",
    "AUG_TRAIN_FILE = \"./train_a.p\" \n",
    "X_train_a = None\n",
    "y_train_a = None\n",
    "\n",
    "def rnd_transform(orig_img, transform):\n",
    "    result = None\n",
    "    t_matrix = None\n",
    "    img = np.copy(orig_img)\n",
    "    \n",
    "    if transform == \"rotation\":\n",
    "        index = random.randint(0, len(rotation_range)-1)\n",
    "        angle = rotation_range[index]\n",
    "        \n",
    "## Matrix represented as [ [x_scale,  x_skew,  t_x]\n",
    "##                         [y_scale,  y_skew,  t_y]\n",
    "##                         [x_position, y_position, 1]]\n",
    "##                \n",
    "        sin_val = np.array([np.sin(angle), -np.sin(angle)])\n",
    "        random.shuffle(sin_val)\n",
    "        \n",
    "        t_matrix = np.array([[np.cos(angle), sin_val[0], 0],\\\n",
    "                             [sin_val[1], np.cos(angle), 0],\\\n",
    "                             [0, 0, 1]])\n",
    "    elif transform == \"translation\":\n",
    "        x_index = random.randint(0, len(translation_range)-1)\n",
    "        x_tr = translation_range[x_index]\n",
    "        y_index = random.randint(0, len(translation_range)-1)        \n",
    "        y_tr = translation_range[y_index]\n",
    "        #print(x_tr, y_tr)\n",
    "        t_matrix = np.array([[1, 0, x_tr],\\\n",
    "                             [0, 1, -y_tr],\\\n",
    "                             [0, 0, 1]])\n",
    "    elif transform == \"scaling\":\n",
    "        x_index = random.randint(0, len(scaling_range)-1)\n",
    "        x_sc = scaling_range[x_index]\n",
    "        #print (x_sc)\n",
    "        y_index = random.randint(0, len(scaling_range)-1)        \n",
    "        y_sc = scaling_range[y_index]\n",
    "        #print(y_sc)\n",
    "        t_matrix = np.array([[x_sc, 0, 0],\\\n",
    "                              [0, y_sc, 0],\\\n",
    "                              [0, 0, 1]])\n",
    "    else:\n",
    "        pass\n",
    "    if t_matrix is not None:\n",
    "        t_trans = ProjectiveTransform(matrix=t_matrix)\n",
    "        img = warp(img, t_trans, mode='edge', clip=True,\\\n",
    "                   order=1, output_shape=(img.shape[0], img.shape[1]))  \n",
    "    return img\n",
    "\n",
    "\n",
    "def rescale_intensity(img):\n",
    "    p2, p98 = np.percentile(img, (2, 98))\n",
    "    img_ = exposure.rescale_intensity(img, in_range=(p2, p98))\n",
    "    return img_\n",
    "    \n",
    "def augment_data(threshold=750, save_as=True):\n",
    "    #find classes with less than \"threshold\" amount of data\n",
    "    tr_counter=collections.Counter(y_train.tolist())\n",
    "    tr_counter = collections.OrderedDict(tr_counter)\n",
    "    threshold = 750\n",
    "    below_treshold_cls = [key for key in list(tr_counter.keys())\\\n",
    "                                      if tr_counter[key] < threshold]\n",
    "    trf_op = ['rotation', 'translation', 'scaling']\n",
    "    \n",
    "    X_train_a = np.copy(X_train)\n",
    "    y_train_a = np.copy(y_train)\n",
    "    print (len(X_train_a))\n",
    "    print (len(y_train_a))\n",
    "    for cls in below_treshold_cls:\n",
    "        print (\"Processing label %d ...\"%cls)\n",
    "        cls_indexes = np.where(y_train==cls)[0]\n",
    "        cls_indexes = cls_indexes.tolist()\n",
    "        for index in cls_indexes:\n",
    "            tmp_orig = np.copy(X_train[index])\n",
    "            for op in trf_op:\n",
    "                tmp = rnd_transform(tmp_orig, transform=op)\n",
    "                # update X_train and y_train\n",
    "                X_train_a = np.append(X_train_a, np.array([tmp]), axis=0)\n",
    "                y_train_a = np.append(y_train_a, cls)\n",
    "    # Save data into new file\n",
    "    outfile = open(AUG_TRAIN_FILE, 'wb')\n",
    "    train_aug = {'features': X_train_a, 'labels': y_train_a}\n",
    "    pickle.dump(train_aug, outfile)\n",
    "    outfile.close()\n",
    "    \n",
    "    # Rename new data\n",
    "    X_train = X_train_a\n",
    "    y_train = y_train_a\n",
    "    print(\"Data augmentation finished.\")\n",
    "\n",
    "\n"
   ]
  },
  {
   "cell_type": "markdown",
   "metadata": {},
   "source": [
    "### Data Augmentation & Pre-processing"
   ]
  },
  {
   "cell_type": "markdown",
   "metadata": {},
   "source": [
    "#### Fake data generation (Caution: takes a long time!)"
   ]
  },
  {
   "cell_type": "code",
   "execution_count": null,
   "metadata": {},
   "outputs": [],
   "source": [
    "AUGMENT_DATA = True\n",
    "# Load or generate fake data\n",
    "if os.path.isfile(AUG_TRAIN_FILE) and\\\n",
    "            os.access(AUG_TRAIN_FILE, os.R_OK) and AUGMENT_DATA:\n",
    "    with open(AUG_TRAIN_FILE, mode='rb') as f:\n",
    "        train_a = pickle.load(f)\n",
    "        X_train_a, y_train_a = train_a['features'], train_a['labels']\n",
    "        X_train = X_train_a\n",
    "        y_train = y_train_a\n",
    "        X_train, y_train = shuffle(X_train, y_train)\n",
    "elif AUGMENT_DATA:\n",
    "    augment_data()\n",
    "    X_train, y_train = shuffle(X_train, y_train)\n",
    "else:\n",
    "    print(\"No data augmentation applied!\")\n",
    "\n",
    "# Histograms\n",
    "plot_histograms(n_classes)\n"
   ]
  },
  {
   "cell_type": "markdown",
   "metadata": {},
   "source": [
    "#### Normalization, grayscale"
   ]
  },
  {
   "cell_type": "code",
   "execution_count": null,
   "metadata": {},
   "outputs": [],
   "source": [
    "### Preprocess the data here. It is required to normalize the data. Other preprocessing steps could include \n",
    "### converting to grayscale, etc.\n",
    "### Feel free to use as many code cells as needed.\n",
    "GRAY_MODE = False\n",
    "\n",
    "if GRAY_MODE:\n",
    "    X_train = np.dot(X_train[...,:3], [0.299, 0.587, 0.114])        \n",
    "    X_valid = np.dot(X_valid[...,:3], [0.299, 0.587, 0.114])\n",
    "    # add last channel\n",
    "    X_train = X_train.reshape(X_train.shape + (1,))\n",
    "    X_valid = X_valid.reshape(X_valid.shape + (1,))\n",
    "\n",
    "X_train = X_train.astype(np.float32)/255.0\n",
    "X_valid = X_valid.astype(np.float32)/255.0\n",
    "X_test  = X_test.astype(np.float32)/255.0\n",
    "\n",
    "X_train, y_train = shuffle(X_train, y_train)\n",
    "\n",
    "# Rescale intensity of training examples\n",
    "map(rescale_intensity, X_train)\n",
    "\n",
    "# Rescale intensity of validation examples\n",
    "map(rescale_intensity, X_valid)\n",
    "\n",
    "# Rescale intensity of test examples\n",
    "map(rescale_intensity, X_test)\n"
   ]
  },
  {
   "cell_type": "markdown",
   "metadata": {},
   "source": [
    "### Model Architecture"
   ]
  },
  {
   "cell_type": "markdown",
   "metadata": {},
   "source": [
    "#### Using Keras with TensorFlow backend"
   ]
  },
  {
   "cell_type": "code",
   "execution_count": null,
   "metadata": {
    "scrolled": false
   },
   "outputs": [],
   "source": [
    "from keras.models import Sequential\n",
    "from keras.layers import Dense, Conv2D, MaxPool2D, Flatten, Dropout\n",
    "from keras.utils.np_utils import to_categorical\n",
    "import keras.backend as K\n",
    "from keras import optimizers\n",
    "from keras import initializers\n",
    "from keras import regularizers\n",
    "import tensorflow as tf\n",
    "from keras.models import load_model\n",
    "from keras.callbacks import EarlyStopping\n",
    "\n",
    "KERAS_MODE = True\n",
    "\n",
    "#Converts a class vector (integers) to binary class matrix.\n",
    "#E.g. for use with categorical_crossentropy.\n",
    "y_train_cat = to_categorical(y_train)\n",
    "y_valid_cat = to_categorical(y_valid)\n",
    "y_test_cat = to_categorical(y_test)\n",
    "\n",
    "BATCH_SIZE_KE = 128\n",
    "EPOCHS_KE = 500 #15 #100\n",
    "learning_rate_ke = 0.001\n",
    "\n",
    "\n",
    "def LeNet_Ke():\n",
    "    K.clear_session()\n",
    "    model = Sequential()\n",
    "    mu = 0\n",
    "    sigma = 0.1\n",
    "    \n",
    "    # Conv2D\n",
    "    model.add(Conv2D(6, (5, 5), activation='relu',\\\n",
    "                     input_shape=(32, 32, 3), padding='valid',\\\n",
    "                     kernel_initializer=initializers.TruncatedNormal(stddev=sigma),\\\n",
    "                     #kernel_regularizer='l2',\\\n",
    "                     #kernel_regularizer=regularizers.l2(0.01),\\\n",
    "                     #activity_regularizer=regularizers.l1(0.01),\n",
    "                     use_bias=True,\n",
    "                     bias_initializer=initializers.Zeros(),\n",
    "                     name='conv2d_1'))\n",
    "    # MaxPool2D\n",
    "    model.add(MaxPool2D(pool_size=(2, 2), name='maxpool2d_1'))\n",
    "    \n",
    "    # Conv2D   \n",
    "    model.add(Conv2D(16, (5, 5), activation='relu', padding='valid',\\\n",
    "                    kernel_initializer=initializers.TruncatedNormal(stddev=sigma),\\\n",
    "                    #kernel_regularizer='l2',\\\n",
    "                    #kernel_regularizer=regularizers.l2(0.01),\n",
    "                    #activity_regularizer=regularizers.l1(0.01), \n",
    "                    use_bias=True,\n",
    "                    bias_initializer=initializers.Zeros(),\n",
    "                    name='conv2d_2'))\n",
    "    # MaxPool2D\n",
    "    model.add(MaxPool2D(pool_size=(2, 2), name='maxpool2d_2'))\n",
    "    \n",
    "    # Dropout\n",
    "    model.add(Dropout(0.25, name='dpo_1'))\n",
    "    model.add(Flatten(name='fln_1'))\n",
    "    \n",
    "    # Fully Connected\n",
    "    model.add(Dense(120, activation='relu',\\\n",
    "                    kernel_initializer=initializers.TruncatedNormal(stddev=sigma),\\\n",
    "                    #kernel_regularizer='l2',\\\n",
    "                    #kernel_regularizer=regularizers.l2(0.01),\\\n",
    "                    #activity_regularizer=regularizers.l1(0.01), \n",
    "                    use_bias=True,\n",
    "                    bias_initializer=initializers.Zeros(),\n",
    "                    name='fc_1'))\n",
    "\n",
    "    # Fully Connected\n",
    "    model.add(Dense(84, activation='relu', \\\n",
    "                    kernel_initializer=initializers.TruncatedNormal(stddev=sigma),\\\n",
    "                    #kernel_regularizer='l2',\\\n",
    "                    #kernel_regularizer=regularizers.l2(0.01),\\\n",
    "                    #activity_regularizer=regularizers.l1(0.01),                     \n",
    "                    use_bias=True,\n",
    "                    bias_initializer=initializers.Zeros(),\n",
    "                    name='fc_2'))  \n",
    "\n",
    "    model.add(Dropout(0.5, name='dpo_2'))\n",
    "    \n",
    "    # Fully Connected\n",
    "    model.add(Dense(n_classes,\\\n",
    "                    kernel_initializer=initializers.TruncatedNormal(stddev=sigma),\\\n",
    "                    #kernel_regularizer='l2',\\\n",
    "                    #kernel_regularizer=regularizers.l2(0.01),\\\n",
    "                    #activity_regularizer=regularizers.l1(0.01), \n",
    "                    use_bias=True, \n",
    "                    bias_initializer=initializers.Zeros(),\n",
    "                    activation='softmax',\n",
    "                    name='fc_3'))\n",
    "    \n",
    "    return model \n",
    "    \n",
    "\n",
    "if KERAS_MODE:\n",
    "    with tf.device('/gpu:0'):\n",
    "        model = LeNet_Ke()\n",
    "        model.compile(loss='categorical_crossentropy',\n",
    "              optimizer=optimizers.Adam(lr=learning_rate_ke),\n",
    "              metrics=['accuracy'])\n",
    "\n",
    "        # Model Summary\n",
    "        model.summary()\n",
    "        \n",
    "        early_stopping = EarlyStopping(monitor='val_loss', patience=2)\n",
    "        hist = model.fit(X_train, y_train_cat, batch_size=BATCH_SIZE_KE,\\\n",
    "              validation_data=(X_valid, y_valid_cat),\\\n",
    "              epochs=EPOCHS_KE, verbose=1, shuffle=True, callbacks=[early_stopping])\n",
    "        \n",
    "        # Save history\n",
    "        tr_outfile = open('./training_history', 'wb')\n",
    "        pickle.dump(hist.history, tr_outfile)\n",
    "        print(\"Training history saved.\")\n",
    "        \n",
    "        ## TODO\n",
    "        ## plot accuracy, loss, etc\n",
    "        print()\n",
    "        print()\n",
    "        # Print history \n",
    "        print(\"Model history\")\n",
    "        print(hist.history)\n",
    "        # Save the model\n",
    "        model.save('./lenet_ke.h5')\n"
   ]
  },
  {
   "cell_type": "markdown",
   "metadata": {},
   "source": [
    "#### Model (Keras) prediction on test samples"
   ]
  },
  {
   "cell_type": "code",
   "execution_count": null,
   "metadata": {},
   "outputs": [],
   "source": [
    "model = load_model('./lenet_ke.h5')\n",
    "\n",
    "y_test_pred = model.predict_classes(X_test[0:5])\n",
    "print (y_test_pred)\n",
    "\n",
    "# TODO\n",
    "# show test accuracy, plots, etc\n"
   ]
  },
  {
   "cell_type": "markdown",
   "metadata": {},
   "source": [
    "### Model Architecture"
   ]
  },
  {
   "cell_type": "markdown",
   "metadata": {},
   "source": [
    "#### Using TensorFlow\n",
    "The `EPOCH` and `BATCH_SIZE` values affect the training speed and model accuracy.\n"
   ]
  },
  {
   "cell_type": "code",
   "execution_count": null,
   "metadata": {
    "collapsed": true
   },
   "outputs": [],
   "source": [
    "import tensorflow as tf\n",
    "\n",
    "rate = 0.001\n",
    "EPOCHS = 1000 # 20 # 100 \n",
    "BATCH_SIZE = 128 # test of 256 \n"
   ]
  },
  {
   "cell_type": "markdown",
   "metadata": {},
   "source": [
    "#### Output"
   ]
  },
  {
   "cell_type": "code",
   "execution_count": null,
   "metadata": {
    "collapsed": true
   },
   "outputs": [],
   "source": [
    "### Define your architecture here.\n",
    "### Feel free to use as many code cells as needed.\n",
    "\n",
    "from tensorflow.contrib.layers import flatten\n",
    "\n",
    "def LeNet(x):    \n",
    "    # Arguments used for tf.truncated_normal, randomly defines variables for the weights and biases for each layer\n",
    "    mu = 0\n",
    "    sigma = 0.1\n",
    "    \n",
    "    # SOLUTION: Layer 1: Convolutional. Input = 32x32x1. Output = 28x28x6.\n",
    "    conv1_W = tf.Variable(tf.truncated_normal(shape=(5, 5, X_train.shape[3], 6), mean = mu, stddev = sigma))\n",
    "    conv1_b = tf.Variable(tf.zeros(6))\n",
    "    #conv1_b = tf.Variable(tf.random_normal([6]))\n",
    "    #conv1_b = tf.Variable(tf.constant(0.05, shape=[6]))\n",
    "    conv1   = tf.nn.conv2d(x, conv1_W, strides=[1, 1, 1, 1], padding='VALID') + conv1_b\n",
    "\n",
    "    # SOLUTION: Activation.\n",
    "    conv1 = tf.nn.relu(conv1)\n",
    "\n",
    "    # SOLUTION: Pooling. Input = 28x28x6. Output = 14x14x6.\n",
    "    conv1 = tf.nn.max_pool(conv1, ksize=[1, 2, 2, 1], strides=[1, 2, 2, 1], padding='VALID')\n",
    "\n",
    "    # SOLUTION: Layer 2: Convolutional. Output = 10x10x16.\n",
    "    conv2_W = tf.Variable(tf.truncated_normal(shape=(5, 5, 6, 16), mean = mu, stddev = sigma))\n",
    "    conv2_b = tf.Variable(tf.zeros(16))\n",
    "    #conv2_b = tf.Variable(tf.constant(0.05, shape=[16]))\n",
    "    \n",
    "    #conv2_b = tf.Variable(tf.random_normal([16]))\n",
    "    conv2   = tf.nn.conv2d(conv1, conv2_W, strides=[1, 1, 1, 1], padding='VALID') + conv2_b\n",
    "    \n",
    "    # SOLUTION: Activation.\n",
    "    conv2 = tf.nn.relu(conv2)\n",
    "    \n",
    "    # SOLUTION: Pooling. Input = 10x10x16. Output = 5x5x16.\n",
    "    conv2 = tf.nn.max_pool(conv2, ksize=[1, 2, 2, 1], strides=[1, 2, 2, 1], padding='VALID')\n",
    "\n",
    "    # SOLUTION: Flatten. Input = 5x5x16. Output = 400.\n",
    "    fc0   = flatten(conv2)\n",
    "    \n",
    "    # SOLUTION: Layer 3: Fully Connected. Input = 400. Output = 120.\n",
    "    fc1_W = tf.Variable(tf.truncated_normal(shape=(400, 120), mean = mu, stddev = sigma))\n",
    "    fc1_b = tf.Variable(tf.constant(0.05, shape=[120]))\n",
    "    fc1_b = tf.Variable(tf.zeros(120))\n",
    "    #fc1_b = tf.Variable(tf.random_normal([120]))\n",
    "    fc1   = tf.matmul(fc0, fc1_W) + fc1_b\n",
    "    \n",
    "    # SOLUTION: Activation.\n",
    "    fc1    = tf.nn.relu(fc1)\n",
    "    # Dropout\n",
    "    #fc1    = tf.nn.dropout(fc1, 0.25)\n",
    "\n",
    "    # SOLUTION: Layer 4: Fully Connected. Input = 120. Output = 84.\n",
    "    fc2_W  = tf.Variable(tf.truncated_normal(shape=(120, 84), mean = mu, stddev = sigma))\n",
    "    fc2_b = tf.Variable(tf.constant(0.05, shape=[84]))\n",
    "    fc2_b  = tf.Variable(tf.zeros(84))\n",
    "    #fc2_b  = tf.Variable(tf.random_normal([84]))\n",
    "    fc2    = tf.matmul(fc1, fc2_W) + fc2_b\n",
    "    \n",
    "    # SOLUTION: Activation.\n",
    "    fc2    = tf.nn.relu(fc2)\n",
    "    # Dropout\n",
    "    #fc2    = tf.nn.dropout(fc2, 0.5)\n",
    "    \n",
    "    # SOLUTION: Layer 5: Fully Connected. Input = 84. Output = n_classes.\n",
    "    fc3_W  = tf.Variable(tf.truncated_normal(shape=(84, n_classes), mean = mu, stddev = sigma))\n",
    "    fc3_b  = tf.Variable(tf.zeros(n_classes)) \n",
    "    #fc3_b = tf.Variable(tf.constant(0.05, shape=[n_classes]))\n",
    "    #fc3_b = tf.Variable(tf.random_normal([n_classes]))\n",
    "    logits = tf.matmul(fc2, fc3_W) + fc3_b\n",
    "    \n",
    "    return logits\n"
   ]
  },
  {
   "cell_type": "markdown",
   "metadata": {},
   "source": [
    "### Train, Validate and Test the Model"
   ]
  },
  {
   "cell_type": "markdown",
   "metadata": {},
   "source": [
    "#### Features and Labels"
   ]
  },
  {
   "cell_type": "code",
   "execution_count": null,
   "metadata": {},
   "outputs": [],
   "source": [
    "x = tf.placeholder(tf.float32, (None, 32, 32, X_train.shape[3]))\n",
    "y = tf.placeholder(tf.int32, (None))\n",
    "one_hot_y = tf.one_hot(y, n_classes)"
   ]
  },
  {
   "cell_type": "markdown",
   "metadata": {},
   "source": [
    "A validation set can be used to assess how well the model is performing. A low accuracy on the training and validation\n",
    "sets imply underfitting. A high accuracy on the training set but low accuracy on the validation set implies overfitting."
   ]
  },
  {
   "cell_type": "code",
   "execution_count": null,
   "metadata": {
    "scrolled": false
   },
   "outputs": [],
   "source": [
    "### Train your model here.\n",
    "### Calculate and report the accuracy on the training and validation set.\n",
    "### Once a final model architecture is selected, \n",
    "### the accuracy on the test set should be calculated and reported as well.\n",
    "### Feel free to use as many code cells as needed.\n",
    "\n",
    "logits = LeNet(x)\n",
    "\n",
    "cross_entropy = tf.nn.softmax_cross_entropy_with_logits(labels=one_hot_y, logits=logits)\n",
    "loss_operation = tf.reduce_mean(cross_entropy)\n",
    "optimizer = tf.train.AdamOptimizer(learning_rate = rate)\n",
    "#optimizer = tf.train.GradientDescentOptimizer(learning_rate = rate)\n",
    "training_operation = optimizer.minimize(loss_operation)"
   ]
  },
  {
   "cell_type": "markdown",
   "metadata": {},
   "source": [
    "#### Model Evaluation"
   ]
  },
  {
   "cell_type": "code",
   "execution_count": null,
   "metadata": {
    "collapsed": true
   },
   "outputs": [],
   "source": [
    "correct_prediction = tf.equal(tf.argmax(logits, 1), tf.argmax(one_hot_y, 1))\n",
    "accuracy_operation = tf.reduce_mean(tf.cast(correct_prediction, tf.float32))\n",
    "saver = tf.train.Saver()\n",
    "\n",
    "def evaluate(X_data, y_data):\n",
    "    num_examples = len(X_data)\n",
    "    total_accuracy = 0\n",
    "    sess = tf.get_default_session()\n",
    "    for offset in range(0, num_examples, BATCH_SIZE):\n",
    "        batch_x, batch_y = X_data[offset:offset+BATCH_SIZE], y_data[offset:offset+BATCH_SIZE]\n",
    "        loss, accuracy = sess.run([loss_operation, accuracy_operation], feed_dict={x: batch_x, y: batch_y})\n",
    "        total_accuracy += (accuracy * len(batch_x))\n",
    "    return loss, total_accuracy / num_examples"
   ]
  },
  {
   "cell_type": "markdown",
   "metadata": {},
   "source": [
    "#### Model Trainning"
   ]
  },
  {
   "cell_type": "code",
   "execution_count": null,
   "metadata": {
    "scrolled": false
   },
   "outputs": [],
   "source": [
    "with tf.Session() as sess:\n",
    "    sess.run(tf.global_variables_initializer())\n",
    "    num_examples = len(X_train)\n",
    "    \n",
    "    print(\"Training...\")\n",
    "    print()\n",
    "    for i in range(EPOCHS):\n",
    "        X_train, y_train = shuffle(X_train, y_train)\n",
    "        for offset in range(0, num_examples, BATCH_SIZE):\n",
    "            end = offset + BATCH_SIZE\n",
    "            batch_x, batch_y = X_train[offset:end], y_train[offset:end]\n",
    "            sess.run(training_operation, feed_dict={x: batch_x, y: batch_y})\n",
    "        \n",
    "        X_valid, y_valid = shuffle(X_valid, y_valid)\n",
    "        loss, validation_accuracy = evaluate(X_valid, y_valid)\n",
    "        print(\"EPOCH {} ...\".format(i+1))\n",
    "        print(\"Validation Accuracy = {:.3f}\".format(validation_accuracy))\n",
    "        print(\"Loss = {:.3f}\".format(loss))\n",
    "        print()\n",
    "        \n",
    "    #saver.save(sess, './lenet')\n",
    "    print(\"Model saved\")"
   ]
  },
  {
   "cell_type": "markdown",
   "metadata": {},
   "source": [
    "---\n",
    "\n",
    "## Step 3: Test a Model on New Images\n",
    "\n",
    "To give yourself more insight into how your model is working, download at least five pictures of German traffic signs from the web and use your model to predict the traffic sign type.\n",
    "\n",
    "You may find `signnames.csv` useful as it contains mappings from the class id (integer) to the actual sign name."
   ]
  },
  {
   "cell_type": "markdown",
   "metadata": {},
   "source": [
    "### Load and Output the Images"
   ]
  },
  {
   "cell_type": "code",
   "execution_count": null,
   "metadata": {
    "collapsed": true
   },
   "outputs": [],
   "source": [
    "### Load the images and plot them here.\n",
    "### Feel free to use as many code cells as needed."
   ]
  },
  {
   "cell_type": "markdown",
   "metadata": {},
   "source": [
    "### Predict the Sign Type for Each Image"
   ]
  },
  {
   "cell_type": "code",
   "execution_count": null,
   "metadata": {
    "collapsed": true
   },
   "outputs": [],
   "source": [
    "### Run the predictions here and use the model to output the prediction for each image.\n",
    "### Make sure to pre-process the images with the same pre-processing pipeline used earlier.\n",
    "### Feel free to use as many code cells as needed."
   ]
  },
  {
   "cell_type": "markdown",
   "metadata": {},
   "source": [
    "### Analyze Performance"
   ]
  },
  {
   "cell_type": "code",
   "execution_count": null,
   "metadata": {
    "collapsed": true
   },
   "outputs": [],
   "source": [
    "### Calculate the accuracy for these 5 new images. \n",
    "### For example, if the model predicted 1 out of 5 signs correctly, it's 20% accurate on these new images."
   ]
  },
  {
   "cell_type": "markdown",
   "metadata": {},
   "source": [
    "### Output Top 5 Softmax Probabilities For Each Image Found on the Web"
   ]
  },
  {
   "cell_type": "markdown",
   "metadata": {},
   "source": [
    "For each of the new images, print out the model's softmax probabilities to show the **certainty** of the model's predictions (limit the output to the top 5 probabilities for each image). [`tf.nn.top_k`](https://www.tensorflow.org/versions/r0.12/api_docs/python/nn.html#top_k) could prove helpful here. \n",
    "\n",
    "The example below demonstrates how tf.nn.top_k can be used to find the top k predictions for each image.\n",
    "\n",
    "`tf.nn.top_k` will return the values and indices (class ids) of the top k predictions. So if k=3, for each sign, it'll return the 3 largest probabilities (out of a possible 43) and the correspoding class ids.\n",
    "\n",
    "Take this numpy array as an example. The values in the array represent predictions. The array contains softmax probabilities for five candidate images with six possible classes. `tk.nn.top_k` is used to choose the three classes with the highest probability:\n",
    "\n",
    "```\n",
    "# (5, 6) array\n",
    "a = np.array([[ 0.24879643,  0.07032244,  0.12641572,  0.34763842,  0.07893497,\n",
    "         0.12789202],\n",
    "       [ 0.28086119,  0.27569815,  0.08594638,  0.0178669 ,  0.18063401,\n",
    "         0.15899337],\n",
    "       [ 0.26076848,  0.23664738,  0.08020603,  0.07001922,  0.1134371 ,\n",
    "         0.23892179],\n",
    "       [ 0.11943333,  0.29198961,  0.02605103,  0.26234032,  0.1351348 ,\n",
    "         0.16505091],\n",
    "       [ 0.09561176,  0.34396535,  0.0643941 ,  0.16240774,  0.24206137,\n",
    "         0.09155967]])\n",
    "```\n",
    "\n",
    "Running it through `sess.run(tf.nn.top_k(tf.constant(a), k=3))` produces:\n",
    "\n",
    "```\n",
    "TopKV2(values=array([[ 0.34763842,  0.24879643,  0.12789202],\n",
    "       [ 0.28086119,  0.27569815,  0.18063401],\n",
    "       [ 0.26076848,  0.23892179,  0.23664738],\n",
    "       [ 0.29198961,  0.26234032,  0.16505091],\n",
    "       [ 0.34396535,  0.24206137,  0.16240774]]), indices=array([[3, 0, 5],\n",
    "       [0, 1, 4],\n",
    "       [0, 5, 1],\n",
    "       [1, 3, 5],\n",
    "       [1, 4, 3]], dtype=int32))\n",
    "```\n",
    "\n",
    "Looking just at the first row we get `[ 0.34763842,  0.24879643,  0.12789202]`, you can confirm these are the 3 largest probabilities in `a`. You'll also notice `[3, 0, 5]` are the corresponding indices."
   ]
  },
  {
   "cell_type": "code",
   "execution_count": null,
   "metadata": {
    "collapsed": true
   },
   "outputs": [],
   "source": [
    "### Print out the top five softmax probabilities for the predictions on the German traffic sign images found on the web. \n",
    "### Feel free to use as many code cells as needed."
   ]
  },
  {
   "cell_type": "markdown",
   "metadata": {},
   "source": [
    "### Project Writeup\n",
    "\n",
    "Once you have completed the code implementation, document your results in a project writeup using this [template](https://github.com/udacity/CarND-Traffic-Sign-Classifier-Project/blob/master/writeup_template.md) as a guide. The writeup can be in a markdown or pdf file. "
   ]
  },
  {
   "cell_type": "markdown",
   "metadata": {},
   "source": [
    "> **Note**: Once you have completed all of the code implementations and successfully answered each question above, you may finalize your work by exporting the iPython Notebook as an HTML document. You can do this by using the menu above and navigating to  \\n\",\n",
    "    \"**File -> Download as -> HTML (.html)**. Include the finished document along with this notebook as your submission."
   ]
  },
  {
   "cell_type": "markdown",
   "metadata": {},
   "source": [
    "---\n",
    "\n",
    "## Step 4 (Optional): Visualize the Neural Network's State with Test Images\n",
    "\n",
    " This Section is not required to complete but acts as an additional excersise for understaning the output of a neural network's weights. While neural networks can be a great learning device they are often referred to as a black box. We can understand what the weights of a neural network look like better by plotting their feature maps. After successfully training your neural network you can see what it's feature maps look like by plotting the output of the network's weight layers in response to a test stimuli image. From these plotted feature maps, it's possible to see what characteristics of an image the network finds interesting. For a sign, maybe the inner network feature maps react with high activation to the sign's boundary outline or to the contrast in the sign's painted symbol.\n",
    "\n",
    " Provided for you below is the function code that allows you to get the visualization output of any tensorflow weight layer you want. The inputs to the function should be a stimuli image, one used during training or a new one you provided, and then the tensorflow variable name that represents the layer's state during the training process, for instance if you wanted to see what the [LeNet lab's](https://classroom.udacity.com/nanodegrees/nd013/parts/fbf77062-5703-404e-b60c-95b78b2f3f9e/modules/6df7ae49-c61c-4bb2-a23e-6527e69209ec/lessons/601ae704-1035-4287-8b11-e2c2716217ad/concepts/d4aca031-508f-4e0b-b493-e7b706120f81) feature maps looked like for it's second convolutional layer you could enter conv2 as the tf_activation variable.\n",
    "\n",
    "For an example of what feature map outputs look like, check out NVIDIA's results in their paper [End-to-End Deep Learning for Self-Driving Cars](https://devblogs.nvidia.com/parallelforall/deep-learning-self-driving-cars/) in the section Visualization of internal CNN State. NVIDIA was able to show that their network's inner weights had high activations to road boundary lines by comparing feature maps from an image with a clear path to one without. Try experimenting with a similar test to show that your trained network's weights are looking for interesting features, whether it's looking at differences in feature maps from images with or without a sign, or even what feature maps look like in a trained network vs a completely untrained one on the same sign image.\n",
    "\n",
    "<figure>\n",
    " <img src=\"visualize_cnn.png\" width=\"380\" alt=\"Combined Image\" />\n",
    " <figcaption>\n",
    " <p></p> \n",
    " <p style=\"text-align: center;\"> Your output should look something like this (above)</p> \n",
    " </figcaption>\n",
    "</figure>\n",
    " <p></p> \n"
   ]
  },
  {
   "cell_type": "code",
   "execution_count": null,
   "metadata": {
    "collapsed": true
   },
   "outputs": [],
   "source": [
    "### Visualize your network's feature maps here.\n",
    "### Feel free to use as many code cells as needed.\n",
    "\n",
    "# image_input: the test image being fed into the network to produce the feature maps\n",
    "# tf_activation: should be a tf variable name used during your training procedure that represents the calculated state of a specific weight layer\n",
    "# activation_min/max: can be used to view the activation contrast in more detail, by default matplot sets min and max to the actual min and max values of the output\n",
    "# plt_num: used to plot out multiple different weight feature map sets on the same block, just extend the plt number for each new feature map entry\n",
    "\n",
    "def outputFeatureMap(image_input, tf_activation, activation_min=-1, activation_max=-1 ,plt_num=1):\n",
    "    # Here make sure to preprocess your image_input in a way your network expects\n",
    "    # with size, normalization, ect if needed\n",
    "    # image_input =\n",
    "    # Note: x should be the same name as your network's tensorflow data placeholder variable\n",
    "    # If you get an error tf_activation is not defined it may be having trouble accessing the variable from inside a function\n",
    "    activation = tf_activation.eval(session=sess,feed_dict={x : image_input})\n",
    "    featuremaps = activation.shape[3]\n",
    "    plt.figure(plt_num, figsize=(15,15))\n",
    "    for featuremap in range(featuremaps):\n",
    "        plt.subplot(6,8, featuremap+1) # sets the number of feature maps to show on each row and column\n",
    "        plt.title('FeatureMap ' + str(featuremap)) # displays the feature map number\n",
    "        if activation_min != -1 & activation_max != -1:\n",
    "            plt.imshow(activation[0,:,:, featuremap], interpolation=\"nearest\", vmin =activation_min, vmax=activation_max, cmap=\"gray\")\n",
    "        elif activation_max != -1:\n",
    "            plt.imshow(activation[0,:,:, featuremap], interpolation=\"nearest\", vmax=activation_max, cmap=\"gray\")\n",
    "        elif activation_min !=-1:\n",
    "            plt.imshow(activation[0,:,:, featuremap], interpolation=\"nearest\", vmin=activation_min, cmap=\"gray\")\n",
    "        else:\n",
    "            plt.imshow(activation[0,:,:, featuremap], interpolation=\"nearest\", cmap=\"gray\")"
   ]
  }
 ],
 "metadata": {
  "anaconda-cloud": {},
  "kernelspec": {
   "display_name": "Python 3",
   "language": "python",
   "name": "python3"
  },
  "language_info": {
   "codemirror_mode": {
    "name": "ipython",
    "version": 3
   },
   "file_extension": ".py",
   "mimetype": "text/x-python",
   "name": "python",
   "nbconvert_exporter": "python",
   "pygments_lexer": "ipython3",
   "version": "3.5.2"
  },
  "widgets": {
   "state": {
    "01422feae1ff41b4abdd177a329c737b": {
     "views": []
    },
    "0144af307c7e438f9b2100ccfc1af773": {
     "views": [
      {
       "cell_index": 10
      }
     ]
    },
    "03fc3e90fcd04485ac6b750e93ae573c": {
     "views": []
    },
    "064f84244718424ca40ff53ba1c5e9b9": {
     "views": [
      {
       "cell_index": 10
      }
     ]
    },
    "0a47c5255c5a472f89758cb78acbbf41": {
     "views": []
    },
    "0bcb7adb3c4c4a8a8798e1d6e2047dd4": {
     "views": []
    },
    "10ad47faac5c4e949fed94a13fb477c1": {
     "views": []
    },
    "10df462c493a4fe3bb3b6501899e03b8": {
     "views": []
    },
    "12fe392b30304c59afbb8a592ea63d75": {
     "views": []
    },
    "149ebe0218f642c883777cf34490e518": {
     "views": []
    },
    "166f626d5db54b90ab606d199d98b88e": {
     "views": []
    },
    "17219b3711b1441784273f7c6e2549a3": {
     "views": []
    },
    "17b5a0ed9a1f4fbda01277a61ef3a7ef": {
     "views": []
    },
    "19ac05793f6d4fabb48baa21297c1707": {
     "views": []
    },
    "1afd1d3e425244528567ec8ca0fc7aaa": {
     "views": []
    },
    "1e196b9aa6814c01926de7c366c3d76e": {
     "views": []
    },
    "1f9751dadf7b4119a7545aa9bad7ae1e": {
     "views": []
    },
    "23b8e3f453454fbf9f50deacfe9410f1": {
     "views": []
    },
    "26f50a63aaf6411db1774a2196567290": {
     "views": [
      {
       "cell_index": 10
      }
     ]
    },
    "2951a4b09a15425d911434c20ff73205": {
     "views": []
    },
    "296ec188f287476dbfd2cd5393aae16e": {
     "views": []
    },
    "2c443389300a4bf1b0df0703144d6002": {
     "views": []
    },
    "2d0a61ce57e7455f86224eb354a6d3cb": {
     "views": []
    },
    "2efda216d61746ce8e259dbab654729c": {
     "views": []
    },
    "3032c810540b48149d5176a68218e251": {
     "views": []
    },
    "3170b604752a4b08badb1e83de741747": {
     "views": [
      {
       "cell_index": 10
      }
     ]
    },
    "31a2e3b6433b4526bd53cccdc6d4f311": {
     "views": []
    },
    "323d0cee205e4a0fb45143de6403ee04": {
     "views": []
    },
    "33f0a6e599c345a4ae6e92fe83680c37": {
     "views": []
    },
    "3acac4aef68c4f918a1c9f8d6e973a80": {
     "views": []
    },
    "3caa5fe689684297a49907028d3beec0": {
     "views": []
    },
    "3def7da72f9f448c8dc8eb117f8898f1": {
     "views": []
    },
    "3eaac2df25754437903e7f10166cc9e4": {
     "views": []
    },
    "3f8cceabb00b41daa8240b17332a7e07": {
     "views": [
      {
       "cell_index": 10
      }
     ]
    },
    "3fbe1959c53f47f5bac87bd48fac76d8": {
     "views": []
    },
    "3ffd16ccc7d94756bdf5a78772eb9955": {
     "views": []
    },
    "437a0dd7917a4fd28dd651a1a99bf235": {
     "views": []
    },
    "4384434d10e741a69a781521cccaf773": {
     "views": []
    },
    "4386c27dc35747c2baf14bcc87e39dad": {
     "views": []
    },
    "45b4521af24b47f79e724f666370e704": {
     "views": []
    },
    "46a85887954e4a458d36fba66834e566": {
     "views": [
      {
       "cell_index": 10
      }
     ]
    },
    "4a2772c960ca49d6b854c1740eee3d37": {
     "views": []
    },
    "4c3948772f4042f89599c332b4adc2f0": {
     "views": []
    },
    "4daef52ef88b43a5817e9b3ef96aa325": {
     "views": [
      {
       "cell_index": 10
      }
     ]
    },
    "504346b6b84749f48d9e05f51e776cb9": {
     "views": []
    },
    "50c211b6510442109e2ae99c0b617fa9": {
     "views": [
      {
       "cell_index": 10
      }
     ]
    },
    "5b8884d036564e56b259404f59aab982": {
     "views": []
    },
    "5ca5ebef93204a24bcba4853656d7a9f": {
     "views": []
    },
    "60ef0a363f7e460da799b83c7068a770": {
     "views": [
      {
       "cell_index": 10
      }
     ]
    },
    "62cbab1e16c64605903dbed2269e76dd": {
     "views": []
    },
    "639489bea03f42348558f94122325ffe": {
     "views": []
    },
    "658ace042b92408fbe864e007a7cf5c3": {
     "views": []
    },
    "66b23ec03fb94581b3e0051c3dd261c1": {
     "views": []
    },
    "688d0f9b47d14c1997c60cb21cb89cfa": {
     "views": []
    },
    "68e4b0bba2844ff3aeec74386d58b917": {
     "views": []
    },
    "69befb6dabd64a0ea17cc6cac4d1e2e8": {
     "views": []
    },
    "6b386d9c71f240b4bd937e5b5fc699b9": {
     "views": []
    },
    "6b7a8d5acff14be6ab89be06b6472908": {
     "views": []
    },
    "705968dec0c44a8e832526d8379142fd": {
     "views": [
      {
       "cell_index": 10
      }
     ]
    },
    "714b2bf08c9c40ed9fa5e09be65ce98f": {
     "views": []
    },
    "71980be408ce480fb657772b7b542743": {
     "views": []
    },
    "73f7cdd9a4544223afbd0692e4fd0d9b": {
     "views": []
    },
    "76ca151fc342486e8e701aefbd4ea33e": {
     "views": [
      {
       "cell_index": 10
      }
     ]
    },
    "787a376191974c38aa317de3e8ad818b": {
     "views": []
    },
    "7916546cb25d4f949660fe827eb95b22": {
     "views": []
    },
    "7a309fbf74b040b68e09394df602a84e": {
     "views": []
    },
    "7b7f078e2e3b40858b6c121997012726": {
     "views": []
    },
    "800eb95140044cb695bf3cb3b55450ea": {
     "views": []
    },
    "8472366cf1c248b299acf6ff966639fa": {
     "views": []
    },
    "84ef655065344ef2b08ca68d011b810d": {
     "views": []
    },
    "85467a7a37b3434a8a311af7471d13c1": {
     "views": []
    },
    "87f874949588419f8c2049c7c9630b98": {
     "views": []
    },
    "87fb3d41a72244938f81c8b784765a03": {
     "views": []
    },
    "8992f91dd5dc4717941d598594bb3a97": {
     "views": []
    },
    "89d7969262e44cd786a0ea406ef62527": {
     "views": []
    },
    "8a5ded1cc2fc42c5a3bff3fc4eaec681": {
     "views": []
    },
    "8b11d32a3faa402eb69d9965fcf2d1f4": {
     "views": []
    },
    "929480b319a14c3dac5e310f3e4b35e0": {
     "views": [
      {
       "cell_index": 10
      }
     ]
    },
    "92c9ea263fa54b2a926b6699655e062e": {
     "views": []
    },
    "9725f1b815d04ba6a9afb03d3169fef3": {
     "views": []
    },
    "97a4403bfea74a4b9d7181d193b7a9d9": {
     "views": []
    },
    "9d5f39d6a2424f7ca6f94f4735f44391": {
     "views": []
    },
    "a4f07d9878fd4cb2a91d0e5dd98670f1": {
     "views": []
    },
    "a50e9b3edbc1465bb7e125484defda38": {
     "views": []
    },
    "a64f5c027dc7469cb41464e49bb4c7fd": {
     "views": []
    },
    "a9fca3527cc441e3aec63b476c5623ee": {
     "views": []
    },
    "aa6260a9a916438cbaeae918e0bf1b2b": {
     "views": []
    },
    "acae9ed65ed64824b10daf2e177783f9": {
     "views": []
    },
    "aed36620465d4f4d8e8c4ad7791a9b7d": {
     "views": []
    },
    "af5f000863fe40feb25be0fe7e8d9de6": {
     "views": []
    },
    "b08b4635e89b43b2a4fde67da0357abc": {
     "views": []
    },
    "b197978072444a91bbdc112252308b26": {
     "views": []
    },
    "b8abf10de4b74575a438ecfe208c37c0": {
     "views": []
    },
    "b92926b7dcc742f1a6a153fa8fdca814": {
     "views": []
    },
    "bab3163f2bbe40cab07a7f19889dd161": {
     "views": []
    },
    "bb0ccb67884c4489b10a34c81c7d6e6f": {
     "views": [
      {
       "cell_index": 10
      }
     ]
    },
    "bb5c8df4c3fb402ab9d6a162a9bb5e04": {
     "views": []
    },
    "bd8a7aded2a04bc0aa2cd401ddb88eea": {
     "views": []
    },
    "bf4fc8de65234b60ae794c72acce616e": {
     "views": []
    },
    "c17364d2587f4fb18f582ee439b071b7": {
     "views": []
    },
    "c1d52fb1d2b847119078baef1d9455ea": {
     "views": []
    },
    "c40c1c0192f44b5080d4dd63d36283b0": {
     "views": [
      {
       "cell_index": 10
      }
     ]
    },
    "c41f05ae7d554f3e9a5a489d5802bf8c": {
     "views": []
    },
    "c8c075d85578494c9d5baf7dbf323cc7": {
     "views": []
    },
    "c8f2e5c4daf5489995b9a64503ba1f3a": {
     "views": []
    },
    "c96fb266e598479699ee5c054c4c10b5": {
     "views": []
    },
    "cb20626506fc43d0abd64abb413c8dc3": {
     "views": []
    },
    "cc57b790d0164f72bc60a3f266d49004": {
     "views": [
      {
       "cell_index": 10
      }
     ]
    },
    "cd7e0bdd2d25413a9c4645b85082e10e": {
     "views": []
    },
    "cefb510674f3441d90dea168f547733f": {
     "views": []
    },
    "d1e68780ca6b414295334d1635488de4": {
     "views": []
    },
    "d23b8c3d63a747fbb316117d04853830": {
     "views": []
    },
    "d4286aa8bfc64b2e84d15c845c89afc7": {
     "views": []
    },
    "d4c6182ade1d412a89ab803b09059007": {
     "views": []
    },
    "d7af93107aba4b2aae530d093664775f": {
     "views": []
    },
    "db8e51d961ad4435bbca28d51c748e25": {
     "views": []
    },
    "dbdf4cbc74194fc5ba1462439a04fc3c": {
     "views": []
    },
    "de5c511a97bd44e68ee2fd9deea7b5a5": {
     "views": []
    },
    "df63dba05c6244a89bc8039118080690": {
     "views": []
    },
    "e0c4d5a5b5e44a9dbd6ffc72b4a6a2a2": {
     "views": []
    },
    "e244ac1281a94e39ad4835fcae0e36d4": {
     "views": []
    },
    "e6e6afe8a3bc46619f9eeda9b03e6fa9": {
     "views": []
    },
    "e7942f992be641d8aedcf760396febc0": {
     "views": []
    },
    "e91a68c5535c4fef9b02e0ac647a0e3c": {
     "views": []
    },
    "ec7ad044668d422391cdc3d94e7f89da": {
     "views": []
    },
    "ed2a782eeae0452e930b0ecf931bff4f": {
     "views": []
    },
    "ed857c1423504b36b30bbec41902b186": {
     "views": []
    },
    "edd2be98aa8a4d3db30d456100459f2e": {
     "views": []
    },
    "f3d30ab10230481cbccadd383f6b2180": {
     "views": []
    },
    "f3d399c437854f75986f7fcf0e1a7cc5": {
     "views": []
    },
    "f58432a624464c859e5df29dc499f52b": {
     "views": []
    },
    "f7800360a5a44b82a3fe864cb6eae32d": {
     "views": []
    },
    "f933d7fd7d34485fa13310083c77a923": {
     "views": []
    },
    "fb6bfb86fcc346929dbbcf5fb031a772": {
     "views": []
    },
    "fce24d63972a4018b3d20da8449fd143": {
     "views": []
    },
    "fd13d4ea905244e9a3635c06d564508e": {
     "views": []
    },
    "fd35346339354537b869a4c20915c158": {
     "views": []
    },
    "fe19033c925d47d09290e6cf733daaac": {
     "views": []
    },
    "fe3fd7c2a29c41fc8e7882096dcfceef": {
     "views": []
    },
    "ff64a6171fcf4862b912c29b394b25ae": {
     "views": []
    }
   },
   "version": "1.1.2"
  }
 },
 "nbformat": 4,
 "nbformat_minor": 1
}
