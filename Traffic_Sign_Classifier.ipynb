{
 "cells": [
  {
   "cell_type": "markdown",
   "metadata": {},
   "source": [
    "# Self-Driving Car Engineer Nanodegree\n",
    "\n",
    "## Deep Learning\n",
    "\n",
    "## Project: Build a Traffic Sign Recognition Classifier\n",
    "\n",
    "In this notebook, a template is provided for you to implement your functionality in stages, which is required to successfully complete this project. If additional code is required that cannot be included in the notebook, be sure that the Python code is successfully imported and included in your submission if necessary. \n",
    "\n",
    "> **Note**: Once you have completed all of the code implementations, you need to finalize your work by exporting the iPython Notebook as an HTML document. Before exporting the notebook to html, all of the code cells need to have been run so that reviewers can see the final implementation and output. You can then export the notebook by using the menu above and navigating to  \\n\",\n",
    "    \"**File -> Download as -> HTML (.html)**. Include the finished document along with this notebook as your submission. \n",
    "\n",
    "In addition to implementing code, there is a writeup to complete. The writeup should be completed in a separate file, which can be either a markdown file or a pdf document. There is a [write up template](https://github.com/udacity/CarND-Traffic-Sign-Classifier-Project/blob/master/writeup_template.md) that can be used to guide the writing process. Completing the code template and writeup template will cover all of the [rubric points](https://review.udacity.com/#!/rubrics/481/view) for this project.\n",
    "\n",
    "The [rubric](https://review.udacity.com/#!/rubrics/481/view) contains \"Stand Out Suggestions\" for enhancing the project beyond the minimum requirements. The stand out suggestions are optional. If you decide to pursue the \"stand out suggestions\", you can include the code in this Ipython notebook and also discuss the results in the writeup file.\n",
    "\n",
    "\n",
    ">**Note:** Code and Markdown cells can be executed using the **Shift + Enter** keyboard shortcut. In addition, Markdown cells can be edited by typically double-clicking the cell to enter edit mode."
   ]
  },
  {
   "cell_type": "markdown",
   "metadata": {},
   "source": [
    "---\n",
    "## Imports"
   ]
  },
  {
   "cell_type": "code",
   "execution_count": null,
   "metadata": {
    "ExecuteTime": {
     "end_time": "2017-07-02T11:39:42.588718Z",
     "start_time": "2017-07-02T11:39:39.741613Z"
    }
   },
   "outputs": [],
   "source": [
    "from IPython import get_ipython\n",
    "get_ipython().magic('reset -sf')\n",
    "\n",
    "import tensorflow as tf\n",
    "from keras.models import Sequential\n",
    "from keras.layers import Dense, Conv2D, Conv1D, Conv3D, MaxPool2D, Flatten, Dropout\n",
    "import keras.backend as K\n",
    "from keras import optimizers\n",
    "from keras import initializers\n",
    "from keras import regularizers\n",
    "from keras.preprocessing.image import ImageDataGenerator\n",
    "from keras.models import load_model\n",
    "from keras.models import model_from_json\n",
    "from sklearn.metrics import classification_report, confusion_matrix\n",
    "from keras.callbacks import EarlyStopping\n",
    "from keras.callbacks import ModelCheckpoint\n",
    "from keras.callbacks import LearningRateScheduler\n",
    "from sklearn.metrics import confusion_matrix\n",
    "from keras import metrics\n",
    "from keras.layers import BatchNormalization\n",
    "from sklearn.utils import shuffle\n",
    "from matplotlib import colors\n",
    "from ipywidgets import widgets\n",
    "import traitlets\n",
    "from IPython.display import display\n",
    "import matplotlib.gridspec as gridspec\n",
    "from skimage.transform import warp, warp_coords\n",
    "from scipy.ndimage.interpolation import map_coordinates\n",
    "from skimage.transform import ProjectiveTransform\n",
    "from skimage import color\n",
    "from skimage import exposure, img_as_float\n",
    "import random\n",
    "import collections\n",
    "import os.path\n",
    "import pickle\n",
    "import pandas as pd\n",
    "import numpy as np\n",
    "import math\n",
    "import os"
   ]
  },
  {
   "cell_type": "markdown",
   "metadata": {},
   "source": [
    "## Load the data"
   ]
  },
  {
   "cell_type": "code",
   "execution_count": null,
   "metadata": {
    "ExecuteTime": {
     "end_time": "2017-07-02T11:39:42.827301Z",
     "start_time": "2017-07-02T11:39:42.590493Z"
    },
    "collapsed": true
   },
   "outputs": [],
   "source": [
    "# Load pickled data\n",
    "\n",
    "# TODO: Fill this in based on where you saved the training and testing data\n",
    "\n",
    "training_file = \"./source/train.p\"\n",
    "validation_file= \"./source/valid.p\"\n",
    "testing_file = \"./source/test.p\"\n",
    "\n",
    "with open(training_file, mode='rb') as f:\n",
    "    train = pickle.load(f)\n",
    "with open(validation_file, mode='rb') as f:\n",
    "    valid = pickle.load(f)\n",
    "with open(testing_file, mode='rb') as f:\n",
    "    test = pickle.load(f)\n",
    "    \n",
    "X_train, y_train = train['features'], train['labels']\n",
    "X_valid, y_valid = valid['features'], valid['labels']\n",
    "X_test, y_test = test['features'], test['labels']\n",
    "\n",
    "signnames = pd.read_csv(\"./source/signnames.csv\")"
   ]
  },
  {
   "cell_type": "markdown",
   "metadata": {},
   "source": [
    "---\n",
    "\n",
    "## Step 1: Dataset Summary & Exploration\n",
    "\n",
    "The pickled data is a dictionary with 4 key/value pairs:\n",
    "\n",
    "- `'features'` is a 4D array containing raw pixel data of the traffic sign images, (num examples, width, height, channels).\n",
    "- `'labels'` is a 1D array containing the label/class id of the traffic sign. The file `signnames.csv` contains id -> name mappings for each id.\n",
    "- `'sizes'` is a list containing tuples, (width, height) representing the original width and height the image.\n",
    "- `'coords'` is a list containing tuples, (x1, y1, x2, y2) representing coordinates of a bounding box around the sign in the image. **THESE COORDINATES ASSUME THE ORIGINAL IMAGE. THE PICKLED DATA CONTAINS RESIZED VERSIONS (32 by 32) OF THESE IMAGES**\n",
    "\n",
    "Complete the basic data summary below. Use python, numpy and/or pandas methods to calculate the data summary rather than hard coding the results. For example, the [pandas shape method](http://pandas.pydata.org/pandas-docs/stable/generated/pandas.DataFrame.shape.html) might be useful for calculating some of the summary results. "
   ]
  },
  {
   "cell_type": "markdown",
   "metadata": {},
   "source": [
    "### Provide a Basic Summary of the Data Set Using Python, Numpy and/or Pandas"
   ]
  },
  {
   "cell_type": "code",
   "execution_count": null,
   "metadata": {
    "ExecuteTime": {
     "end_time": "2017-07-02T11:39:42.845283Z",
     "start_time": "2017-07-02T11:39:42.829144Z"
    }
   },
   "outputs": [],
   "source": [
    "### Replace each question mark with the appropriate value. \n",
    "### Use python, pandas or numpy methods rather than hard coding the results\n",
    "\n",
    "# TODO: Number of training examples\n",
    "n_train = len (X_train)\n",
    "\n",
    "# TODO: Number of validation examples\n",
    "n_validation = len (X_valid)\n",
    "\n",
    "# TODO: Number of testing examples.\n",
    "n_test = len(X_test)\n",
    "\n",
    "# TODO: What's the shape of an traffic sign image?\n",
    "image_shape = X_train[0].shape\n",
    "\n",
    "# TODO: How many unique classes/labels there are in the dataset.\n",
    "n_classes = len(np.unique(y_train))\n",
    "\n",
    "\n",
    "n_valid = len(X_valid)\n",
    "\n",
    "print(\"Number of training examples =\", n_train)\n",
    "print(\"Number of validation examples =\", n_valid)\n",
    "print(\"Number of testing examples =\", n_test)\n",
    "print(\"Image data shape =\", image_shape)\n",
    "print(\"Number of classes =\", n_classes)"
   ]
  },
  {
   "cell_type": "markdown",
   "metadata": {},
   "source": [
    "\n",
    "### Include an exploratory visualization of the dataset"
   ]
  },
  {
   "cell_type": "markdown",
   "metadata": {},
   "source": [
    "Visualize the German Traffic Signs Dataset using the pickled file(s). This is open ended, suggestions include: plotting traffic sign images, plotting the count of each sign, etc. \n",
    "\n",
    "The [Matplotlib](http://matplotlib.org/) [examples](http://matplotlib.org/examples/index.html) and [gallery](http://matplotlib.org/gallery.html) pages are a great resource for doing visualizations in Python.\n",
    "\n",
    "**NOTE:** It's recommended you start with something simple first. If you wish to do more, come back to it after you've completed the rest of the sections. It can be interesting to look at the distribution of classes in the training, validation and test set. Is the distribution the same? Are there more examples of some classes than others?"
   ]
  },
  {
   "cell_type": "code",
   "execution_count": null,
   "metadata": {
    "ExecuteTime": {
     "end_time": "2017-07-02T11:39:43.777765Z",
     "start_time": "2017-07-02T11:39:42.847242Z"
    }
   },
   "outputs": [],
   "source": [
    "### Data exploration visualization code goes here.\n",
    "### Feel free to use as many code cells as needed.\n",
    "import matplotlib.pyplot as plt\n",
    "# Visualizations will be shown in the notebook.\n",
    "%matplotlib inline\n",
    "\n",
    "def plot_histograms(n_classes):\n",
    "    \"\"\"Ploting distributions of each set\"\"\"\n",
    "    def count_labels(y, n_cls=n_classes):\n",
    "        temp = y.tolist()\n",
    "        labels_count = np.zeros(n_classes)\n",
    "        for item in range(n_classes): \n",
    "            labels_count[item] = temp.count(item)\n",
    "        return labels_count\n",
    "    \n",
    "    x_axis = list(np.linspace(0, n_classes-1, num=n_classes))\n",
    "    plt.figure(num=1)\n",
    "    n_tr_lbls = count_labels(y_train)\n",
    "    plt.bar(x_axis, n_tr_lbls)\n",
    "    plt.title('Distribution of classes in X_train (n=%d)'%len(X_train))\n",
    "    plt.xlabel('classes: 0 - %d'%(n_classes - 1))\n",
    "    plt.ylabel('number of images')\n",
    "\n",
    "    plt.figure(num=2)\n",
    "    n_vl_lbls = count_labels(y_valid)\n",
    "    plt.bar(x_axis, n_vl_lbls)\n",
    "    plt.title('Distribution of classes in X_valid (n=%d)'%len(X_valid))\n",
    "    plt.xlabel('classes: 0 - %d'%(n_classes - 1))\n",
    "    plt.ylabel('number of images')\n",
    "    \n",
    "    plt.figure(num=3)\n",
    "    n_tt_lbls = count_labels(y_test)\n",
    "    plt.bar(x_axis, n_tt_lbls)    \n",
    "    plt.title('Distribution of classes in X_test (n=%d)'%len(X_test))\n",
    "    plt.xlabel('classes: 0 - %d'%(n_classes - 1))\n",
    "    plt.ylabel('number of images')\n",
    "\n",
    "plot_histograms(n_classes)"
   ]
  },
  {
   "cell_type": "markdown",
   "metadata": {},
   "source": [
    "### Data visualization"
   ]
  },
  {
   "cell_type": "code",
   "execution_count": null,
   "metadata": {
    "ExecuteTime": {
     "end_time": "2017-07-02T11:39:44.051460Z",
     "start_time": "2017-07-02T11:39:43.779875Z"
    }
   },
   "outputs": [],
   "source": [
    "x_train_grped = {}\n",
    "for label in np.unique(y_train).tolist():\n",
    "    x_train_grped[label] = []\n",
    "for index in range (n_train):\n",
    "    x_train_grped[y_train[index]].append(index)\n",
    "\n",
    "label_slider = widgets.IntSlider(max=n_classes, description=\"Label\")\n",
    "label_slider.max = n_classes - 1\n",
    "index_slider = widgets.IntSlider(description=\"Image index\")\n",
    "description = widgets.Text(disabled=True)\n",
    "    \n",
    "def on_label_value_changed(change):\n",
    "    index_slider.max = len(x_train_grped[label_slider.value]) - 1\n",
    "index_slider.observe(on_label_value_changed, names='value')\n",
    "\n",
    "img_index = 0\n",
    "dummy_res = None\n",
    "def display_images(index, label):\n",
    "    global img_index, dummy_res\n",
    "    index_slider.max = len(x_train_grped[label_slider.value]) - 1\n",
    "    plt.figure(figsize=(3, 3))\n",
    "    data = x_train_grped[label_slider.value]\n",
    "    img_index = data[index_slider.value] \n",
    "    #description.value = \"Image data at X_train [%d]\"%img_index\n",
    "    \n",
    "    plt.imshow(X_train[img_index])\n",
    "    plt.title(signnames['SignName'][label_slider.value])\n",
    "\n",
    "\n",
    "caption = widgets.Label(value='Please select a label and a corresponding index \\\n",
    "                                        in the container of grouped training data')\n",
    "\n",
    "## Caution: displaying the data after shuffling the training data \n",
    "## will result in wrong images and label correspondance\n",
    "\n",
    "display(caption)\n",
    "# redirect output to variable and kwargs __output_result to avoid the verbose printing\n",
    "my_widget = widgets.interact(display_images, label=label_slider, index=index_slider, \\\n",
    "                             __output_result=False)\n",
    "#my_widget = widgets.interact(display_images, label=label_slider, index=index_slider, \\\n",
    "#                             desc=description, __output_result=False)"
   ]
  },
  {
   "cell_type": "markdown",
   "metadata": {},
   "source": [
    "----\n",
    "\n",
    "## Step 2: Design and Test a Model Architecture\n",
    "\n",
    "Design and implement a deep learning model that learns to recognize traffic signs. Train and test your model on the [German Traffic Sign Dataset](http://benchmark.ini.rub.de/?section=gtsrb&subsection=dataset).\n",
    "\n",
    "The LeNet-5 implementation shown in the [classroom](https://classroom.udacity.com/nanodegrees/nd013/parts/fbf77062-5703-404e-b60c-95b78b2f3f9e/modules/6df7ae49-c61c-4bb2-a23e-6527e69209ec/lessons/601ae704-1035-4287-8b11-e2c2716217ad/concepts/d4aca031-508f-4e0b-b493-e7b706120f81) at the end of the CNN lesson is a solid starting point. You'll have to change the number of classes and possibly the preprocessing, but aside from that it's plug and play! \n",
    "\n",
    "With the LeNet-5 solution from the lecture, you should expect a validation set accuracy of about 0.89. To meet specifications, the validation set accuracy will need to be at least 0.93. It is possible to get an even higher accuracy, but 0.93 is the minimum for a successful project submission. \n",
    "\n",
    "There are various aspects to consider when thinking about this problem:\n",
    "\n",
    "- Neural network architecture (is the network over or underfitting?)\n",
    "- Play around preprocessing techniques (normalization, rgb to grayscale, etc)\n",
    "- Number of examples per label (some have more than others).\n",
    "- Generate fake data.\n",
    "\n",
    "Here is an example of a [published baseline model on this problem](http://yann.lecun.com/exdb/publis/pdf/sermanet-ijcnn-11.pdf). It's not required to be familiar with the approach used in the paper but, it's good practice to try to read papers like these."
   ]
  },
  {
   "cell_type": "markdown",
   "metadata": {},
   "source": [
    "### Pre-process the Data Set (normalization, grayscale, etc.)"
   ]
  },
  {
   "cell_type": "markdown",
   "metadata": {},
   "source": [
    "Minimally, the image data should be normalized so that the data has mean zero and equal variance. For image data, `(pixel - 128)/ 128` is a quick way to approximately normalize the data and can be used in this project. \n",
    "\n",
    "Other pre-processing steps are optional. You can try different techniques to see if it improves performance. \n",
    "\n",
    "Use the code cell (or multiple code cells, if necessary) to implement the first step of your project."
   ]
  },
  {
   "cell_type": "code",
   "execution_count": null,
   "metadata": {
    "ExecuteTime": {
     "end_time": "2017-07-02T11:39:44.439086Z",
     "start_time": "2017-07-02T11:39:44.054024Z"
    },
    "collapsed": true
   },
   "outputs": [],
   "source": [
    "rotation_range = np.linspace(.15, .22, num=10, dtype=float)\n",
    "translation_range = np.linspace(-5., 5., num=10, dtype=float)\n",
    "scaling_range = np.linspace(.9, 1.5, num=15, dtype=float)\n",
    "rotation_range = rotation_range.tolist()\n",
    "translation_range = translation_range.tolist()\n",
    "scaling_range = scaling_range.tolist()\n",
    "AUG_TRAIN_FILE = \"./source/train_a.p\" \n",
    "X_train_a = None\n",
    "y_train_a = None\n",
    "\n",
    "def rnd_transform(orig_img, transform):\n",
    "    result = None\n",
    "    t_matrix = None\n",
    "    img = np.copy(orig_img)\n",
    "    \n",
    "    if transform == \"rotation\":\n",
    "        index = random.randint(0, len(rotation_range)-1)\n",
    "        angle = rotation_range[index]\n",
    "        \n",
    "## Matrix represented as [ [x_scale,  x_skew,  t_x]\n",
    "##                         [y_scale,  y_skew,  t_y]\n",
    "##                         [x_position, y_position, 1]]\n",
    "##                \n",
    "        sin_val = np.array([np.sin(angle), -np.sin(angle)])\n",
    "        random.shuffle(sin_val)\n",
    "        \n",
    "        t_matrix = np.array([[np.cos(angle), sin_val[0], 0],\\\n",
    "                             [sin_val[1], np.cos(angle), 0],\\\n",
    "                             [0, 0, 1]])\n",
    "    elif transform == \"translation\":\n",
    "        x_index = random.randint(0, len(translation_range)-1)\n",
    "        x_tr = translation_range[x_index]\n",
    "        y_index = random.randint(0, len(translation_range)-1)        \n",
    "        y_tr = translation_range[y_index]\n",
    "        #print(x_tr, y_tr)\n",
    "        t_matrix = np.array([[1, 0, x_tr],\\\n",
    "                             [0, 1, -y_tr],\\\n",
    "                             [0, 0, 1]])\n",
    "    elif transform == \"scaling\":\n",
    "        x_index = random.randint(0, len(scaling_range)-1)\n",
    "        x_sc = scaling_range[x_index]\n",
    "        #print (x_sc)\n",
    "        y_index = random.randint(0, len(scaling_range)-1)        \n",
    "        y_sc = scaling_range[y_index]\n",
    "        #print(y_sc)\n",
    "        t_matrix = np.array([[x_sc, 0, 0],\\\n",
    "                              [0, y_sc, 0],\\\n",
    "                              [0, 0, 1]])\n",
    "    else:\n",
    "        pass\n",
    "    if t_matrix is not None:\n",
    "        t_trans = ProjectiveTransform(matrix=t_matrix)\n",
    "        img = warp(img, t_trans, mode='edge', clip=True,\\\n",
    "                   order=1, output_shape=(img.shape[0], img.shape[1]))  \n",
    "    return img\n",
    "\n",
    "\n",
    "def rescale_intensity(img):\n",
    "    p2, p98 = np.percentile(img, (2, 98))\n",
    "    img_ = exposure.rescale_intensity(img, in_range=(p2, p98))\n",
    "    return img_\n",
    "\n",
    "def preprocess_image(img):\n",
    "    img.astype(np.float32)/255.0\n",
    "    img_ = rescale_intensity(img)\n",
    "    return img_\n",
    "\n",
    "def augment_data(threshold=750, save_as=True):\n",
    "    #find classes with less than \"threshold\" amount of data\n",
    "    tr_counter=collections.Counter(y_train.tolist())\n",
    "    tr_counter = collections.OrderedDict(tr_counter)\n",
    "    threshold = 750\n",
    "    below_treshold_cls = [key for key in list(tr_counter.keys())\\\n",
    "                                      if tr_counter[key] < threshold]\n",
    "    trf_op = ['rotation', 'translation', 'scaling']\n",
    "    \n",
    "    X_train_a = np.copy(X_train)\n",
    "    y_train_a = np.copy(y_train)\n",
    "    print (len(X_train_a))\n",
    "    print (len(y_train_a))\n",
    "    for cls in below_treshold_cls:\n",
    "        print (\"Processing label %d ...\"%cls)\n",
    "        cls_indexes = np.where(y_train==cls)[0]\n",
    "        cls_indexes = cls_indexes.tolist()\n",
    "        for index in cls_indexes:\n",
    "            tmp_orig = np.copy(X_train[index])\n",
    "            for op in trf_op:\n",
    "                tmp = rnd_transform(tmp_orig, transform=op)\n",
    "                # update X_train and y_train\n",
    "                X_train_a = np.append(X_train_a, np.array([tmp]), axis=0)\n",
    "                y_train_a = np.append(y_train_a, cls)\n",
    "    # Save data into new file\n",
    "    outfile = open(AUG_TRAIN_FILE, 'wb')\n",
    "    train_aug = {'features': X_train_a, 'labels': y_train_a}\n",
    "    pickle.dump(train_aug, outfile)\n",
    "    outfile.close()\n",
    "    \n",
    "    # Rename new data\n",
    "    X_train = X_train_a\n",
    "    y_train = y_train_a\n",
    "    print(\"Data augmentation finished.\")\n",
    "\n",
    "\n"
   ]
  },
  {
   "cell_type": "markdown",
   "metadata": {},
   "source": [
    "### Data Augmentation & Pre-processing"
   ]
  },
  {
   "cell_type": "markdown",
   "metadata": {},
   "source": [
    "#### Fake data generation (Caution: takes a long time!)"
   ]
  },
  {
   "cell_type": "code",
   "execution_count": null,
   "metadata": {
    "ExecuteTime": {
     "end_time": "2017-07-02T11:39:45.151267Z",
     "start_time": "2017-07-02T11:39:44.440901Z"
    }
   },
   "outputs": [],
   "source": [
    "AUGMENT_DATA = False\n",
    "# Load or generate fake data\n",
    "if os.path.isfile(AUG_TRAIN_FILE) and\\\n",
    "            os.access(AUG_TRAIN_FILE, os.R_OK) and AUGMENT_DATA:\n",
    "    with open(AUG_TRAIN_FILE, mode='rb') as f:\n",
    "        train_a = pickle.load(f)\n",
    "        X_train_a, y_train_a = train_a['features'], train_a['labels']\n",
    "        X_train = X_train_a\n",
    "        y_train = y_train_a\n",
    "        X_train, y_train = shuffle(X_train, y_train)\n",
    "elif AUGMENT_DATA:\n",
    "    augment_data()\n",
    "    X_train, y_train = shuffle(X_train, y_train)\n",
    "else:\n",
    "    print(\"No data augmentation applied!\")\n",
    "\n",
    "# Histograms\n",
    "plot_histograms(n_classes)\n"
   ]
  },
  {
   "cell_type": "markdown",
   "metadata": {},
   "source": [
    "#### Normalization, grayscale"
   ]
  },
  {
   "cell_type": "code",
   "execution_count": null,
   "metadata": {
    "ExecuteTime": {
     "end_time": "2017-07-02T11:39:46.211652Z",
     "start_time": "2017-07-02T11:39:45.153060Z"
    }
   },
   "outputs": [],
   "source": [
    "### Preprocess the data here. It is required to normalize the data. Other preprocessing steps could include \n",
    "### converting to grayscale, etc.\n",
    "### Feel free to use as many code cells as needed.\n",
    "GRAY_MODE = False\n",
    "if GRAY_MODE:\n",
    "    X_train = np.dot(X_train[...,:3], [0.299, 0.587, 0.114])        \n",
    "    X_valid = np.dot(X_valid[...,:3], [0.299, 0.587, 0.114])\n",
    "    # add last channel\n",
    "    X_train = X_train.reshape(X_train.shape + (1,))\n",
    "    X_valid = X_valid.reshape(X_valid.shape + (1,))\n",
    "\n",
    "    \n",
    "## Scale features\n",
    "X_train = X_train.astype(np.float32)/255.0\n",
    "X_valid = X_valid.astype(np.float32)/255.0\n",
    "X_test  = X_test.astype(np.float32)/255.0\n",
    "\n",
    "X_train, y_train = shuffle(X_train, y_train)\n",
    "\n",
    "# Rescale intensity of training examples\n",
    "map(rescale_intensity, X_train)\n",
    "\n",
    "# Rescale intensity of validation examples\n",
    "map(rescale_intensity, X_valid)\n",
    "\n",
    "# Rescale intensity of test examples\n",
    "map(rescale_intensity, X_test)\n",
    "\n",
    "\n",
    "\n"
   ]
  },
  {
   "cell_type": "markdown",
   "metadata": {},
   "source": [
    "### Model Architecture"
   ]
  },
  {
   "cell_type": "markdown",
   "metadata": {},
   "source": [
    "#### Using Keras with TensorFlow backend"
   ]
  },
  {
   "cell_type": "code",
   "execution_count": null,
   "metadata": {
    "ExecuteTime": {
     "end_time": "2017-07-02T11:39:46.428639Z",
     "start_time": "2017-07-02T11:39:46.214663Z"
    },
    "collapsed": true,
    "scrolled": false
   },
   "outputs": [],
   "source": [
    "#Converts a class vector (integers) to binary class matrix.\n",
    "#E.g. for use with categorical_crossentropy.\n",
    "from keras.utils.np_utils import to_categorical\n",
    "y_train_cat = to_categorical(y_train, n_classes)\n",
    "y_valid_cat = to_categorical(y_valid, n_classes)\n",
    "y_test_cat  = to_categorical(y_test, n_classes)\n",
    "\n",
    "\n",
    "BATCH_SIZE_KE = 64\n",
    "EPOCHS_KE = 30\n",
    "SKIP_TRAINING = True\n",
    "learning_rate_ke = 0.01\n",
    "\n",
    "\n",
    "def save_model(model):\n",
    "    # serialize model to JSON\n",
    "    model_json = model.to_json()\n",
    "    with open(\"./cnnet/model.json\", \"w\") as json_file:\n",
    "        json_file.write(model_json)\n",
    "        \n",
    "    print(\"Model saved.\")\n",
    "\n",
    "# learning rate schedule\n",
    "    #http://machinelearningmastery.com/\n",
    "    #using-learning-rate-schedules-deep-learning-models-python-keras/\n",
    "def step2_decay(epoch):\n",
    "    initial_lrate = 0.1\n",
    "    drop = 0.5\n",
    "    epochs_drop = 10.0\n",
    "    lrate = initial_lrate * math.pow(drop, math.floor((1+epoch)/epochs_drop))\n",
    "    return lrate\n",
    "\n",
    "def step_decay(epoch):\n",
    "    drop = 0.1\n",
    "    epochs_drop = 10\n",
    "    return learning_rate_ke*math.pow(drop, math.floor(epoch/epochs_drop))\n",
    "    \n",
    "def myNet():\n",
    "    K.clear_session()\n",
    "    model = Sequential()\n",
    "    mu = 0\n",
    "    sigma = 0.1\n",
    "    \n",
    "    # L1: Conv2D\n",
    "    model.add(Conv2D(32, (3, 3), activation='relu',\n",
    "                    input_shape=(32, 32, X_train.shape[3]), padding='valid',\n",
    "                    #kernel_initializer=initializers.TruncatedNormal(stddev=sigma),\n",
    "                    use_bias=True,\n",
    "                    bias_initializer=initializers.Zeros(),\n",
    "                    name='conv2d_1'))\n",
    "\n",
    "    # L3: Conv2D   \n",
    "    model.add(Conv2D(32, (3, 3), activation='relu', padding='valid',\n",
    "                    #kernel_initializer=initializers.TruncatedNormal(stddev=sigma),\n",
    "                    use_bias=True,\n",
    "                    bias_initializer=initializers.Zeros(),\n",
    "                    name='conv2d_2'))\n",
    "\n",
    "    model.add(BatchNormalization(name='bn_1'))\n",
    "    # L4: MaxPool2D\n",
    "    model.add(MaxPool2D(pool_size=(2, 2), name='maxpool2d_1'))\n",
    "    model.add(Dropout(0.2, name=\"dp_1\"))\n",
    "    \n",
    "    # L6: Conv3D\n",
    "    model.add(Conv2D(64, (3, 3), activation='relu', padding='valid',\n",
    "                    #kernel_initializer=initializers.TruncatedNormal(stddev=sigma),\n",
    "                    use_bias=True,\n",
    "                    bias_initializer=initializers.Zeros(),\n",
    "                    name='conv2d_3'))\n",
    "    # L7: Conv2D\n",
    "    model.add(Conv2D(64, (3, 3), activation='relu', padding='valid',\n",
    "                     #kernel_initializer=initializers.TruncatedNormal(stddev=sigma),\n",
    "                     use_bias=True,\n",
    "                     bias_initializer=initializers.Zeros(),\n",
    "                     name='conv2d_4'))\n",
    "    # L8\n",
    "    model.add(BatchNormalization(name='bn_2'))\n",
    "    model.add(MaxPool2D(pool_size=(2, 2), name='maxpool2d_2'))\n",
    "    model.add(Dropout(0.2, name=\"dp_2\"))\n",
    "    \n",
    "    \n",
    "    # L12 Fully Connected\n",
    "    model.add(Dense(128, activation='relu',\n",
    "                    #kernel_initializer=initializers.TruncatedNormal(stddev=sigma),\n",
    "                    use_bias=True,\n",
    "                    bias_initializer=initializers.Zeros(),\n",
    "                    name='fc_1'))\n",
    "    # \n",
    "    model.add(Dense(128, activation='relu',\n",
    "                    #kernel_initializer=initializers.TruncatedNormal(stddev=sigma),\n",
    "                    use_bias=True,\n",
    "                    bias_initializer=initializers.Zeros(),\n",
    "                    name='fc_2'))\n",
    "    #\n",
    "    model.add(BatchNormalization(name='bn_3'))\n",
    "    model.add(MaxPool2D(pool_size=(2, 2), name='maxpool2d_3'))\n",
    "    model.add(Dropout(0.2, name=\"dp_3\"))\n",
    "\n",
    "    model.add(Flatten(name='fln_1'))\n",
    "    model.add(Dense(512, activation='relu',\n",
    "                    #kernel_initializer=initializers.TruncatedNormal(stddev=sigma),\n",
    "                    use_bias=True,\n",
    "                    bias_initializer=initializers.Zeros(),\n",
    "                    name='fc_3'))\n",
    "    model.add(Dropout(0.5, name='dp_4'))\n",
    "    \n",
    "    #L14 Fully Connected\n",
    "    model.add(Dense(n_classes,\n",
    "                    #kernel_initializer=initializers.TruncatedNormal(stddev=sigma),\n",
    "                    use_bias=True, \n",
    "                    bias_initializer=initializers.Zeros(),\n",
    "                    activation='softmax',\n",
    "                    name='fc_4'))\n",
    "    return model \n",
    "    \n"
   ]
  },
  {
   "cell_type": "markdown",
   "metadata": {},
   "source": [
    "#### Train Model"
   ]
  },
  {
   "cell_type": "code",
   "execution_count": null,
   "metadata": {
    "ExecuteTime": {
     "end_time": "2017-07-02T11:39:46.501100Z",
     "start_time": "2017-07-02T11:39:46.430479Z"
    },
    "collapsed": true
   },
   "outputs": [],
   "source": [
    "if not SKIP_TRAINING:\n",
    "    model = myNet()\n",
    "\n",
    "    # for SGD optimizer\n",
    "    lrate = LearningRateScheduler(step_decay)\n",
    "    sgd_op = optimizers.SGD(lr=learning_rate_ke, momentum=0.9, nesterov=True)\n",
    "\n",
    "    # Adam optimizer\n",
    "    adam_op = optimizers.Adam(lr=learning_rate_ke, beta_1=0.9,\n",
    "                              beta_2=0.999, epsilon=1e-08, decay=0.0)\n",
    "\n",
    "    #\n",
    "    model.compile(loss='categorical_crossentropy',\n",
    "                  optimizer=sgd_op,\n",
    "                  metrics=['accuracy'])\n",
    "\n",
    "    ## Model Summary\n",
    "    model.summary()\n",
    "\n",
    "    ## Save the model\n",
    "    save_model(model)\n",
    "\n",
    "    ## Checkpoint\n",
    "    filepath=\"./weights/w-improvement-{epoch:02d}-{val_acc:.2f}.hdf5\"\n",
    "    checkpointer = ModelCheckpoint(filepath, monitor='val_acc', verbose=1,\\\n",
    "                                    save_best_only=True)\n",
    "\n",
    "    # Callback list\n",
    "    callbacks_list = [checkpointer, lrate]\n",
    "    hist = None\n",
    "    hist_file = \"./cnnet/history.p\"\n",
    "    h_saved = False\n",
    "\n",
    "    try:\n",
    "        hist = model.fit(X_train, y_train_cat, batch_size=BATCH_SIZE_KE,\\\n",
    "                      validation_data=(X_valid, y_valid_cat),\\\n",
    "                      epochs=EPOCHS_KE, verbose=1, shuffle=True,\\\n",
    "                      callbacks=callbacks_list)\n",
    "\n",
    "    except KeyboardInterrupt:\n",
    "        print(\"Training aborted by user\")\n",
    "        out_tr_file = open(hist_file, 'wb')\n",
    "        hist_container = {'acc': hist.history['acc'], 'val_acc': hist.history['val_acc'],\\\n",
    "                      'loss': hist.history['loss'], 'val_loss': hist.history['val_loss']}\n",
    "        pickle.dump(hist_container, out_tr_file)\n",
    "        out_tr_file.close()\n",
    "        h_saved = True\n",
    "        print(\"Training history saved.\")\n",
    "\n",
    "    if not h_saved:\n",
    "        ## Save history to file\n",
    "        out_tr_file = open(hist_file, 'wb')\n",
    "        hist_container = {'acc': hist.history['acc'], 'val_acc': hist.history['val_acc'],\\\n",
    "                      'loss': hist.history['loss'], 'val_loss': hist.history['val_loss']}\n",
    "        pickle.dump(hist_container, out_tr_file)\n",
    "        out_tr_file.close()\n",
    "        print(\"Training history saved.\")\n"
   ]
  },
  {
   "cell_type": "markdown",
   "metadata": {},
   "source": [
    "#### Plot accuracy and losses"
   ]
  },
  {
   "cell_type": "code",
   "execution_count": null,
   "metadata": {
    "ExecuteTime": {
     "end_time": "2017-07-02T11:39:46.995617Z",
     "start_time": "2017-07-02T11:39:46.503126Z"
    },
    "scrolled": false
   },
   "outputs": [],
   "source": [
    "## Load history form drive\n",
    "tr_hist = None\n",
    "with open(\"./cnnet/history.p\", mode='rb') as f:\n",
    "    tr_hist = pickle.load(f)\n",
    "\n",
    "plt.figure(num=3, figsize=(12, 12))     \n",
    "# summarize history for accuracy  \n",
    "plt.subplot(211)  \n",
    "plt.plot(tr_hist['acc'])  \n",
    "\n",
    "plt.plot(tr_hist['val_acc'])  \n",
    "plt.title('model accuracy')  \n",
    "plt.ylabel('accuracy')  \n",
    "plt.xlabel('epoch')  \n",
    "plt.legend(['train', 'valid'], loc='lower right')  \n",
    "\n",
    "# summarize history for loss  \n",
    "plt.subplot(212)  \n",
    "plt.plot(tr_hist['loss'])  \n",
    "plt.plot(tr_hist['val_loss'])  \n",
    "plt.title('model loss')  \n",
    "plt.ylabel('loss')  \n",
    "plt.xlabel('epoch')  \n",
    "plt.legend(['train', 'valid'], loc='upper right')  \n",
    "plt.show()  \n"
   ]
  },
  {
   "cell_type": "markdown",
   "metadata": {},
   "source": [
    "#### Prediction on test samples and analysis (confusion matrix, classification report)"
   ]
  },
  {
   "cell_type": "code",
   "execution_count": null,
   "metadata": {
    "ExecuteTime": {
     "end_time": "2017-07-02T11:40:10.670038Z",
     "start_time": "2017-07-02T11:39:46.997488Z"
    }
   },
   "outputs": [],
   "source": [
    "label_desc = [\"%s - %2d\"%(signnames['SignName'][label], label) for label in range(0, 43)]\n",
    "\n",
    "# myNet instance\n",
    "test_model = myNet()\n",
    "# Load weights\n",
    "test_model.load_weights(\"./weights/w-improvement-20-0.99.hdf5\")\n",
    "print(\"Weights loaded.\")\n",
    "\n",
    "# Get predictions\n",
    "y_pred = test_model.predict_classes(X_test, verbose=1)\n",
    "# Evaluate model\n",
    "te_acc = np.sum(y_pred == y_test)/np.size(y_pred)\n",
    "print('\\nModel - Test accuracy: {}%\\n'.format(te_acc*100))\n",
    "\n",
    "# Confusion matrix\n",
    "cm = confusion_matrix(y_test, y_pred, labels=[label for label in range(0, 43)])\n",
    "\n",
    "# Save confusion matrix\n",
    "with open(\"./cnnet/confusion_matrix.csv\", \"wb\") as f:\n",
    "    np.savetxt(f, cm.astype(int), fmt='%i', delimiter=\";\")\n",
    "\n",
    "    "
   ]
  },
  {
   "cell_type": "markdown",
   "metadata": {},
   "source": [
    "#### Plot confusion matrix"
   ]
  },
  {
   "cell_type": "code",
   "execution_count": null,
   "metadata": {
    "ExecuteTime": {
     "end_time": "2017-07-02T11:40:11.509427Z",
     "start_time": "2017-07-02T11:40:10.672225Z"
    },
    "scrolled": false
   },
   "outputs": [],
   "source": [
    "def plot_confusion_matrix(conf_mat, labels, n_classes=43):\n",
    "    \n",
    "    plt.figure(num=4, figsize=(13, 10))   \n",
    "    plt.imshow(cm, interpolation='nearest', cmap=plt.cm.binary)\n",
    "    plt.tight_layout()\n",
    "    plt.colorbar()\n",
    "    tick_marks = np.arange(n_classes)\n",
    "    plt.xticks(tick_marks, range(n_classes))\n",
    "    plt.yticks(tick_marks, tuple(labels))\n",
    "    plt.xlabel('Predicted label')\n",
    "    plt.ylabel('True label')\n",
    "\n",
    "plot_confusion_matrix(cm, label_desc)"
   ]
  },
  {
   "cell_type": "markdown",
   "metadata": {},
   "source": [
    "---\n",
    "\n",
    "## Step 3: Test a Model on New Images\n",
    "\n",
    "To give yourself more insight into how your model is working, download at least five pictures of German traffic signs from the web and use your model to predict the traffic sign type.\n",
    "\n",
    "You may find `signnames.csv` useful as it contains mappings from the class id (integer) to the actual sign name."
   ]
  },
  {
   "cell_type": "markdown",
   "metadata": {},
   "source": [
    "### Load and Output the Images"
   ]
  },
  {
   "cell_type": "code",
   "execution_count": null,
   "metadata": {
    "ExecuteTime": {
     "end_time": "2017-07-02T12:12:13.943454Z",
     "start_time": "2017-07-02T12:12:13.505502Z"
    },
    "scrolled": false
   },
   "outputs": [],
   "source": [
    "import scipy.ndimage as skimg\n",
    "\n",
    "plt.figure(num=5, figsize=(5, 5))    \n",
    "plt.subplots_adjust(hspace = .2, wspace = .5)\n",
    "plt.subplot(231)\n",
    "plt.title('1')\n",
    "img = skimg.imread(\"./test_signs/1.png\")\n",
    "plt.imshow(img)\n",
    "\n",
    "plt.subplot(232)\n",
    "plt.title('2')\n",
    "img = skimg.imread(\"./test_signs/2.png\")\n",
    "plt.imshow(img)\n",
    "\n",
    "\n",
    "plt.subplot(233)\n",
    "plt.title('3')\n",
    "img = skimg.imread(\"./test_signs/3.png\")\n",
    "plt.imshow(img)\n",
    "\n",
    "plt.subplot(234)\n",
    "plt.title('4')\n",
    "img = skimg.imread(\"./test_signs/4.png\")\n",
    "plt.imshow(img)\n",
    "\n",
    "plt.subplot(235)\n",
    "plt.title('5')\n",
    "img = skimg.imread(\"./test_signs/5.png\")\n",
    "plt.imshow(img)\n"
   ]
  },
  {
   "cell_type": "markdown",
   "metadata": {},
   "source": [
    "### Predict the Sign Type for Each Image"
   ]
  },
  {
   "cell_type": "code",
   "execution_count": null,
   "metadata": {
    "ExecuteTime": {
     "end_time": "2017-07-02T12:12:17.291224Z",
     "start_time": "2017-07-02T12:12:17.251586Z"
    }
   },
   "outputs": [],
   "source": [
    "# Load and preprocess X_extra\n",
    "# Load test image into X_extra\n",
    "img_data = []\n",
    "for f_index in range(1, 6):\n",
    "    img_data.append(skimg.imread(\"./test_signs/%d.png\"%f_index))\n",
    "X_extra = np.array(img_data)\n",
    "\n",
    "# Set label\n",
    "y_extra = np.array([23, 38, 13, 35, 31])\n",
    "\n",
    "# Preprocess X_extra\n",
    "X_extra = X_extra.astype(np.float32)/255.0\n",
    "map(rescale_intensity, X_extra)\n",
    "\n",
    "# Prediction\n",
    "y_pred_extra = test_model.predict_classes(X_extra, verbose=1)\n",
    "\n",
    "# Results\n",
    "format_values = lambda x, y: print(\"|   {}   |     {}    |\".format(x, y))\n",
    "print(\"Predictions:\")\n",
    "print(22*'-')\n",
    "print(\"| Target | Pediction |\")\n",
    "print(22*'-')\n",
    "for index in range(len(y_extra)):\n",
    "    format_values(y_extra[index], y_pred_extra[index])\n",
    "print(22*'-')\n"
   ]
  },
  {
   "cell_type": "markdown",
   "metadata": {},
   "source": [
    "### Analyze Performance"
   ]
  },
  {
   "cell_type": "code",
   "execution_count": null,
   "metadata": {
    "ExecuteTime": {
     "end_time": "2017-07-02T12:13:09.185977Z",
     "start_time": "2017-07-02T12:13:09.170816Z"
    }
   },
   "outputs": [],
   "source": [
    "_acc = y_pred_extra == y_extra\n",
    "extra_acc = np.sum(_acc)/np.size(y_extra)\n",
    "# Results\n",
    "format_values = lambda x, y, z: print(\"|     {}     |       {}      |  {}  |\".format(x, y, z))\n",
    "print(\"Predictions:\")\n",
    "print(39*'-')\n",
    "print(\"| Target (T) | Pediction (P) | T == P |\")\n",
    "print(39*'-')\n",
    "for index in range(len(y_extra)):\n",
    "    format_values(y_extra[index], y_pred_extra[index], _acc[index])\n",
    "print(39*'-')\n",
    "print('\\nModel - Accuracy for downloaded signs: {}% \\n'.format(extra_acc*100))"
   ]
  },
  {
   "cell_type": "markdown",
   "metadata": {},
   "source": [
    "### Output Top 5 Softmax Probabilities For Each Image Found on the Web"
   ]
  },
  {
   "cell_type": "code",
   "execution_count": null,
   "metadata": {
    "ExecuteTime": {
     "end_time": "2017-07-02T13:31:43.005507Z",
     "start_time": "2017-07-02T13:31:42.963780Z"
    }
   },
   "outputs": [],
   "source": [
    "nb_of_largest_prob = 5\n",
    "for index in range(len(X_extra)):\n",
    "    # calculate the probabilities \n",
    "    print(\"{} Largest probabilities for value with Target: {} \".format(nb_of_largest_prob,\n",
    "                                                                       y_extra[index]))\n",
    "    print(55*'-')\n",
    "    tmp_prob_extra = test_model.predict(np.array([X_extra[index]]), verbose=0)\n",
    "    # sorted probabilities\n",
    "    probs = tmp_prob_extra.argsort()[-nb_of_largest_prob:][::-1]\n",
    "    # convert to simple list with 1 dimension\n",
    "    probs = probs.tolist()[0]\n",
    "    \n",
    "    #sub_index [-nb_of_largest_prob, -1]\n",
    "    for sub_index in range(-nb_of_largest_prob, 0, 1): \n",
    "        curr_label = probs[len(probs)+sub_index]\n",
    "        print (\"{} - {}\".format(tmp_prob_extra[0][curr_label],\n",
    "                                     signnames[\"SignName\"][curr_label]))\n",
    "    print(55*'-')\n",
    "    print()\n",
    "    "
   ]
  },
  {
   "cell_type": "markdown",
   "metadata": {},
   "source": [
    "### Project Writeup\n",
    "\n",
    "Once you have completed the code implementation, document your results in a project writeup using this [template](https://github.com/udacity/CarND-Traffic-Sign-Classifier-Project/blob/master/writeup_template.md) as a guide. The writeup can be in a markdown or pdf file. "
   ]
  },
  {
   "cell_type": "markdown",
   "metadata": {},
   "source": [
    "> **Note**: Once you have completed all of the code implementations and successfully answered each question above, you may finalize your work by exporting the iPython Notebook as an HTML document. You can do this by using the menu above and navigating to  \\n\",\n",
    "    \"**File -> Download as -> HTML (.html)**. Include the finished document along with this notebook as your submission."
   ]
  }
 ],
 "metadata": {
  "anaconda-cloud": {},
  "kernelspec": {
   "display_name": "Python 3",
   "language": "python",
   "name": "python3"
  },
  "language_info": {
   "codemirror_mode": {
    "name": "ipython",
    "version": 3
   },
   "file_extension": ".py",
   "mimetype": "text/x-python",
   "name": "python",
   "nbconvert_exporter": "python",
   "pygments_lexer": "ipython3",
   "version": "3.5.2"
  },
  "toc": {
   "colors": {
    "hover_highlight": "#DAA520",
    "navigate_num": "#000000",
    "navigate_text": "#333333",
    "running_highlight": "#FF0000",
    "selected_highlight": "#FFD700",
    "sidebar_border": "#EEEEEE",
    "wrapper_background": "#FFFFFF"
   },
   "moveMenuLeft": true,
   "nav_menu": {
    "height": "480px",
    "width": "252px"
   },
   "navigate_menu": true,
   "number_sections": true,
   "sideBar": true,
   "threshold": 4,
   "toc_cell": false,
   "toc_position": {
    "height": "1128px",
    "left": "0px",
    "right": "1061.4px",
    "top": "109px",
    "width": "264px"
   },
   "toc_section_display": "block",
   "toc_window_display": true,
   "widenNotebook": false
  },
  "varInspector": {
   "cols": {
    "lenName": 16,
    "lenType": 16,
    "lenVar": 40
   },
   "kernels_config": {
    "python": {
     "delete_cmd_postfix": "",
     "delete_cmd_prefix": "del ",
     "library": "var_list.py",
     "varRefreshCmd": "print(var_dic_list())"
    },
    "r": {
     "delete_cmd_postfix": ") ",
     "delete_cmd_prefix": "rm(",
     "library": "var_list.r",
     "varRefreshCmd": "cat(var_dic_list()) "
    }
   },
   "types_to_exclude": [
    "module",
    "function",
    "builtin_function_or_method",
    "instance",
    "_Feature"
   ],
   "window_display": false
  },
  "widgets": {
   "state": {
    "14a4c7b1d3244e34956f0f004126fb05": {
     "views": []
    },
    "7767145444d24d6d98965510e57958ce": {
     "views": []
    },
    "95e183c8d708472797686e05ebff3e28": {
     "views": []
    },
    "b94b7dcf5de54abdb55ce88a5e782f1a": {
     "views": [
      {
       "cell_index": 12
      }
     ]
    },
    "d012c32c98584507b4de36d2cd41f54f": {
     "views": []
    },
    "d3890120046f41989019a9deb08944d6": {
     "views": []
    },
    "df1237617cef43f0945c7a8479e32de4": {
     "views": [
      {
       "cell_index": 12
      }
     ]
    },
    "ea8b423f41ad4e2da063fccdafede581": {
     "views": []
    },
    "eb821bf69ce549a7979825bfc713640a": {
     "views": []
    },
    "f1a0f85163de4ada88fb951caef0ee10": {
     "views": []
    }
   },
   "version": "1.1.2"
  }
 },
 "nbformat": 4,
 "nbformat_minor": 1
}
